{
  "nbformat": 4,
  "nbformat_minor": 0,
  "metadata": {
    "kernelspec": {
      "language": "python",
      "display_name": "Python 3",
      "name": "python3"
    },
    "language_info": {
      "name": "python",
      "version": "3.7.9",
      "mimetype": "text/x-python",
      "codemirror_mode": {
        "name": "ipython",
        "version": 3
      },
      "pygments_lexer": "ipython3",
      "nbconvert_exporter": "python",
      "file_extension": ".py"
    },
    "colab": {
      "provenance": [],
      "collapsed_sections": []
    }
  },
  "cells": [
    {
      "cell_type": "markdown",
      "metadata": {
        "id": "e1gNZc8MRnsA"
      },
      "source": [
        "#### Development of an algorithm for constructing academic disciplines embeddings.\n",
        "\n",
        "The task objective is to create a model which can transform academic discipline into embedding based on its various available descriptions, including bibliographies of courses, keywords in descriptions, etc. The dataset for classification consists of features compiled from the discipline descriptions and dependencies identified using latent semantic indexing. A neural network was trained and applied to a dataset to solve the task and was assessed in comparison to the baseline (logistic regression). The neural network produced embeddings from compiled dataset similar to which it was trained on.   \n",
        "The obtained embeddings were reduced using SVD and the optimal hard threshold for singular values. The experimentations with UMAP and autoencoder did not give the desired effects. The resulting vector space made it possible to solve applied problems, for example, the search for similar disciplines.  "
      ]
    },
    {
      "cell_type": "code",
      "metadata": {
        "trusted": true,
        "id": "iK60l8RuUsNE"
      },
      "source": [
        "!pip install tensorflow_text>=2.0.0rc0 "
      ],
      "execution_count": null,
      "outputs": []
    },
    {
      "cell_type": "code",
      "metadata": {
        "trusted": true,
        "id": "tsCqb0zKUsNF"
      },
      "source": [
        "!pip install -q wget\n",
        "!pip install -q ufal.udpipe"
      ],
      "execution_count": null,
      "outputs": []
    },
    {
      "cell_type": "code",
      "metadata": {
        "id": "RHfKAqaTGroz"
      },
      "source": [
        "!pip install umap-learn"
      ],
      "execution_count": null,
      "outputs": []
    },
    {
      "cell_type": "code",
      "metadata": {
        "trusted": true,
        "id": "MHMTEpPeUsNF"
      },
      "source": [
        "import os\n",
        "import re\n",
        "import sys\n",
        "import wget\n",
        "import keras\n",
        "import numpy as np\n",
        "import pandas as pd\n",
        "import tensorflow_text\n",
        "import tensorflow as tf\n",
        "import scipy.integrate as si\n",
        "import tensorflow_hub as hub\n",
        "\n",
        "from keras.layers import Dense\n",
        "from collections import Counter\n",
        "from nltk.corpus import stopwords\n",
        "from keras.models import Sequential\n",
        "from matplotlib import pyplot as plt\n",
        "from ufal.udpipe import Model, Pipeline\n",
        "from sklearn.metrics import roc_auc_score\n",
        "from scipy.spatial.distance import cosine\n",
        "from sklearn.metrics import mean_squared_error\n",
        "from sklearn.metrics import mean_absolute_error\n",
        "from sklearn.model_selection import train_test_split\n",
        "from sklearn.linear_model import LogisticRegressionCV\n",
        "from sklearn.feature_extraction.text import CountVectorizer"
      ],
      "execution_count": null,
      "outputs": []
    },
    {
      "cell_type": "code",
      "metadata": {
        "trusted": true,
        "id": "jDYygrkVUsNG"
      },
      "source": [
        "udpipe_model_url = 'https://rusvectores.org/static/models/udpipe_syntagrus.model'\n",
        "udpipe_filename = udpipe_model_url.split('/')[-1]\n",
        "\n",
        "if not os.path.isfile(udpipe_filename):\n",
        "    wget.download(udpipe_model_url)\n",
        "\n",
        "model = Model.load(udpipe_filename)\n",
        "process_pipeline = Pipeline(model,\n",
        "                            'tokenize',\n",
        "                            Pipeline.DEFAULT,\n",
        "                            Pipeline.DEFAULT,\n",
        "                            'conllu')"
      ],
      "execution_count": null,
      "outputs": []
    },
    {
      "cell_type": "code",
      "metadata": {
        "trusted": true,
        "id": "Jut08LSPUsNH"
      },
      "source": [
        "embed = hub.load('https://tfhub.dev/google/universal-sentence-encoder-multilingual-large/3')"
      ],
      "execution_count": null,
      "outputs": []
    },
    {
      "cell_type": "markdown",
      "metadata": {
        "id": "NYAfbKJbTHi9"
      },
      "source": [
        "Key phrases which describe disciplines"
      ]
    },
    {
      "cell_type": "code",
      "metadata": {
        "trusted": true,
        "id": "7oiGXXQFUsNH"
      },
      "source": [
        "items = pd.read_csv('/content/drive/MyDrive/Colab Notebooks/discipline embeddings/new_items.txt', sep=';')\n",
        "items.dropna(subset=['name'], inplace=True)"
      ],
      "execution_count": null,
      "outputs": []
    },
    {
      "cell_type": "code",
      "metadata": {
        "colab": {
          "base_uri": "https://localhost:8080/",
          "height": 415
        },
        "id": "8TxiHXXWQu4a",
        "outputId": "ccc76a23-6c3b-49ba-9d8d-4889e12cb4eb"
      },
      "source": [
        "items"
      ],
      "execution_count": null,
      "outputs": [
        {
          "output_type": "execute_result",
          "data": {
            "text/html": [
              "<div>\n",
              "<style scoped>\n",
              "    .dataframe tbody tr th:only-of-type {\n",
              "        vertical-align: middle;\n",
              "    }\n",
              "\n",
              "    .dataframe tbody tr th {\n",
              "        vertical-align: top;\n",
              "    }\n",
              "\n",
              "    .dataframe thead th {\n",
              "        text-align: right;\n",
              "    }\n",
              "</style>\n",
              "<table border=\"1\" class=\"dataframe\">\n",
              "  <thead>\n",
              "    <tr style=\"text-align: right;\">\n",
              "      <th></th>\n",
              "      <th>id</th>\n",
              "      <th>name</th>\n",
              "      <th>value</th>\n",
              "      <th>source</th>\n",
              "      <th>author_id</th>\n",
              "      <th>domain_id</th>\n",
              "    </tr>\n",
              "  </thead>\n",
              "  <tbody>\n",
              "    <tr>\n",
              "      <th>0</th>\n",
              "      <td>150</td>\n",
              "      <td>Эйлеровы графы</td>\n",
              "      <td>16</td>\n",
              "      <td>uploaded</td>\n",
              "      <td>1.0</td>\n",
              "      <td>15.0</td>\n",
              "    </tr>\n",
              "    <tr>\n",
              "      <th>1</th>\n",
              "      <td>151</td>\n",
              "      <td>Эйлеров цикл</td>\n",
              "      <td>16</td>\n",
              "      <td>uploaded</td>\n",
              "      <td>1.0</td>\n",
              "      <td>15.0</td>\n",
              "    </tr>\n",
              "    <tr>\n",
              "      <th>2</th>\n",
              "      <td>152</td>\n",
              "      <td>Эйлеров путь</td>\n",
              "      <td>16</td>\n",
              "      <td>uploaded</td>\n",
              "      <td>1.0</td>\n",
              "      <td>15.0</td>\n",
              "    </tr>\n",
              "    <tr>\n",
              "      <th>3</th>\n",
              "      <td>153</td>\n",
              "      <td>Эйлеровость орграфов</td>\n",
              "      <td>16</td>\n",
              "      <td>uploaded</td>\n",
              "      <td>1.0</td>\n",
              "      <td>15.0</td>\n",
              "    </tr>\n",
              "    <tr>\n",
              "      <th>4</th>\n",
              "      <td>155</td>\n",
              "      <td>Графы де Брюина</td>\n",
              "      <td>16</td>\n",
              "      <td>uploaded</td>\n",
              "      <td>1.0</td>\n",
              "      <td>15.0</td>\n",
              "    </tr>\n",
              "    <tr>\n",
              "      <th>...</th>\n",
              "      <td>...</td>\n",
              "      <td>...</td>\n",
              "      <td>...</td>\n",
              "      <td>...</td>\n",
              "      <td>...</td>\n",
              "      <td>...</td>\n",
              "    </tr>\n",
              "    <tr>\n",
              "      <th>18342</th>\n",
              "      <td>14433</td>\n",
              "      <td>Методы познания на теоретическом уровне</td>\n",
              "      <td>-1</td>\n",
              "      <td>NaN</td>\n",
              "      <td>NaN</td>\n",
              "      <td>NaN</td>\n",
              "    </tr>\n",
              "    <tr>\n",
              "      <th>18343</th>\n",
              "      <td>18909</td>\n",
              "      <td>Многослойный персептрон</td>\n",
              "      <td>2</td>\n",
              "      <td>NaN</td>\n",
              "      <td>NaN</td>\n",
              "      <td>14.0</td>\n",
              "    </tr>\n",
              "    <tr>\n",
              "      <th>18344</th>\n",
              "      <td>18910</td>\n",
              "      <td>Нейронные сети на основе радиальных базисных ф...</td>\n",
              "      <td>2</td>\n",
              "      <td>NaN</td>\n",
              "      <td>NaN</td>\n",
              "      <td>14.0</td>\n",
              "    </tr>\n",
              "    <tr>\n",
              "      <th>18345</th>\n",
              "      <td>18912</td>\n",
              "      <td>Конкурентное обучение</td>\n",
              "      <td>2</td>\n",
              "      <td>NaN</td>\n",
              "      <td>NaN</td>\n",
              "      <td>14.0</td>\n",
              "    </tr>\n",
              "    <tr>\n",
              "      <th>18346</th>\n",
              "      <td>18559</td>\n",
              "      <td>Химический состав нутриентов</td>\n",
              "      <td>2</td>\n",
              "      <td>NaN</td>\n",
              "      <td>NaN</td>\n",
              "      <td>59.0</td>\n",
              "    </tr>\n",
              "  </tbody>\n",
              "</table>\n",
              "<p>18346 rows × 6 columns</p>\n",
              "</div>"
            ],
            "text/plain": [
              "          id  ... domain_id\n",
              "0        150  ...      15.0\n",
              "1        151  ...      15.0\n",
              "2        152  ...      15.0\n",
              "3        153  ...      15.0\n",
              "4        155  ...      15.0\n",
              "...      ...  ...       ...\n",
              "18342  14433  ...       NaN\n",
              "18343  18909  ...      14.0\n",
              "18344  18910  ...      14.0\n",
              "18345  18912  ...      14.0\n",
              "18346  18559  ...      59.0\n",
              "\n",
              "[18346 rows x 6 columns]"
            ]
          },
          "metadata": {
            "tags": []
          },
          "execution_count": 10
        }
      ]
    },
    {
      "cell_type": "markdown",
      "metadata": {
        "id": "SKBdpGd_TUg6"
      },
      "source": [
        "Disciplines"
      ]
    },
    {
      "cell_type": "code",
      "metadata": {
        "trusted": true,
        "id": "TGQffbavUsNK"
      },
      "source": [
        "disciplines = pd.read_csv('/content/drive/MyDrive/Colab Notebooks/discipline embeddings/new_disciplines.txt', sep=';')"
      ],
      "execution_count": null,
      "outputs": []
    },
    {
      "cell_type": "code",
      "metadata": {
        "colab": {
          "base_uri": "https://localhost:8080/",
          "height": 938
        },
        "id": "fnal1nRdQ3RR",
        "outputId": "be097ee7-12ef-4ba4-b373-ec2c82b2549a"
      },
      "source": [
        "disciplines.sample(1).T"
      ],
      "execution_count": null,
      "outputs": [
        {
          "output_type": "execute_result",
          "data": {
            "text/html": [
              "<div>\n",
              "<style scoped>\n",
              "    .dataframe tbody tr th:only-of-type {\n",
              "        vertical-align: middle;\n",
              "    }\n",
              "\n",
              "    .dataframe tbody tr th {\n",
              "        vertical-align: top;\n",
              "    }\n",
              "\n",
              "    .dataframe thead th {\n",
              "        text-align: right;\n",
              "    }\n",
              "</style>\n",
              "<table border=\"1\" class=\"dataframe\">\n",
              "  <thead>\n",
              "    <tr style=\"text-align: right;\">\n",
              "      <th></th>\n",
              "      <th>4239</th>\n",
              "    </tr>\n",
              "  </thead>\n",
              "  <tbody>\n",
              "    <tr>\n",
              "      <th>id</th>\n",
              "      <td>6214</td>\n",
              "    </tr>\n",
              "    <tr>\n",
              "      <th>title</th>\n",
              "      <td>Расширенный курс инженерного производства / Ad...</td>\n",
              "    </tr>\n",
              "    <tr>\n",
              "      <th>hoursFirstSemester</th>\n",
              "      <td>NaN</td>\n",
              "    </tr>\n",
              "    <tr>\n",
              "      <th>hoursSecondSemester</th>\n",
              "      <td>NaN</td>\n",
              "    </tr>\n",
              "    <tr>\n",
              "      <th>qualification</th>\n",
              "      <td>master</td>\n",
              "    </tr>\n",
              "    <tr>\n",
              "      <th>discipline_code</th>\n",
              "      <td>07.2.6.158.20</td>\n",
              "    </tr>\n",
              "    <tr>\n",
              "      <th>approval_date</th>\n",
              "      <td>2020-08-05 17:29:40.201149+03</td>\n",
              "    </tr>\n",
              "    <tr>\n",
              "      <th>authors</th>\n",
              "      <td>NaN</td>\n",
              "    </tr>\n",
              "    <tr>\n",
              "      <th>description</th>\n",
              "      <td>NaN</td>\n",
              "    </tr>\n",
              "    <tr>\n",
              "      <th>video</th>\n",
              "      <td>NaN</td>\n",
              "    </tr>\n",
              "    <tr>\n",
              "      <th>subject_code</th>\n",
              "      <td>13</td>\n",
              "    </tr>\n",
              "    <tr>\n",
              "      <th>credit_units</th>\n",
              "      <td>0,0,3,0,0,0,0,0,0,0,0,0</td>\n",
              "    </tr>\n",
              "    <tr>\n",
              "      <th>semester_hour</th>\n",
              "      <td>NaN</td>\n",
              "    </tr>\n",
              "    <tr>\n",
              "      <th>owner_id</th>\n",
              "      <td>NaN</td>\n",
              "    </tr>\n",
              "    <tr>\n",
              "      <th>work_status</th>\n",
              "      <td>w</td>\n",
              "    </tr>\n",
              "    <tr>\n",
              "      <th>hours</th>\n",
              "      <td>NaN</td>\n",
              "    </tr>\n",
              "    <tr>\n",
              "      <th>extra_points</th>\n",
              "      <td>NaN</td>\n",
              "    </tr>\n",
              "    <tr>\n",
              "      <th>language</th>\n",
              "      <td>en</td>\n",
              "    </tr>\n",
              "    <tr>\n",
              "      <th>structural_unit_id</th>\n",
              "      <td>2</td>\n",
              "    </tr>\n",
              "    <tr>\n",
              "      <th>have_course_project</th>\n",
              "      <td>NaN</td>\n",
              "    </tr>\n",
              "    <tr>\n",
              "      <th>have_diff_pass</th>\n",
              "      <td>NaN</td>\n",
              "    </tr>\n",
              "    <tr>\n",
              "      <th>have_exam</th>\n",
              "      <td>NaN</td>\n",
              "    </tr>\n",
              "    <tr>\n",
              "      <th>have_pass</th>\n",
              "      <td>NaN</td>\n",
              "    </tr>\n",
              "    <tr>\n",
              "      <th>lab_hours</th>\n",
              "      <td>0.0,0.0,0.0,0.0,0.0,0.0,0.0,0.0,0.0,0.0</td>\n",
              "    </tr>\n",
              "    <tr>\n",
              "      <th>lecture_hours</th>\n",
              "      <td>0.0,0.0,16.0,0.0,0.0,0.0,0.0,0.0,0.0,0.0</td>\n",
              "    </tr>\n",
              "    <tr>\n",
              "      <th>old_discipline_code</th>\n",
              "      <td>07.2.6.108.20</td>\n",
              "    </tr>\n",
              "    <tr>\n",
              "      <th>practice_hours</th>\n",
              "      <td>0.0,0.0,16.0,0.0,0.0,0.0,0.0,0.0,0.0,0.0</td>\n",
              "    </tr>\n",
              "    <tr>\n",
              "      <th>srs_hours</th>\n",
              "      <td>0.0,0.0,72.8,0.0,0.0,0.0,0.0,0.0,0.0,0.0</td>\n",
              "    </tr>\n",
              "    <tr>\n",
              "      <th>wp_isu_id</th>\n",
              "      <td>34486</td>\n",
              "    </tr>\n",
              "  </tbody>\n",
              "</table>\n",
              "</div>"
            ],
            "text/plain": [
              "                                                                  4239\n",
              "id                                                                6214\n",
              "title                Расширенный курс инженерного производства / Ad...\n",
              "hoursFirstSemester                                                 NaN\n",
              "hoursSecondSemester                                                NaN\n",
              "qualification                                                   master\n",
              "discipline_code                                          07.2.6.158.20\n",
              "approval_date                            2020-08-05 17:29:40.201149+03\n",
              "authors                                                            NaN\n",
              "description                                                        NaN\n",
              "video                                                              NaN\n",
              "subject_code                                                        13\n",
              "credit_units                                   0,0,3,0,0,0,0,0,0,0,0,0\n",
              "semester_hour                                                      NaN\n",
              "owner_id                                                           NaN\n",
              "work_status                                                          w\n",
              "hours                                                              NaN\n",
              "extra_points                                                       NaN\n",
              "language                                                            en\n",
              "structural_unit_id                                                   2\n",
              "have_course_project                                                NaN\n",
              "have_diff_pass                                                     NaN\n",
              "have_exam                                                          NaN\n",
              "have_pass                                                          NaN\n",
              "lab_hours                      0.0,0.0,0.0,0.0,0.0,0.0,0.0,0.0,0.0,0.0\n",
              "lecture_hours                 0.0,0.0,16.0,0.0,0.0,0.0,0.0,0.0,0.0,0.0\n",
              "old_discipline_code                                      07.2.6.108.20\n",
              "practice_hours                0.0,0.0,16.0,0.0,0.0,0.0,0.0,0.0,0.0,0.0\n",
              "srs_hours                     0.0,0.0,72.8,0.0,0.0,0.0,0.0,0.0,0.0,0.0\n",
              "wp_isu_id                                                        34486"
            ]
          },
          "metadata": {
            "tags": []
          },
          "execution_count": 11
        }
      ]
    },
    {
      "cell_type": "code",
      "metadata": {
        "colab": {
          "base_uri": "https://localhost:8080/"
        },
        "id": "1e_67q_ERJz4",
        "outputId": "33895981-af72-46c7-f0d1-13c08cfa6e67"
      },
      "source": [
        "disciplines.shape"
      ],
      "execution_count": null,
      "outputs": [
        {
          "output_type": "execute_result",
          "data": {
            "text/plain": [
              "(6204, 29)"
            ]
          },
          "metadata": {
            "tags": []
          },
          "execution_count": 12
        }
      ]
    },
    {
      "cell_type": "code",
      "metadata": {
        "trusted": true,
        "id": "ktMeYXgYUsNL",
        "colab": {
          "base_uri": "https://localhost:8080/"
        },
        "outputId": "09ba8ab1-c9ba-4bba-d9ee-ef1a1e0d38b4"
      },
      "source": [
        "disciplines.title.notnull().all()"
      ],
      "execution_count": null,
      "outputs": [
        {
          "output_type": "execute_result",
          "data": {
            "text/plain": [
              "True"
            ]
          },
          "metadata": {
            "tags": []
          },
          "execution_count": 13
        }
      ]
    },
    {
      "cell_type": "code",
      "metadata": {
        "trusted": true,
        "id": "BqZTvph8UsNM"
      },
      "source": [
        "descriptions = disciplines.dropna(subset=['description']).copy()\n",
        "descriptions = descriptions[['id', 'description']]"
      ],
      "execution_count": null,
      "outputs": []
    },
    {
      "cell_type": "code",
      "metadata": {
        "colab": {
          "base_uri": "https://localhost:8080/",
          "height": 415
        },
        "id": "ljUGX4DwRh_q",
        "outputId": "6d10532e-fce3-4033-ce0c-c70e9010c9dc"
      },
      "source": [
        "descriptions"
      ],
      "execution_count": null,
      "outputs": [
        {
          "output_type": "execute_result",
          "data": {
            "text/html": [
              "<div>\n",
              "<style scoped>\n",
              "    .dataframe tbody tr th:only-of-type {\n",
              "        vertical-align: middle;\n",
              "    }\n",
              "\n",
              "    .dataframe tbody tr th {\n",
              "        vertical-align: top;\n",
              "    }\n",
              "\n",
              "    .dataframe thead th {\n",
              "        text-align: right;\n",
              "    }\n",
              "</style>\n",
              "<table border=\"1\" class=\"dataframe\">\n",
              "  <thead>\n",
              "    <tr style=\"text-align: right;\">\n",
              "      <th></th>\n",
              "      <th>id</th>\n",
              "      <th>description</th>\n",
              "    </tr>\n",
              "  </thead>\n",
              "  <tbody>\n",
              "    <tr>\n",
              "      <th>87</th>\n",
              "      <td>13632</td>\n",
              "      <td>Изучает экономические причины функционирования...</td>\n",
              "    </tr>\n",
              "    <tr>\n",
              "      <th>229</th>\n",
              "      <td>3134</td>\n",
              "      <td>В процессе изучения дисциплины студенты научат...</td>\n",
              "    </tr>\n",
              "    <tr>\n",
              "      <th>363</th>\n",
              "      <td>3434</td>\n",
              "      <td>Изучение процессов управления материальными по...</td>\n",
              "    </tr>\n",
              "    <tr>\n",
              "      <th>510</th>\n",
              "      <td>12423</td>\n",
              "      <td>Главная задача этой дисциплины – помочь студен...</td>\n",
              "    </tr>\n",
              "    <tr>\n",
              "      <th>696</th>\n",
              "      <td>14526</td>\n",
              "      <td>Дисциплина направлена на изучение механизмов п...</td>\n",
              "    </tr>\n",
              "    <tr>\n",
              "      <th>...</th>\n",
              "      <td>...</td>\n",
              "      <td>...</td>\n",
              "    </tr>\n",
              "    <tr>\n",
              "      <th>6199</th>\n",
              "      <td>12536</td>\n",
              "      <td>Учебная  дисциплина   предусматривает  система...</td>\n",
              "    </tr>\n",
              "    <tr>\n",
              "      <th>6200</th>\n",
              "      <td>8356</td>\n",
              "      <td>Содержание дисциплины охватывает круг вопросов...</td>\n",
              "    </tr>\n",
              "    <tr>\n",
              "      <th>6201</th>\n",
              "      <td>11290</td>\n",
              "      <td>Студенты изучат линейные и нелинейные динамиче...</td>\n",
              "    </tr>\n",
              "    <tr>\n",
              "      <th>6202</th>\n",
              "      <td>5131</td>\n",
              "      <td>Дисциплина относится к специализации \"Промышле...</td>\n",
              "    </tr>\n",
              "    <tr>\n",
              "      <th>6203</th>\n",
              "      <td>12491</td>\n",
              "      <td>В дисциплине «Методология исследования аппарат...</td>\n",
              "    </tr>\n",
              "  </tbody>\n",
              "</table>\n",
              "<p>302 rows × 2 columns</p>\n",
              "</div>"
            ],
            "text/plain": [
              "         id                                        description\n",
              "87    13632  Изучает экономические причины функционирования...\n",
              "229    3134  В процессе изучения дисциплины студенты научат...\n",
              "363    3434  Изучение процессов управления материальными по...\n",
              "510   12423  Главная задача этой дисциплины – помочь студен...\n",
              "696   14526  Дисциплина направлена на изучение механизмов п...\n",
              "...     ...                                                ...\n",
              "6199  12536  Учебная  дисциплина   предусматривает  система...\n",
              "6200   8356  Содержание дисциплины охватывает круг вопросов...\n",
              "6201  11290  Студенты изучат линейные и нелинейные динамиче...\n",
              "6202   5131  Дисциплина относится к специализации \"Промышле...\n",
              "6203  12491  В дисциплине «Методология исследования аппарат...\n",
              "\n",
              "[302 rows x 2 columns]"
            ]
          },
          "metadata": {
            "tags": []
          },
          "execution_count": 16
        }
      ]
    },
    {
      "cell_type": "code",
      "metadata": {
        "trusted": true,
        "id": "CmTV9vjbUsNM"
      },
      "source": [
        "outcomes = pd.read_csv('/content/drive/MyDrive/Colab Notebooks/discipline embeddings/new_outcomes.txt', sep=';')\n",
        "prerequisites = pd.read_csv('/content/drive/MyDrive/Colab Notebooks/discipline embeddings/new_pre.txt', sep=';')\n",
        "keywords = pd.concat([outcomes, prerequisites], axis=0)"
      ],
      "execution_count": null,
      "outputs": []
    },
    {
      "cell_type": "markdown",
      "metadata": {
        "id": "caU9DpvbT6CN"
      },
      "source": [
        "Results of completing each discipline"
      ]
    },
    {
      "cell_type": "code",
      "metadata": {
        "colab": {
          "base_uri": "https://localhost:8080/",
          "height": 415
        },
        "id": "WkdOjEyeRtBU",
        "outputId": "96c1b43e-47fe-489d-ff03-5b0f1b16caae"
      },
      "source": [
        "outcomes"
      ],
      "execution_count": null,
      "outputs": [
        {
          "output_type": "execute_result",
          "data": {
            "text/html": [
              "<div>\n",
              "<style scoped>\n",
              "    .dataframe tbody tr th:only-of-type {\n",
              "        vertical-align: middle;\n",
              "    }\n",
              "\n",
              "    .dataframe tbody tr th {\n",
              "        vertical-align: top;\n",
              "    }\n",
              "\n",
              "    .dataframe thead th {\n",
              "        text-align: right;\n",
              "    }\n",
              "</style>\n",
              "<table border=\"1\" class=\"dataframe\">\n",
              "  <thead>\n",
              "    <tr style=\"text-align: right;\">\n",
              "      <th></th>\n",
              "      <th>id</th>\n",
              "      <th>masterylevel</th>\n",
              "      <th>item_id</th>\n",
              "      <th>workprogram_id</th>\n",
              "    </tr>\n",
              "  </thead>\n",
              "  <tbody>\n",
              "    <tr>\n",
              "      <th>0</th>\n",
              "      <td>44816</td>\n",
              "      <td>2</td>\n",
              "      <td>9506</td>\n",
              "      <td>12684</td>\n",
              "    </tr>\n",
              "    <tr>\n",
              "      <th>1</th>\n",
              "      <td>44817</td>\n",
              "      <td>2</td>\n",
              "      <td>9502</td>\n",
              "      <td>12685</td>\n",
              "    </tr>\n",
              "    <tr>\n",
              "      <th>2</th>\n",
              "      <td>303</td>\n",
              "      <td>3</td>\n",
              "      <td>620</td>\n",
              "      <td>2730</td>\n",
              "    </tr>\n",
              "    <tr>\n",
              "      <th>3</th>\n",
              "      <td>305</td>\n",
              "      <td>3</td>\n",
              "      <td>1415</td>\n",
              "      <td>2730</td>\n",
              "    </tr>\n",
              "    <tr>\n",
              "      <th>4</th>\n",
              "      <td>307</td>\n",
              "      <td>3</td>\n",
              "      <td>1417</td>\n",
              "      <td>2730</td>\n",
              "    </tr>\n",
              "    <tr>\n",
              "      <th>...</th>\n",
              "      <td>...</td>\n",
              "      <td>...</td>\n",
              "      <td>...</td>\n",
              "      <td>...</td>\n",
              "    </tr>\n",
              "    <tr>\n",
              "      <th>35793</th>\n",
              "      <td>54688</td>\n",
              "      <td>2</td>\n",
              "      <td>9814</td>\n",
              "      <td>7618</td>\n",
              "    </tr>\n",
              "    <tr>\n",
              "      <th>35794</th>\n",
              "      <td>55402</td>\n",
              "      <td>3</td>\n",
              "      <td>18787</td>\n",
              "      <td>13656</td>\n",
              "    </tr>\n",
              "    <tr>\n",
              "      <th>35795</th>\n",
              "      <td>55448</td>\n",
              "      <td>1</td>\n",
              "      <td>8832</td>\n",
              "      <td>13288</td>\n",
              "    </tr>\n",
              "    <tr>\n",
              "      <th>35796</th>\n",
              "      <td>55617</td>\n",
              "      <td>1</td>\n",
              "      <td>17176</td>\n",
              "      <td>12456</td>\n",
              "    </tr>\n",
              "    <tr>\n",
              "      <th>35797</th>\n",
              "      <td>55635</td>\n",
              "      <td>2</td>\n",
              "      <td>349</td>\n",
              "      <td>13157</td>\n",
              "    </tr>\n",
              "  </tbody>\n",
              "</table>\n",
              "<p>35798 rows × 4 columns</p>\n",
              "</div>"
            ],
            "text/plain": [
              "          id  masterylevel  item_id  workprogram_id\n",
              "0      44816             2     9506           12684\n",
              "1      44817             2     9502           12685\n",
              "2        303             3      620            2730\n",
              "3        305             3     1415            2730\n",
              "4        307             3     1417            2730\n",
              "...      ...           ...      ...             ...\n",
              "35793  54688             2     9814            7618\n",
              "35794  55402             3    18787           13656\n",
              "35795  55448             1     8832           13288\n",
              "35796  55617             1    17176           12456\n",
              "35797  55635             2      349           13157\n",
              "\n",
              "[35798 rows x 4 columns]"
            ]
          },
          "metadata": {
            "tags": []
          },
          "execution_count": 18
        }
      ]
    },
    {
      "cell_type": "markdown",
      "metadata": {
        "id": "CarF4Q5sUHYu"
      },
      "source": [
        "Required knowledge for studying the discipline"
      ]
    },
    {
      "cell_type": "code",
      "metadata": {
        "colab": {
          "base_uri": "https://localhost:8080/",
          "height": 415
        },
        "id": "_SrQYeTbRwiu",
        "outputId": "aceb313d-30a9-4c7d-caf9-4a4b2c39744e"
      },
      "source": [
        "prerequisites"
      ],
      "execution_count": null,
      "outputs": [
        {
          "output_type": "execute_result",
          "data": {
            "text/html": [
              "<div>\n",
              "<style scoped>\n",
              "    .dataframe tbody tr th:only-of-type {\n",
              "        vertical-align: middle;\n",
              "    }\n",
              "\n",
              "    .dataframe tbody tr th {\n",
              "        vertical-align: top;\n",
              "    }\n",
              "\n",
              "    .dataframe thead th {\n",
              "        text-align: right;\n",
              "    }\n",
              "</style>\n",
              "<table border=\"1\" class=\"dataframe\">\n",
              "  <thead>\n",
              "    <tr style=\"text-align: right;\">\n",
              "      <th></th>\n",
              "      <th>id</th>\n",
              "      <th>masterylevel</th>\n",
              "      <th>item_id</th>\n",
              "      <th>workprogram_id</th>\n",
              "    </tr>\n",
              "  </thead>\n",
              "  <tbody>\n",
              "    <tr>\n",
              "      <th>0</th>\n",
              "      <td>106</td>\n",
              "      <td>1</td>\n",
              "      <td>427</td>\n",
              "      <td>2811</td>\n",
              "    </tr>\n",
              "    <tr>\n",
              "      <th>1</th>\n",
              "      <td>107</td>\n",
              "      <td>1</td>\n",
              "      <td>428</td>\n",
              "      <td>2811</td>\n",
              "    </tr>\n",
              "    <tr>\n",
              "      <th>2</th>\n",
              "      <td>108</td>\n",
              "      <td>1</td>\n",
              "      <td>409</td>\n",
              "      <td>2811</td>\n",
              "    </tr>\n",
              "    <tr>\n",
              "      <th>3</th>\n",
              "      <td>109</td>\n",
              "      <td>2</td>\n",
              "      <td>427</td>\n",
              "      <td>6986</td>\n",
              "    </tr>\n",
              "    <tr>\n",
              "      <th>4</th>\n",
              "      <td>111</td>\n",
              "      <td>2</td>\n",
              "      <td>1077</td>\n",
              "      <td>6986</td>\n",
              "    </tr>\n",
              "    <tr>\n",
              "      <th>...</th>\n",
              "      <td>...</td>\n",
              "      <td>...</td>\n",
              "      <td>...</td>\n",
              "      <td>...</td>\n",
              "    </tr>\n",
              "    <tr>\n",
              "      <th>1058</th>\n",
              "      <td>1476</td>\n",
              "      <td>3</td>\n",
              "      <td>18484</td>\n",
              "      <td>6638</td>\n",
              "    </tr>\n",
              "    <tr>\n",
              "      <th>1059</th>\n",
              "      <td>1477</td>\n",
              "      <td>2</td>\n",
              "      <td>535</td>\n",
              "      <td>5786</td>\n",
              "    </tr>\n",
              "    <tr>\n",
              "      <th>1060</th>\n",
              "      <td>1478</td>\n",
              "      <td>2</td>\n",
              "      <td>460</td>\n",
              "      <td>5786</td>\n",
              "    </tr>\n",
              "    <tr>\n",
              "      <th>1061</th>\n",
              "      <td>1479</td>\n",
              "      <td>2</td>\n",
              "      <td>322</td>\n",
              "      <td>5786</td>\n",
              "    </tr>\n",
              "    <tr>\n",
              "      <th>1062</th>\n",
              "      <td>1480</td>\n",
              "      <td>2</td>\n",
              "      <td>327</td>\n",
              "      <td>5786</td>\n",
              "    </tr>\n",
              "  </tbody>\n",
              "</table>\n",
              "<p>1063 rows × 4 columns</p>\n",
              "</div>"
            ],
            "text/plain": [
              "        id  masterylevel  item_id  workprogram_id\n",
              "0      106             1      427            2811\n",
              "1      107             1      428            2811\n",
              "2      108             1      409            2811\n",
              "3      109             2      427            6986\n",
              "4      111             2     1077            6986\n",
              "...    ...           ...      ...             ...\n",
              "1058  1476             3    18484            6638\n",
              "1059  1477             2      535            5786\n",
              "1060  1478             2      460            5786\n",
              "1061  1479             2      322            5786\n",
              "1062  1480             2      327            5786\n",
              "\n",
              "[1063 rows x 4 columns]"
            ]
          },
          "metadata": {
            "tags": []
          },
          "execution_count": 19
        }
      ]
    },
    {
      "cell_type": "code",
      "metadata": {
        "trusted": true,
        "id": "CVOL5VmkUsNM"
      },
      "source": [
        "keywords = keywords.merge(items, left_on='item_id', right_on='id')\n",
        "keywords.name = keywords.name.astype('string')\n",
        "keywords.drop(['id_x', 'item_id', 'id_y', 'value', 'value', 'source', 'author_id', 'domain_id'],\n",
        "              inplace=True,\n",
        "              axis=1)\n",
        "keywords.dropna(inplace=True)\n",
        "keywords.reset_index(inplace=True, drop=True)"
      ],
      "execution_count": null,
      "outputs": []
    },
    {
      "cell_type": "code",
      "metadata": {
        "trusted": true,
        "id": "odfhETkaUsNN",
        "outputId": "eb40988b-52f7-481a-bcdc-e58e2df1d4b7"
      },
      "source": [
        "keywords.notnull().all()"
      ],
      "execution_count": null,
      "outputs": [
        {
          "output_type": "execute_result",
          "data": {
            "text/plain": [
              "masterylevel      True\n",
              "workprogram_id    True\n",
              "name              True\n",
              "dtype: bool"
            ]
          },
          "metadata": {
            "tags": []
          },
          "execution_count": 13
        }
      ]
    },
    {
      "cell_type": "code",
      "metadata": {
        "trusted": true,
        "id": "BsbM-JpdUsNN"
      },
      "source": [
        "keywords.name = keywords.name.str.strip(' \\r\\n')"
      ],
      "execution_count": null,
      "outputs": []
    },
    {
      "cell_type": "markdown",
      "metadata": {
        "id": "E1giEnlkUe7k"
      },
      "source": [
        "Amount of unique keywords/phrases which were used to describe disciplines. These keywords/phrases became the basis for creating embeddings."
      ]
    },
    {
      "cell_type": "code",
      "metadata": {
        "trusted": true,
        "id": "I7BhBm1-UsNN",
        "outputId": "fcff693f-92db-4597-fa5c-22c66902e968"
      },
      "source": [
        "keywords.name.unique().size # amount of unique keywords"
      ],
      "execution_count": null,
      "outputs": [
        {
          "output_type": "execute_result",
          "data": {
            "text/plain": [
              "15756"
            ]
          },
          "metadata": {
            "tags": []
          },
          "execution_count": 15
        }
      ]
    },
    {
      "cell_type": "markdown",
      "metadata": {
        "id": "qj8PQubkUsNN"
      },
      "source": [
        "Extracting additional information for holistic description of discipline content. To do so, if the keyword/keyphrase is searched using cosine similarity between it and the n-grams in text (additional information). All texts are mapped using Multilingual Universal Sentence Encoder."
      ]
    },
    {
      "cell_type": "code",
      "metadata": {
        "trusted": true,
        "id": "KCOye8agUsNO"
      },
      "source": [
        "bibliographic = pd.read_csv('/content/drive/MyDrive/Colab Notebooks/discipline embeddings/new_biblio.txt', sep=';')\n",
        "references = pd.read_csv('/content/drive/MyDrive/Colab Notebooks/discipline embeddings/new_biblioo.txt', sep=';')\n",
        "bibliographic_references = bibliographic.merge(references, left_on='bibliographicreference_id', right_on='id')\n",
        "bibliographic_references.drop(['id_x', 'id_y', 'bibliographicreference_id'],\n",
        "                              inplace=True,\n",
        "                              axis=1)"
      ],
      "execution_count": null,
      "outputs": []
    },
    {
      "cell_type": "code",
      "metadata": {
        "colab": {
          "base_uri": "https://localhost:8080/",
          "height": 415
        },
        "id": "ud_-6ocWR9D5",
        "outputId": "7b8035d7-f7fd-4787-ac89-16af7ca72198"
      },
      "source": [
        "bibliographic"
      ],
      "execution_count": null,
      "outputs": [
        {
          "output_type": "execute_result",
          "data": {
            "text/html": [
              "<div>\n",
              "<style scoped>\n",
              "    .dataframe tbody tr th:only-of-type {\n",
              "        vertical-align: middle;\n",
              "    }\n",
              "\n",
              "    .dataframe tbody tr th {\n",
              "        vertical-align: top;\n",
              "    }\n",
              "\n",
              "    .dataframe thead th {\n",
              "        text-align: right;\n",
              "    }\n",
              "</style>\n",
              "<table border=\"1\" class=\"dataframe\">\n",
              "  <thead>\n",
              "    <tr style=\"text-align: right;\">\n",
              "      <th></th>\n",
              "      <th>id</th>\n",
              "      <th>workprogram_id</th>\n",
              "      <th>bibliographicreference_id</th>\n",
              "    </tr>\n",
              "  </thead>\n",
              "  <tbody>\n",
              "    <tr>\n",
              "      <th>0</th>\n",
              "      <td>28</td>\n",
              "      <td>67</td>\n",
              "      <td>28</td>\n",
              "    </tr>\n",
              "    <tr>\n",
              "      <th>1</th>\n",
              "      <td>29</td>\n",
              "      <td>67</td>\n",
              "      <td>29</td>\n",
              "    </tr>\n",
              "    <tr>\n",
              "      <th>2</th>\n",
              "      <td>32</td>\n",
              "      <td>5</td>\n",
              "      <td>35</td>\n",
              "    </tr>\n",
              "    <tr>\n",
              "      <th>3</th>\n",
              "      <td>33</td>\n",
              "      <td>5</td>\n",
              "      <td>36</td>\n",
              "    </tr>\n",
              "    <tr>\n",
              "      <th>4</th>\n",
              "      <td>34</td>\n",
              "      <td>5</td>\n",
              "      <td>37</td>\n",
              "    </tr>\n",
              "    <tr>\n",
              "      <th>...</th>\n",
              "      <td>...</td>\n",
              "      <td>...</td>\n",
              "      <td>...</td>\n",
              "    </tr>\n",
              "    <tr>\n",
              "      <th>1978</th>\n",
              "      <td>2630</td>\n",
              "      <td>12423</td>\n",
              "      <td>1507</td>\n",
              "    </tr>\n",
              "    <tr>\n",
              "      <th>1979</th>\n",
              "      <td>2640</td>\n",
              "      <td>12423</td>\n",
              "      <td>1510</td>\n",
              "    </tr>\n",
              "    <tr>\n",
              "      <th>1980</th>\n",
              "      <td>2642</td>\n",
              "      <td>3436</td>\n",
              "      <td>840</td>\n",
              "    </tr>\n",
              "    <tr>\n",
              "      <th>1981</th>\n",
              "      <td>2643</td>\n",
              "      <td>3436</td>\n",
              "      <td>1417</td>\n",
              "    </tr>\n",
              "    <tr>\n",
              "      <th>1982</th>\n",
              "      <td>2644</td>\n",
              "      <td>3436</td>\n",
              "      <td>473</td>\n",
              "    </tr>\n",
              "  </tbody>\n",
              "</table>\n",
              "<p>1983 rows × 3 columns</p>\n",
              "</div>"
            ],
            "text/plain": [
              "        id  workprogram_id  bibliographicreference_id\n",
              "0       28              67                         28\n",
              "1       29              67                         29\n",
              "2       32               5                         35\n",
              "3       33               5                         36\n",
              "4       34               5                         37\n",
              "...    ...             ...                        ...\n",
              "1978  2630           12423                       1507\n",
              "1979  2640           12423                       1510\n",
              "1980  2642            3436                        840\n",
              "1981  2643            3436                       1417\n",
              "1982  2644            3436                        473\n",
              "\n",
              "[1983 rows x 3 columns]"
            ]
          },
          "metadata": {
            "tags": []
          },
          "execution_count": 21
        }
      ]
    },
    {
      "cell_type": "code",
      "metadata": {
        "colab": {
          "base_uri": "https://localhost:8080/",
          "height": 415
        },
        "id": "2Xubc67GR-9P",
        "outputId": "708a0ff6-0992-4be8-9426-8c1f73d5d521"
      },
      "source": [
        "references"
      ],
      "execution_count": null,
      "outputs": [
        {
          "output_type": "execute_result",
          "data": {
            "text/html": [
              "<div>\n",
              "<style scoped>\n",
              "    .dataframe tbody tr th:only-of-type {\n",
              "        vertical-align: middle;\n",
              "    }\n",
              "\n",
              "    .dataframe tbody tr th {\n",
              "        vertical-align: top;\n",
              "    }\n",
              "\n",
              "    .dataframe thead th {\n",
              "        text-align: right;\n",
              "    }\n",
              "</style>\n",
              "<table border=\"1\" class=\"dataframe\">\n",
              "  <thead>\n",
              "    <tr style=\"text-align: right;\">\n",
              "      <th></th>\n",
              "      <th>id</th>\n",
              "      <th>description</th>\n",
              "    </tr>\n",
              "  </thead>\n",
              "  <tbody>\n",
              "    <tr>\n",
              "      <th>0</th>\n",
              "      <td>25</td>\n",
              "      <td>Прикладная математика для инженеров. Специальн...</td>\n",
              "    </tr>\n",
              "    <tr>\n",
              "      <th>1</th>\n",
              "      <td>24</td>\n",
              "      <td>Математические методы прогнозирования : рек. У...</td>\n",
              "    </tr>\n",
              "    <tr>\n",
              "      <th>2</th>\n",
              "      <td>27</td>\n",
              "      <td>Решение задач вычислительной математики в паке...</td>\n",
              "    </tr>\n",
              "    <tr>\n",
              "      <th>3</th>\n",
              "      <td>28</td>\n",
              "      <td>Руководство по методам вычислений и приложения...</td>\n",
              "    </tr>\n",
              "    <tr>\n",
              "      <th>4</th>\n",
              "      <td>29</td>\n",
              "      <td>Буре, В.М. Теория вероятностей и математическа...</td>\n",
              "    </tr>\n",
              "    <tr>\n",
              "      <th>...</th>\n",
              "      <td>...</td>\n",
              "      <td>...</td>\n",
              "    </tr>\n",
              "    <tr>\n",
              "      <th>1470</th>\n",
              "      <td>1504</td>\n",
              "      <td>Дакетт, Д. HTML и CSS. Разработка и дизайн веб...</td>\n",
              "    </tr>\n",
              "    <tr>\n",
              "      <th>1471</th>\n",
              "      <td>1505</td>\n",
              "      <td>Рагимов Р.Н. , Морето Сильвио, Киселев А.Н., B...</td>\n",
              "    </tr>\n",
              "    <tr>\n",
              "      <th>1472</th>\n",
              "      <td>1509</td>\n",
              "      <td>Никсон Р. Создаем динамические веб-сайты с пом...</td>\n",
              "    </tr>\n",
              "    <tr>\n",
              "      <th>1473</th>\n",
              "      <td>1510</td>\n",
              "      <td>Berners-Lee T. Weaving the Web: The original d...</td>\n",
              "    </tr>\n",
              "    <tr>\n",
              "      <th>1474</th>\n",
              "      <td>1511</td>\n",
              "      <td>Меняев, М. Ф.  Цифровое управление инновационн...</td>\n",
              "    </tr>\n",
              "  </tbody>\n",
              "</table>\n",
              "<p>1475 rows × 2 columns</p>\n",
              "</div>"
            ],
            "text/plain": [
              "        id                                        description\n",
              "0       25  Прикладная математика для инженеров. Специальн...\n",
              "1       24  Математические методы прогнозирования : рек. У...\n",
              "2       27  Решение задач вычислительной математики в паке...\n",
              "3       28  Руководство по методам вычислений и приложения...\n",
              "4       29  Буре, В.М. Теория вероятностей и математическа...\n",
              "...    ...                                                ...\n",
              "1470  1504  Дакетт, Д. HTML и CSS. Разработка и дизайн веб...\n",
              "1471  1505  Рагимов Р.Н. , Морето Сильвио, Киселев А.Н., B...\n",
              "1472  1509  Никсон Р. Создаем динамические веб-сайты с пом...\n",
              "1473  1510  Berners-Lee T. Weaving the Web: The original d...\n",
              "1474  1511  Меняев, М. Ф.  Цифровое управление инновационн...\n",
              "\n",
              "[1475 rows x 2 columns]"
            ]
          },
          "metadata": {
            "tags": []
          },
          "execution_count": 22
        }
      ]
    },
    {
      "cell_type": "code",
      "metadata": {
        "colab": {
          "base_uri": "https://localhost:8080/",
          "height": 415
        },
        "id": "WIALKbODSDb1",
        "outputId": "74d6a9bb-9f83-4d87-d398-d1a0e53a1fc6"
      },
      "source": [
        "bibliographic_references"
      ],
      "execution_count": null,
      "outputs": [
        {
          "output_type": "execute_result",
          "data": {
            "text/html": [
              "<div>\n",
              "<style scoped>\n",
              "    .dataframe tbody tr th:only-of-type {\n",
              "        vertical-align: middle;\n",
              "    }\n",
              "\n",
              "    .dataframe tbody tr th {\n",
              "        vertical-align: top;\n",
              "    }\n",
              "\n",
              "    .dataframe thead th {\n",
              "        text-align: right;\n",
              "    }\n",
              "</style>\n",
              "<table border=\"1\" class=\"dataframe\">\n",
              "  <thead>\n",
              "    <tr style=\"text-align: right;\">\n",
              "      <th></th>\n",
              "      <th>workprogram_id</th>\n",
              "      <th>description</th>\n",
              "    </tr>\n",
              "  </thead>\n",
              "  <tbody>\n",
              "    <tr>\n",
              "      <th>0</th>\n",
              "      <td>67</td>\n",
              "      <td>Руководство по методам вычислений и приложения...</td>\n",
              "    </tr>\n",
              "    <tr>\n",
              "      <th>1</th>\n",
              "      <td>6990</td>\n",
              "      <td>Руководство по методам вычислений и приложения...</td>\n",
              "    </tr>\n",
              "    <tr>\n",
              "      <th>2</th>\n",
              "      <td>6991</td>\n",
              "      <td>Руководство по методам вычислений и приложения...</td>\n",
              "    </tr>\n",
              "    <tr>\n",
              "      <th>3</th>\n",
              "      <td>13966</td>\n",
              "      <td>Руководство по методам вычислений и приложения...</td>\n",
              "    </tr>\n",
              "    <tr>\n",
              "      <th>4</th>\n",
              "      <td>67</td>\n",
              "      <td>Буре, В.М. Теория вероятностей и математическа...</td>\n",
              "    </tr>\n",
              "    <tr>\n",
              "      <th>...</th>\n",
              "      <td>...</td>\n",
              "      <td>...</td>\n",
              "    </tr>\n",
              "    <tr>\n",
              "      <th>1978</th>\n",
              "      <td>4881</td>\n",
              "      <td>Герасимов Б.И. и др. Основы научных исследован...</td>\n",
              "    </tr>\n",
              "    <tr>\n",
              "      <th>1979</th>\n",
              "      <td>12423</td>\n",
              "      <td>Дакетт, Д. HTML и CSS. Разработка и дизайн веб...</td>\n",
              "    </tr>\n",
              "    <tr>\n",
              "      <th>1980</th>\n",
              "      <td>12423</td>\n",
              "      <td>Гудман, Д. JavaScript и DHTML. Сборник рецепто...</td>\n",
              "    </tr>\n",
              "    <tr>\n",
              "      <th>1981</th>\n",
              "      <td>12423</td>\n",
              "      <td>Berners-Lee T. Weaving the Web: The original d...</td>\n",
              "    </tr>\n",
              "    <tr>\n",
              "      <th>1982</th>\n",
              "      <td>3436</td>\n",
              "      <td>Рассел Стюарт, Норвиг Питер. \"Искусственный ин...</td>\n",
              "    </tr>\n",
              "  </tbody>\n",
              "</table>\n",
              "<p>1983 rows × 2 columns</p>\n",
              "</div>"
            ],
            "text/plain": [
              "      workprogram_id                                        description\n",
              "0                 67  Руководство по методам вычислений и приложения...\n",
              "1               6990  Руководство по методам вычислений и приложения...\n",
              "2               6991  Руководство по методам вычислений и приложения...\n",
              "3              13966  Руководство по методам вычислений и приложения...\n",
              "4                 67  Буре, В.М. Теория вероятностей и математическа...\n",
              "...              ...                                                ...\n",
              "1978            4881  Герасимов Б.И. и др. Основы научных исследован...\n",
              "1979           12423  Дакетт, Д. HTML и CSS. Разработка и дизайн веб...\n",
              "1980           12423  Гудман, Д. JavaScript и DHTML. Сборник рецепто...\n",
              "1981           12423  Berners-Lee T. Weaving the Web: The original d...\n",
              "1982            3436  Рассел Стюарт, Норвиг Питер. \"Искусственный ин...\n",
              "\n",
              "[1983 rows x 2 columns]"
            ]
          },
          "metadata": {
            "tags": []
          },
          "execution_count": 23
        }
      ]
    },
    {
      "cell_type": "code",
      "metadata": {
        "trusted": true,
        "id": "TEJfE0ODUsNO",
        "outputId": "27f86642-9893-4504-c935-9c5263eba74c"
      },
      "source": [
        "bibliographic_references.description.notnull().all()"
      ],
      "execution_count": null,
      "outputs": [
        {
          "output_type": "execute_result",
          "data": {
            "text/plain": [
              "True"
            ]
          },
          "metadata": {
            "tags": []
          },
          "execution_count": 17
        }
      ]
    },
    {
      "cell_type": "code",
      "metadata": {
        "trusted": true,
        "id": "1kvcATg7UsNO"
      },
      "source": [
        "sections = pd.read_csv('/content/drive/MyDrive/Colab Notebooks/discipline embeddings/new_sections.txt', sep=';')"
      ],
      "execution_count": null,
      "outputs": []
    },
    {
      "cell_type": "code",
      "metadata": {
        "colab": {
          "base_uri": "https://localhost:8080/",
          "height": 355
        },
        "id": "EyRUtZX4SL0f",
        "outputId": "1df5fde4-a344-445d-f024-04f654a9e796"
      },
      "source": [
        "sections.sample(1).T"
      ],
      "execution_count": null,
      "outputs": [
        {
          "output_type": "execute_result",
          "data": {
            "text/html": [
              "<div>\n",
              "<style scoped>\n",
              "    .dataframe tbody tr th:only-of-type {\n",
              "        vertical-align: middle;\n",
              "    }\n",
              "\n",
              "    .dataframe tbody tr th {\n",
              "        vertical-align: top;\n",
              "    }\n",
              "\n",
              "    .dataframe thead th {\n",
              "        text-align: right;\n",
              "    }\n",
              "</style>\n",
              "<table border=\"1\" class=\"dataframe\">\n",
              "  <thead>\n",
              "    <tr style=\"text-align: right;\">\n",
              "      <th></th>\n",
              "      <th>72</th>\n",
              "    </tr>\n",
              "  </thead>\n",
              "  <tbody>\n",
              "    <tr>\n",
              "      <th>id</th>\n",
              "      <td>1844</td>\n",
              "    </tr>\n",
              "    <tr>\n",
              "      <th>name</th>\n",
              "      <td>Моделирование линейных динамических систем</td>\n",
              "    </tr>\n",
              "    <tr>\n",
              "      <th>work_program_id</th>\n",
              "      <td>10492</td>\n",
              "    </tr>\n",
              "    <tr>\n",
              "      <th>SRO</th>\n",
              "      <td>6.9</td>\n",
              "    </tr>\n",
              "    <tr>\n",
              "      <th>contact_work</th>\n",
              "      <td>6.6</td>\n",
              "    </tr>\n",
              "    <tr>\n",
              "      <th>laboratory</th>\n",
              "      <td>2</td>\n",
              "    </tr>\n",
              "    <tr>\n",
              "      <th>lecture_classes</th>\n",
              "      <td>2</td>\n",
              "    </tr>\n",
              "    <tr>\n",
              "      <th>practical_lessons</th>\n",
              "      <td>2</td>\n",
              "    </tr>\n",
              "    <tr>\n",
              "      <th>total_hours</th>\n",
              "      <td>13.5</td>\n",
              "    </tr>\n",
              "    <tr>\n",
              "      <th>ordinal_number</th>\n",
              "      <td>1</td>\n",
              "    </tr>\n",
              "  </tbody>\n",
              "</table>\n",
              "</div>"
            ],
            "text/plain": [
              "                                                           72\n",
              "id                                                       1844\n",
              "name               Моделирование линейных динамических систем\n",
              "work_program_id                                         10492\n",
              "SRO                                                       6.9\n",
              "contact_work                                              6.6\n",
              "laboratory                                                  2\n",
              "lecture_classes                                             2\n",
              "practical_lessons                                           2\n",
              "total_hours                                              13.5\n",
              "ordinal_number                                              1"
            ]
          },
          "metadata": {
            "tags": []
          },
          "execution_count": 27
        }
      ]
    },
    {
      "cell_type": "code",
      "metadata": {
        "colab": {
          "base_uri": "https://localhost:8080/"
        },
        "id": "z9vHHrc1SS4t",
        "outputId": "8990bbee-adf2-4660-943f-a8748a5b0833"
      },
      "source": [
        "sections.shape"
      ],
      "execution_count": null,
      "outputs": [
        {
          "output_type": "execute_result",
          "data": {
            "text/plain": [
              "(1861, 10)"
            ]
          },
          "metadata": {
            "tags": []
          },
          "execution_count": 28
        }
      ]
    },
    {
      "cell_type": "code",
      "metadata": {
        "trusted": true,
        "id": "NZgTygv5UsNO"
      },
      "source": [
        "topics = pd.read_csv('/content/drive/MyDrive/Colab Notebooks/discipline embeddings/new_topics.txt', sep=';')\n",
        "topics = topics.merge(sections, left_on='discipline_section_id', right_on='id')\n",
        "topics = topics[['description', 'work_program_id']]"
      ],
      "execution_count": null,
      "outputs": []
    },
    {
      "cell_type": "code",
      "metadata": {
        "colab": {
          "base_uri": "https://localhost:8080/",
          "height": 415
        },
        "id": "pcUP-NBOSap8",
        "outputId": "10260d78-57ba-444c-c6c9-84b3461ae232"
      },
      "source": [
        "topics"
      ],
      "execution_count": null,
      "outputs": [
        {
          "output_type": "execute_result",
          "data": {
            "text/html": [
              "<div>\n",
              "<style scoped>\n",
              "    .dataframe tbody tr th:only-of-type {\n",
              "        vertical-align: middle;\n",
              "    }\n",
              "\n",
              "    .dataframe tbody tr th {\n",
              "        vertical-align: top;\n",
              "    }\n",
              "\n",
              "    .dataframe thead th {\n",
              "        text-align: right;\n",
              "    }\n",
              "</style>\n",
              "<table border=\"1\" class=\"dataframe\">\n",
              "  <thead>\n",
              "    <tr style=\"text-align: right;\">\n",
              "      <th></th>\n",
              "      <th>description</th>\n",
              "      <th>work_program_id</th>\n",
              "    </tr>\n",
              "  </thead>\n",
              "  <tbody>\n",
              "    <tr>\n",
              "      <th>0</th>\n",
              "      <td>Администрирование БД</td>\n",
              "      <td>67</td>\n",
              "    </tr>\n",
              "    <tr>\n",
              "      <th>1</th>\n",
              "      <td>Привилегии пользователей</td>\n",
              "      <td>67</td>\n",
              "    </tr>\n",
              "    <tr>\n",
              "      <th>2</th>\n",
              "      <td>Виды доступа к БД</td>\n",
              "      <td>67</td>\n",
              "    </tr>\n",
              "    <tr>\n",
              "      <th>3</th>\n",
              "      <td>Технические методы и средства защиты БД</td>\n",
              "      <td>67</td>\n",
              "    </tr>\n",
              "    <tr>\n",
              "      <th>4</th>\n",
              "      <td>Архитектура БД и СУБД</td>\n",
              "      <td>67</td>\n",
              "    </tr>\n",
              "    <tr>\n",
              "      <th>...</th>\n",
              "      <td>...</td>\n",
              "      <td>...</td>\n",
              "    </tr>\n",
              "    <tr>\n",
              "      <th>5680</th>\n",
              "      <td>Многослойный персептрон</td>\n",
              "      <td>13855</td>\n",
              "    </tr>\n",
              "    <tr>\n",
              "      <th>5681</th>\n",
              "      <td>Нейронные сети на основе радиальных базисных ф...</td>\n",
              "      <td>13855</td>\n",
              "    </tr>\n",
              "    <tr>\n",
              "      <th>5682</th>\n",
              "      <td>Хеббовское правило обучения</td>\n",
              "      <td>13855</td>\n",
              "    </tr>\n",
              "    <tr>\n",
              "      <th>5683</th>\n",
              "      <td>Конкурентное обучение</td>\n",
              "      <td>13855</td>\n",
              "    </tr>\n",
              "    <tr>\n",
              "      <th>5684</th>\n",
              "      <td>Обучение с подкреплением</td>\n",
              "      <td>13855</td>\n",
              "    </tr>\n",
              "  </tbody>\n",
              "</table>\n",
              "<p>5685 rows × 2 columns</p>\n",
              "</div>"
            ],
            "text/plain": [
              "                                            description  work_program_id\n",
              "0                                  Администрирование БД               67\n",
              "1                              Привилегии пользователей               67\n",
              "2                                     Виды доступа к БД               67\n",
              "3               Технические методы и средства защиты БД               67\n",
              "4                                 Архитектура БД и СУБД               67\n",
              "...                                                 ...              ...\n",
              "5680                            Многослойный персептрон            13855\n",
              "5681  Нейронные сети на основе радиальных базисных ф...            13855\n",
              "5682                        Хеббовское правило обучения            13855\n",
              "5683                              Конкурентное обучение            13855\n",
              "5684                           Обучение с подкреплением            13855\n",
              "\n",
              "[5685 rows x 2 columns]"
            ]
          },
          "metadata": {
            "tags": []
          },
          "execution_count": 30
        }
      ]
    },
    {
      "cell_type": "code",
      "metadata": {
        "trusted": true,
        "id": "GZ_lsHpqUsNP",
        "outputId": "bb1313c6-938f-4a2f-d9a7-fbf469eb2f00"
      },
      "source": [
        "topics.notnull().all()"
      ],
      "execution_count": null,
      "outputs": [
        {
          "output_type": "execute_result",
          "data": {
            "text/plain": [
              "description        True\n",
              "work_program_id    True\n",
              "dtype: bool"
            ]
          },
          "metadata": {
            "tags": []
          },
          "execution_count": 20
        }
      ]
    },
    {
      "cell_type": "code",
      "metadata": {
        "trusted": true,
        "id": "xuOvEar4UsNP"
      },
      "source": [
        "sections = sections[['name', 'work_program_id']]"
      ],
      "execution_count": null,
      "outputs": []
    },
    {
      "cell_type": "code",
      "metadata": {
        "trusted": true,
        "id": "jKtgEpCoUsNP",
        "outputId": "1119b849-7018-4a54-fd2c-cbbaafebcc5b"
      },
      "source": [
        "sections.notnull().all()"
      ],
      "execution_count": null,
      "outputs": [
        {
          "output_type": "execute_result",
          "data": {
            "text/plain": [
              "name               True\n",
              "work_program_id    True\n",
              "dtype: bool"
            ]
          },
          "metadata": {
            "tags": []
          },
          "execution_count": 22
        }
      ]
    },
    {
      "cell_type": "code",
      "metadata": {
        "trusted": true,
        "id": "WfSu2y4CUsNP"
      },
      "source": [
        "descriptions.columns = ['work_program_id', 'description']\n",
        "sections.columns = ['description', 'work_program_id']\n",
        "bibliographic_references.columns = ['work_program_id', 'description']"
      ],
      "execution_count": null,
      "outputs": []
    },
    {
      "cell_type": "code",
      "metadata": {
        "trusted": true,
        "id": "S5bAJP_GUsNQ"
      },
      "source": [
        "additional_info = pd.concat([descriptions, \n",
        "                             sections,\n",
        "                             bibliographic_references,\n",
        "                             topics])"
      ],
      "execution_count": null,
      "outputs": []
    },
    {
      "cell_type": "code",
      "metadata": {
        "trusted": true,
        "id": "V-gDM1LsUsNQ",
        "outputId": "6ce29188-f769-4923-815a-90495b23355f"
      },
      "source": [
        "additional_info.sample(10)"
      ],
      "execution_count": null,
      "outputs": [
        {
          "output_type": "execute_result",
          "data": {
            "text/plain": [
              "      work_program_id                                        description\n",
              "491             12813  Марков, А. С. Системы проектирования предприят...\n",
              "87               2639   Техника и технологии сжиженного природного газа.\n",
              "3704            13888                          Базовая настройка таймера\n",
              "4478            14007  Адаптивное управление, робастное управление, о...\n",
              "277              6633                                        Реодинамика\n",
              "404             11272  Алгоритмы на графах. Введение в графы и основн...\n",
              "839             11472  Сравнительный анализ электрофоретического и эл...\n",
              "183              4931         Предпосылки формирования теории надежности\n",
              "866             13966  Caseсредства автоматизированного проектировани...\n",
              "1076            14520   Технологии моделирования и прототипирования ПКФС"
            ],
            "text/html": [
              "<div>\n",
              "<style scoped>\n",
              "    .dataframe tbody tr th:only-of-type {\n",
              "        vertical-align: middle;\n",
              "    }\n",
              "\n",
              "    .dataframe tbody tr th {\n",
              "        vertical-align: top;\n",
              "    }\n",
              "\n",
              "    .dataframe thead th {\n",
              "        text-align: right;\n",
              "    }\n",
              "</style>\n",
              "<table border=\"1\" class=\"dataframe\">\n",
              "  <thead>\n",
              "    <tr style=\"text-align: right;\">\n",
              "      <th></th>\n",
              "      <th>work_program_id</th>\n",
              "      <th>description</th>\n",
              "    </tr>\n",
              "  </thead>\n",
              "  <tbody>\n",
              "    <tr>\n",
              "      <th>491</th>\n",
              "      <td>12813</td>\n",
              "      <td>Марков, А. С. Системы проектирования предприят...</td>\n",
              "    </tr>\n",
              "    <tr>\n",
              "      <th>87</th>\n",
              "      <td>2639</td>\n",
              "      <td>Техника и технологии сжиженного природного газа.</td>\n",
              "    </tr>\n",
              "    <tr>\n",
              "      <th>3704</th>\n",
              "      <td>13888</td>\n",
              "      <td>Базовая настройка таймера</td>\n",
              "    </tr>\n",
              "    <tr>\n",
              "      <th>4478</th>\n",
              "      <td>14007</td>\n",
              "      <td>Адаптивное управление, робастное управление, о...</td>\n",
              "    </tr>\n",
              "    <tr>\n",
              "      <th>277</th>\n",
              "      <td>6633</td>\n",
              "      <td>Реодинамика</td>\n",
              "    </tr>\n",
              "    <tr>\n",
              "      <th>404</th>\n",
              "      <td>11272</td>\n",
              "      <td>Алгоритмы на графах. Введение в графы и основн...</td>\n",
              "    </tr>\n",
              "    <tr>\n",
              "      <th>839</th>\n",
              "      <td>11472</td>\n",
              "      <td>Сравнительный анализ электрофоретического и эл...</td>\n",
              "    </tr>\n",
              "    <tr>\n",
              "      <th>183</th>\n",
              "      <td>4931</td>\n",
              "      <td>Предпосылки формирования теории надежности</td>\n",
              "    </tr>\n",
              "    <tr>\n",
              "      <th>866</th>\n",
              "      <td>13966</td>\n",
              "      <td>Caseсредства автоматизированного проектировани...</td>\n",
              "    </tr>\n",
              "    <tr>\n",
              "      <th>1076</th>\n",
              "      <td>14520</td>\n",
              "      <td>Технологии моделирования и прототипирования ПКФС</td>\n",
              "    </tr>\n",
              "  </tbody>\n",
              "</table>\n",
              "</div>"
            ]
          },
          "metadata": {
            "tags": []
          },
          "execution_count": 26
        }
      ]
    },
    {
      "cell_type": "markdown",
      "metadata": {
        "id": "O-91hFXPUsNQ"
      },
      "source": [
        "Text processing  \n",
        "[UDPipe model for lemmatization](https://notebook.community/akutuzov/webvectors/preprocessing/rusvectores_tutorial)"
      ]
    },
    {
      "cell_type": "code",
      "metadata": {
        "trusted": true,
        "id": "GrRpWae3UsNQ"
      },
      "source": [
        "def clean_token(token, misc):\n",
        "    out_token = token.strip().replace(' ', '')\n",
        "    if token == 'Файл' and 'SpaceAfter=No' in misc:\n",
        "        return None\n",
        "    return out_token\n",
        "\n",
        "\n",
        "def clean_lemma(lemma, pos):\n",
        "    out_lemma = lemma.strip().replace(' ', '').replace('_', '').lower()\n",
        "    if '|' in out_lemma or out_lemma.endswith('.jpg') or out_lemma.endswith('.png'):\n",
        "        return None\n",
        "    if pos != 'PUNCT':\n",
        "        if out_lemma.startswith('«') or out_lemma.startswith('»'):\n",
        "            out_lemma = ''.join(out_lemma[1:])\n",
        "        if out_lemma.endswith('«') or out_lemma.endswith('»'):\n",
        "            out_lemma = ''.join(out_lemma[:-1])\n",
        "        if out_lemma.endswith('!') or out_lemma.endswith('?') or out_lemma.endswith(',') \\\n",
        "                or out_lemma.endswith('.'):\n",
        "            out_lemma = ''.join(out_lemma[:-1])\n",
        "    return out_lemma"
      ],
      "execution_count": null,
      "outputs": []
    },
    {
      "cell_type": "code",
      "metadata": {
        "trusted": true,
        "id": "jGtn4UQtUsNR"
      },
      "source": [
        "def process(pipeline, text='Строка', keep_pos=True, keep_punct=False):\n",
        "\n",
        "    entities = {'PROPN'}\n",
        "    named = False\n",
        "    memory = []\n",
        "    mem_case = None\n",
        "    mem_number = None\n",
        "    tagged_propn = []\n",
        "\n",
        "    processed = pipeline.process(text)\n",
        "\n",
        "    content = [l for l in processed.split('\\n') if not l.startswith('#')]\n",
        "\n",
        "    tagged = [w.split('\\t') for w in content if w]\n",
        "\n",
        "    for t in tagged:\n",
        "        if len(t) != 10:\n",
        "            continue\n",
        "        (word_id, token, lemma, pos, xpos, feats, head, deprel, deps, misc) = t\n",
        "        token = clean_token(token, misc)\n",
        "        lemma = clean_lemma(lemma, pos)\n",
        "        if not lemma or not token:\n",
        "            continue\n",
        "        if pos in entities:\n",
        "            if '|' not in feats:\n",
        "                tagged_propn.append('%s_%s' % (lemma, pos))\n",
        "                continue\n",
        "            morph = {el.split('=')[0]: el.split('=')[1] for el in feats.split('|')}\n",
        "            if 'Case' not in morph or 'Number' not in morph:\n",
        "                tagged_propn.append('%s_%s' % (lemma, pos))\n",
        "                continue\n",
        "            if not named:\n",
        "                named = True\n",
        "                mem_case = morph['Case']\n",
        "                mem_number = morph['Number']\n",
        "            if morph['Case'] == mem_case and morph['Number'] == mem_number:\n",
        "                memory.append(lemma)\n",
        "                if 'SpacesAfter=\\\\n' in misc or 'SpacesAfter=\\s\\\\n' in misc:\n",
        "                    named = False\n",
        "                    past_lemma = '::'.join(memory)\n",
        "                    memory = []\n",
        "                    tagged_propn.append(past_lemma + '_PROPN')\n",
        "            else:\n",
        "                named = False\n",
        "                past_lemma = '::'.join(memory)\n",
        "                memory = []\n",
        "                tagged_propn.append(past_lemma + '_PROPN')\n",
        "                tagged_propn.append('%s_%s' % (lemma, pos))\n",
        "        else:\n",
        "            if not named:\n",
        "                tagged_propn.append('%s_%s' % (lemma, pos))\n",
        "            else:\n",
        "                named = False\n",
        "                past_lemma = '::'.join(memory)\n",
        "                memory = []\n",
        "                tagged_propn.append(past_lemma + '_PROPN')\n",
        "                tagged_propn.append('%s_%s' % (lemma, pos))\n",
        "\n",
        "    if not keep_punct:\n",
        "        tagged_propn = [word for word in tagged_propn if word.split('_')[1] != 'PUNCT']\n",
        "    if not keep_pos:\n",
        "        tagged_propn = [word.split('_')[0] for word in tagged_propn]\n",
        "    return tagged_propn"
      ],
      "execution_count": null,
      "outputs": []
    },
    {
      "cell_type": "code",
      "metadata": {
        "trusted": true,
        "id": "YtBeD_pJUsNS"
      },
      "source": [
        "def lemmatization(phrases):\n",
        "    output_phrase = []\n",
        "    for phrase in phrases:\n",
        "        if phrase == None or phrase == '':\n",
        "            continue\n",
        "        output_phrase.extend(process(process_pipeline,\n",
        "                                     text=phrase,\n",
        "                                     keep_pos=False))\n",
        "    return ' '.join([token for token in output_phrase])"
      ],
      "execution_count": null,
      "outputs": []
    },
    {
      "cell_type": "code",
      "metadata": {
        "trusted": true,
        "id": "6DGe_0v2UsNS"
      },
      "source": [
        "punctuation = '!\"$%&\\'()*+,./:;<=>?@[\\\\]^_`{|}~'"
      ],
      "execution_count": null,
      "outputs": []
    },
    {
      "cell_type": "code",
      "metadata": {
        "trusted": true,
        "id": "VZh5kQLPUsNS"
      },
      "source": [
        "additional_info['processed'] = additional_info.description.str.translate(str.maketrans(punctuation,\n",
        "                                                                                       ' ' * len(punctuation))).str.strip(' ')\n",
        "additional_info['processed'] = additional_info.description.str.split().apply(lambda words: lemmatization(words))"
      ],
      "execution_count": null,
      "outputs": []
    },
    {
      "cell_type": "code",
      "metadata": {
        "trusted": true,
        "id": "Kfi_XxdUUsNT"
      },
      "source": [
        "stop_words = stopwords.words('russian')\n",
        "additional_info.loc[:, 'processed'] = additional_info.loc[:, 'processed'].apply(lambda text: ' '.join([word\n",
        "                                                                                                 for word in text.split()\n",
        "                                                                                                 if word not in stop_words]))"
      ],
      "execution_count": null,
      "outputs": []
    },
    {
      "cell_type": "code",
      "metadata": {
        "trusted": true,
        "id": "jyVI2eMZUsNT",
        "outputId": "7c072e6e-6428-4ebc-fc32-0835dc1cc699"
      },
      "source": [
        "additional_info.sample(3)"
      ],
      "execution_count": null,
      "outputs": [
        {
          "output_type": "execute_result",
          "data": {
            "text/plain": [
              "      work_program_id                                        description  \\\n",
              "731              3842                                Датчики и актуаторы   \n",
              "989             13298               Интерактивная картография и Data Art   \n",
              "1378             3131  Роботизация производства. Робототехнические и ...   \n",
              "\n",
              "                                              processed  \n",
              "731                                     датчик актуатор  \n",
              "989                  интерактивный картография data art  \n",
              "1378  роботизация производство робототехнический мех...  "
            ],
            "text/html": [
              "<div>\n",
              "<style scoped>\n",
              "    .dataframe tbody tr th:only-of-type {\n",
              "        vertical-align: middle;\n",
              "    }\n",
              "\n",
              "    .dataframe tbody tr th {\n",
              "        vertical-align: top;\n",
              "    }\n",
              "\n",
              "    .dataframe thead th {\n",
              "        text-align: right;\n",
              "    }\n",
              "</style>\n",
              "<table border=\"1\" class=\"dataframe\">\n",
              "  <thead>\n",
              "    <tr style=\"text-align: right;\">\n",
              "      <th></th>\n",
              "      <th>work_program_id</th>\n",
              "      <th>description</th>\n",
              "      <th>processed</th>\n",
              "    </tr>\n",
              "  </thead>\n",
              "  <tbody>\n",
              "    <tr>\n",
              "      <th>731</th>\n",
              "      <td>3842</td>\n",
              "      <td>Датчики и актуаторы</td>\n",
              "      <td>датчик актуатор</td>\n",
              "    </tr>\n",
              "    <tr>\n",
              "      <th>989</th>\n",
              "      <td>13298</td>\n",
              "      <td>Интерактивная картография и Data Art</td>\n",
              "      <td>интерактивный картография data art</td>\n",
              "    </tr>\n",
              "    <tr>\n",
              "      <th>1378</th>\n",
              "      <td>3131</td>\n",
              "      <td>Роботизация производства. Робототехнические и ...</td>\n",
              "      <td>роботизация производство робототехнический мех...</td>\n",
              "    </tr>\n",
              "  </tbody>\n",
              "</table>\n",
              "</div>"
            ]
          },
          "metadata": {
            "tags": []
          },
          "execution_count": 33
        }
      ]
    },
    {
      "cell_type": "code",
      "metadata": {
        "trusted": true,
        "id": "50wu99sjUsNT"
      },
      "source": [
        "items = pd.DataFrame(keywords.name.unique())\n",
        "items.columns = ['item']"
      ],
      "execution_count": null,
      "outputs": []
    },
    {
      "cell_type": "code",
      "metadata": {
        "trusted": true,
        "id": "9fGhIhtwUsNT"
      },
      "source": [
        "items['word_count'] = items.item.apply(lambda name: len(str(name).split()))"
      ],
      "execution_count": null,
      "outputs": []
    },
    {
      "cell_type": "code",
      "metadata": {
        "trusted": true,
        "id": "NOXU0eG-UsNU",
        "outputId": "648c920c-1571-4c28-8678-882ed79d2dda"
      },
      "source": [
        "items.word_count.value_counts() # number of words in a key phrase"
      ],
      "execution_count": null,
      "outputs": [
        {
          "output_type": "execute_result",
          "data": {
            "text/plain": [
              "2     5161\n",
              "3     4251\n",
              "4     2705\n",
              "5     1454\n",
              "1     1200\n",
              "6      568\n",
              "7      268\n",
              "8       92\n",
              "9       28\n",
              "10      11\n",
              "11      10\n",
              "12       3\n",
              "14       3\n",
              "20       1\n",
              "13       1\n",
              "Name: word_count, dtype: int64"
            ]
          },
          "metadata": {
            "tags": []
          },
          "execution_count": 36
        }
      ]
    },
    {
      "cell_type": "code",
      "metadata": {
        "trusted": true,
        "id": "m1_LxI4CUsNU"
      },
      "source": [
        "one_word_items = items[items.word_count == 1].copy()\n",
        "few_word_items = items[items.word_count > 1].copy()"
      ],
      "execution_count": null,
      "outputs": []
    },
    {
      "cell_type": "code",
      "metadata": {
        "trusted": true,
        "id": "qedu2aoeUsNU",
        "outputId": "b6b3750a-e882-403d-db05-550257d6dd3d"
      },
      "source": [
        "one_word_items['processed'] = one_word_items.item.str.translate(str.maketrans(punctuation,\n",
        "                                                                              ' ' * len(punctuation))).str.strip(' ')\n",
        "one_word_items['processed'] = one_word_items['processed'].str.lower()\n",
        "one_word_items"
      ],
      "execution_count": null,
      "outputs": [
        {
          "output_type": "execute_result",
          "data": {
            "text/plain": [
              "                       item  word_count             processed\n",
              "28                Cleantech           1             cleantech\n",
              "30            Непрерывность           1         непрерывность\n",
              "51                Мотивация           1             мотивация\n",
              "70               Адсорбация           1            адсорбация\n",
              "74                    Сушка           1                 сушка\n",
              "...                     ...         ...                   ...\n",
              "15698  Веб-программирование           1  веб-программирование\n",
              "15711     Гидрогазодинамика           1     гидрогазодинамика\n",
              "15712          Теплотехника           1          теплотехника\n",
              "15713             Экономика           1             экономика\n",
              "15755             Алгоритмы           1             алгоритмы\n",
              "\n",
              "[1200 rows x 3 columns]"
            ],
            "text/html": [
              "<div>\n",
              "<style scoped>\n",
              "    .dataframe tbody tr th:only-of-type {\n",
              "        vertical-align: middle;\n",
              "    }\n",
              "\n",
              "    .dataframe tbody tr th {\n",
              "        vertical-align: top;\n",
              "    }\n",
              "\n",
              "    .dataframe thead th {\n",
              "        text-align: right;\n",
              "    }\n",
              "</style>\n",
              "<table border=\"1\" class=\"dataframe\">\n",
              "  <thead>\n",
              "    <tr style=\"text-align: right;\">\n",
              "      <th></th>\n",
              "      <th>item</th>\n",
              "      <th>word_count</th>\n",
              "      <th>processed</th>\n",
              "    </tr>\n",
              "  </thead>\n",
              "  <tbody>\n",
              "    <tr>\n",
              "      <th>28</th>\n",
              "      <td>Cleantech</td>\n",
              "      <td>1</td>\n",
              "      <td>cleantech</td>\n",
              "    </tr>\n",
              "    <tr>\n",
              "      <th>30</th>\n",
              "      <td>Непрерывность</td>\n",
              "      <td>1</td>\n",
              "      <td>непрерывность</td>\n",
              "    </tr>\n",
              "    <tr>\n",
              "      <th>51</th>\n",
              "      <td>Мотивация</td>\n",
              "      <td>1</td>\n",
              "      <td>мотивация</td>\n",
              "    </tr>\n",
              "    <tr>\n",
              "      <th>70</th>\n",
              "      <td>Адсорбация</td>\n",
              "      <td>1</td>\n",
              "      <td>адсорбация</td>\n",
              "    </tr>\n",
              "    <tr>\n",
              "      <th>74</th>\n",
              "      <td>Сушка</td>\n",
              "      <td>1</td>\n",
              "      <td>сушка</td>\n",
              "    </tr>\n",
              "    <tr>\n",
              "      <th>...</th>\n",
              "      <td>...</td>\n",
              "      <td>...</td>\n",
              "      <td>...</td>\n",
              "    </tr>\n",
              "    <tr>\n",
              "      <th>15698</th>\n",
              "      <td>Веб-программирование</td>\n",
              "      <td>1</td>\n",
              "      <td>веб-программирование</td>\n",
              "    </tr>\n",
              "    <tr>\n",
              "      <th>15711</th>\n",
              "      <td>Гидрогазодинамика</td>\n",
              "      <td>1</td>\n",
              "      <td>гидрогазодинамика</td>\n",
              "    </tr>\n",
              "    <tr>\n",
              "      <th>15712</th>\n",
              "      <td>Теплотехника</td>\n",
              "      <td>1</td>\n",
              "      <td>теплотехника</td>\n",
              "    </tr>\n",
              "    <tr>\n",
              "      <th>15713</th>\n",
              "      <td>Экономика</td>\n",
              "      <td>1</td>\n",
              "      <td>экономика</td>\n",
              "    </tr>\n",
              "    <tr>\n",
              "      <th>15755</th>\n",
              "      <td>Алгоритмы</td>\n",
              "      <td>1</td>\n",
              "      <td>алгоритмы</td>\n",
              "    </tr>\n",
              "  </tbody>\n",
              "</table>\n",
              "<p>1200 rows × 3 columns</p>\n",
              "</div>"
            ]
          },
          "metadata": {
            "tags": []
          },
          "execution_count": 39
        }
      ]
    },
    {
      "cell_type": "markdown",
      "metadata": {
        "id": "A-DI85DTUsNU"
      },
      "source": [
        "Search for exact occurrences of single word"
      ]
    },
    {
      "cell_type": "code",
      "metadata": {
        "trusted": true,
        "id": "R0pGKwM9UsNV"
      },
      "source": [
        "occurrences = {'workprogram_id': [],\n",
        "               'name': [],\n",
        "               'count': []}\n",
        "\n",
        "for description in additional_info.iterrows():\n",
        "    for item in one_word_items.iterrows():\n",
        "        count = len([m.start() for m in re.finditer(r'\\b' + item[1]['processed'] + r'\\b',\n",
        "                                                    description[1]['processed'])])\n",
        "        if count:\n",
        "            occurrences['workprogram_id'].append(description[1]['work_program_id'])\n",
        "            occurrences['name'].append(item[1]['item'])\n",
        "            occurrences['count'].append(count)"
      ],
      "execution_count": null,
      "outputs": []
    },
    {
      "cell_type": "code",
      "metadata": {
        "trusted": true,
        "id": "KSW-YxV3UsNV"
      },
      "source": [
        "pd.DataFrame(occurrences)"
      ],
      "execution_count": null,
      "outputs": []
    },
    {
      "cell_type": "markdown",
      "metadata": {
        "id": "j9arTHR9UsNV"
      },
      "source": [
        "Search for occurrences of n-grams according to cosine similarity (n > 1; cosine similarity > .9)"
      ]
    },
    {
      "cell_type": "code",
      "metadata": {
        "trusted": true,
        "id": "c08HEDl4UsNV",
        "outputId": "f8ff22fc-d479-47ba-e77a-d6de5f18bd48"
      },
      "source": [
        "few_word_items['processed'] = few_word_items.item.str.translate(str.maketrans(punctuation,\n",
        "                                                                              ' ' * len(punctuation))).str.strip(' ')\n",
        "few_word_items['processed'] = few_word_items['processed'].str.split().apply(lambda words: lemmatization(words))\n",
        "few_word_items['processed'] = few_word_items['processed'].apply(lambda text: ' '.join([word\n",
        "                                                                                       for word in text.split()\n",
        "                                                                                       if word not in stop_words]))"
      ],
      "execution_count": null,
      "outputs": [
        {
          "output_type": "execute_result",
          "data": {
            "text/plain": [
              "                                                    item  word_count  \\\n",
              "0                      Научно-исследовательская практика           2   \n",
              "1                                 Преддипломная практика           2   \n",
              "2                                Эмоциональный интеллект           2   \n",
              "3                       Управление собственными эмоциями           3   \n",
              "4                                       Понимание эмоций           2   \n",
              "...                                                  ...         ...   \n",
              "15750             Пропорционально-интегральный регулятор           2   \n",
              "15751                         Двигатели переменного тока           3   \n",
              "15752  Этапы производства наноструктурированных компо...           5   \n",
              "15753                   Элементарная теория вероятностей           3   \n",
              "15754    Технические средства автоматизации и управления           5   \n",
              "\n",
              "                                               processed  \n",
              "0                      научно-исследовательский практика  \n",
              "1                                 преддипломный практика  \n",
              "2                                эмоциональный интеллект  \n",
              "3                          управление собственный эмоция  \n",
              "4                                       понимание эмоция  \n",
              "...                                                  ...  \n",
              "15750             пропорционально интегральный регулятор  \n",
              "15751                           двигатель переменный ток  \n",
              "15752  этап производство наноструктурированный композ...  \n",
              "15753                    элементарный теория вероятность  \n",
              "15754      технический средство автоматизация управление  \n",
              "\n",
              "[14556 rows x 3 columns]"
            ],
            "text/html": [
              "<div>\n",
              "<style scoped>\n",
              "    .dataframe tbody tr th:only-of-type {\n",
              "        vertical-align: middle;\n",
              "    }\n",
              "\n",
              "    .dataframe tbody tr th {\n",
              "        vertical-align: top;\n",
              "    }\n",
              "\n",
              "    .dataframe thead th {\n",
              "        text-align: right;\n",
              "    }\n",
              "</style>\n",
              "<table border=\"1\" class=\"dataframe\">\n",
              "  <thead>\n",
              "    <tr style=\"text-align: right;\">\n",
              "      <th></th>\n",
              "      <th>item</th>\n",
              "      <th>word_count</th>\n",
              "      <th>processed</th>\n",
              "    </tr>\n",
              "  </thead>\n",
              "  <tbody>\n",
              "    <tr>\n",
              "      <th>0</th>\n",
              "      <td>Научно-исследовательская практика</td>\n",
              "      <td>2</td>\n",
              "      <td>научно-исследовательский практика</td>\n",
              "    </tr>\n",
              "    <tr>\n",
              "      <th>1</th>\n",
              "      <td>Преддипломная практика</td>\n",
              "      <td>2</td>\n",
              "      <td>преддипломный практика</td>\n",
              "    </tr>\n",
              "    <tr>\n",
              "      <th>2</th>\n",
              "      <td>Эмоциональный интеллект</td>\n",
              "      <td>2</td>\n",
              "      <td>эмоциональный интеллект</td>\n",
              "    </tr>\n",
              "    <tr>\n",
              "      <th>3</th>\n",
              "      <td>Управление собственными эмоциями</td>\n",
              "      <td>3</td>\n",
              "      <td>управление собственный эмоция</td>\n",
              "    </tr>\n",
              "    <tr>\n",
              "      <th>4</th>\n",
              "      <td>Понимание эмоций</td>\n",
              "      <td>2</td>\n",
              "      <td>понимание эмоция</td>\n",
              "    </tr>\n",
              "    <tr>\n",
              "      <th>...</th>\n",
              "      <td>...</td>\n",
              "      <td>...</td>\n",
              "      <td>...</td>\n",
              "    </tr>\n",
              "    <tr>\n",
              "      <th>15750</th>\n",
              "      <td>Пропорционально-интегральный регулятор</td>\n",
              "      <td>2</td>\n",
              "      <td>пропорционально интегральный регулятор</td>\n",
              "    </tr>\n",
              "    <tr>\n",
              "      <th>15751</th>\n",
              "      <td>Двигатели переменного тока</td>\n",
              "      <td>3</td>\n",
              "      <td>двигатель переменный ток</td>\n",
              "    </tr>\n",
              "    <tr>\n",
              "      <th>15752</th>\n",
              "      <td>Этапы производства наноструктурированных компо...</td>\n",
              "      <td>5</td>\n",
              "      <td>этап производство наноструктурированный композ...</td>\n",
              "    </tr>\n",
              "    <tr>\n",
              "      <th>15753</th>\n",
              "      <td>Элементарная теория вероятностей</td>\n",
              "      <td>3</td>\n",
              "      <td>элементарный теория вероятность</td>\n",
              "    </tr>\n",
              "    <tr>\n",
              "      <th>15754</th>\n",
              "      <td>Технические средства автоматизации и управления</td>\n",
              "      <td>5</td>\n",
              "      <td>технический средство автоматизация управление</td>\n",
              "    </tr>\n",
              "  </tbody>\n",
              "</table>\n",
              "<p>14556 rows × 3 columns</p>\n",
              "</div>"
            ]
          },
          "metadata": {
            "tags": []
          },
          "execution_count": 40
        }
      ]
    },
    {
      "cell_type": "code",
      "metadata": {
        "trusted": true,
        "id": "7gQJdLXAUsNW"
      },
      "source": [
        "few_word_items.sort_values(by='word_count', inplace=True)\n",
        "few_word_items.reset_index(drop=True, inplace=True)"
      ],
      "execution_count": null,
      "outputs": []
    },
    {
      "cell_type": "code",
      "metadata": {
        "trusted": true,
        "id": "Kh8Wjpa-UsNW"
      },
      "source": [
        "changes = few_word_items[few_word_items.word_count.diff() != 0].index.tolist() \n",
        "n_gram_range = [(few_word_items.loc[n, 'word_count'] - 1,\n",
        "                 few_word_items.loc[n, 'word_count'] + 1) for n in changes]"
      ],
      "execution_count": null,
      "outputs": []
    },
    {
      "cell_type": "code",
      "metadata": {
        "trusted": true,
        "id": "ZJbimyv6UsNW"
      },
      "source": [
        "item_names = few_word_items.item.to_list()\n",
        "item_processed = few_word_items.processed.to_list()"
      ],
      "execution_count": null,
      "outputs": []
    },
    {
      "cell_type": "code",
      "metadata": {
        "trusted": true,
        "id": "PxpdvBWPUsNW"
      },
      "source": [
        "item_embeddings = embed(item_processed)"
      ],
      "execution_count": null,
      "outputs": []
    },
    {
      "cell_type": "code",
      "metadata": {
        "trusted": true,
        "id": "CXe3dDJtUsNW"
      },
      "source": [
        "for n in changes[1:]:\n",
        "    print(n)\n",
        "    n_index = changes.index(n)\n",
        "    current_embeddings = item_embeddings[changes[n_index - 1] : n - 1]\n",
        "    vectorizer = CountVectorizer(ngram_range=n_gram_range[n_index])\n",
        "    for description in additional_info.iterrows():\n",
        "        try:\n",
        "            vectorizer.fit_transform([description[1]['processed']])\n",
        "            ngrams = vectorizer.get_feature_names()\n",
        "            ngram_embeddings = embed(ngrams)\n",
        "            similarity_matrix = np.inner(current_embeddings, ngram_embeddings)\n",
        "            count = np.count_nonzero(similarity_matrix > .9, axis=1)\n",
        "            \n",
        "            for n_count in range(len(count)):\n",
        "                if count[n_count]:\n",
        "                    occurrences['workprogram_id'].append(description[1]['work_program_id'])\n",
        "                    occurrences['name'].append(few_word_items.loc[changes[n_index - 1] + n_count, 'item'])\n",
        "                    occurrences['count'].append(count[n_count])\n",
        "        except ValueError:\n",
        "            continue"
      ],
      "execution_count": null,
      "outputs": []
    },
    {
      "cell_type": "code",
      "metadata": {
        "trusted": true,
        "id": "UvG1kgSHUsNX"
      },
      "source": [
        "occurrences = pd.read_csv('../input/diploma-stuff/occurencse.csv',\n",
        "                          sep=';',\n",
        "                          index_col=0)"
      ],
      "execution_count": null,
      "outputs": []
    },
    {
      "cell_type": "code",
      "metadata": {
        "trusted": true,
        "id": "PryY5K5sUsNX",
        "outputId": "8c9861c2-188f-48c9-da2a-edcba127843d"
      },
      "source": [
        "occurrences.sample(10)"
      ],
      "execution_count": null,
      "outputs": [
        {
          "output_type": "execute_result",
          "data": {
            "text/plain": [
              "       workprogram_id                                         name  count\n",
              "18040            3115                Лезвийная обработка заготовок      1\n",
              "11399           12544                            Современная наука      1\n",
              "19059            4707  Культивирование заквасочных микроорганизмов      1\n",
              "1175            12223                                         Игра      1\n",
              "1780             2747                                         Java      1\n",
              "15491           12866                              Природная среда      1\n",
              "7968             4912                     Управление оборудованием      1\n",
              "1883            12933                               Патентоведение      1\n",
              "13700            4885                          Системы менеджмента      1\n",
              "9163             6638                             Пищевые продукты      1"
            ],
            "text/html": [
              "<div>\n",
              "<style scoped>\n",
              "    .dataframe tbody tr th:only-of-type {\n",
              "        vertical-align: middle;\n",
              "    }\n",
              "\n",
              "    .dataframe tbody tr th {\n",
              "        vertical-align: top;\n",
              "    }\n",
              "\n",
              "    .dataframe thead th {\n",
              "        text-align: right;\n",
              "    }\n",
              "</style>\n",
              "<table border=\"1\" class=\"dataframe\">\n",
              "  <thead>\n",
              "    <tr style=\"text-align: right;\">\n",
              "      <th></th>\n",
              "      <th>workprogram_id</th>\n",
              "      <th>name</th>\n",
              "      <th>count</th>\n",
              "    </tr>\n",
              "  </thead>\n",
              "  <tbody>\n",
              "    <tr>\n",
              "      <th>18040</th>\n",
              "      <td>3115</td>\n",
              "      <td>Лезвийная обработка заготовок</td>\n",
              "      <td>1</td>\n",
              "    </tr>\n",
              "    <tr>\n",
              "      <th>11399</th>\n",
              "      <td>12544</td>\n",
              "      <td>Современная наука</td>\n",
              "      <td>1</td>\n",
              "    </tr>\n",
              "    <tr>\n",
              "      <th>19059</th>\n",
              "      <td>4707</td>\n",
              "      <td>Культивирование заквасочных микроорганизмов</td>\n",
              "      <td>1</td>\n",
              "    </tr>\n",
              "    <tr>\n",
              "      <th>1175</th>\n",
              "      <td>12223</td>\n",
              "      <td>Игра</td>\n",
              "      <td>1</td>\n",
              "    </tr>\n",
              "    <tr>\n",
              "      <th>1780</th>\n",
              "      <td>2747</td>\n",
              "      <td>Java</td>\n",
              "      <td>1</td>\n",
              "    </tr>\n",
              "    <tr>\n",
              "      <th>15491</th>\n",
              "      <td>12866</td>\n",
              "      <td>Природная среда</td>\n",
              "      <td>1</td>\n",
              "    </tr>\n",
              "    <tr>\n",
              "      <th>7968</th>\n",
              "      <td>4912</td>\n",
              "      <td>Управление оборудованием</td>\n",
              "      <td>1</td>\n",
              "    </tr>\n",
              "    <tr>\n",
              "      <th>1883</th>\n",
              "      <td>12933</td>\n",
              "      <td>Патентоведение</td>\n",
              "      <td>1</td>\n",
              "    </tr>\n",
              "    <tr>\n",
              "      <th>13700</th>\n",
              "      <td>4885</td>\n",
              "      <td>Системы менеджмента</td>\n",
              "      <td>1</td>\n",
              "    </tr>\n",
              "    <tr>\n",
              "      <th>9163</th>\n",
              "      <td>6638</td>\n",
              "      <td>Пищевые продукты</td>\n",
              "      <td>1</td>\n",
              "    </tr>\n",
              "  </tbody>\n",
              "</table>\n",
              "</div>"
            ]
          },
          "metadata": {
            "tags": []
          },
          "execution_count": 45
        }
      ]
    },
    {
      "cell_type": "code",
      "metadata": {
        "trusted": true,
        "id": "qjYHFMlKUsNX"
      },
      "source": [
        "occurrences = occurrences.groupby(['workprogram_id',\n",
        "                                   'name'])['count'].sum().reset_index()"
      ],
      "execution_count": null,
      "outputs": []
    },
    {
      "cell_type": "code",
      "metadata": {
        "trusted": true,
        "id": "Ws1AdGT2UsNX",
        "outputId": "bd1ab9e4-0db1-4211-bc38-960d5255d28c"
      },
      "source": [
        "occurrences # occurrences of keywords in additional information"
      ],
      "execution_count": null,
      "outputs": [
        {
          "output_type": "execute_result",
          "data": {
            "text/plain": [
              "       workprogram_id                                               name  \\\n",
              "0                   5                                      Анализ данных   \n",
              "1                   5                                   Аналитика данных   \n",
              "2                   5                            Государственная система   \n",
              "3                   5                         Единицы физических величин   \n",
              "4                   5                                 Единство измерений   \n",
              "...               ...                                                ...   \n",
              "12987           14537                           Устройства автоматизации   \n",
              "12988           14537                              Холодильная установка   \n",
              "12989           14537                              Холодильные установки   \n",
              "12990           14537                             Энергетические системы   \n",
              "12991           14537  ﻿Системы автоматизированного проектирования (С...   \n",
              "\n",
              "       count  \n",
              "0          1  \n",
              "1          1  \n",
              "2          2  \n",
              "3          1  \n",
              "4          4  \n",
              "...      ...  \n",
              "12987      1  \n",
              "12988      1  \n",
              "12989      1  \n",
              "12990      1  \n",
              "12991      2  \n",
              "\n",
              "[12992 rows x 3 columns]"
            ],
            "text/html": [
              "<div>\n",
              "<style scoped>\n",
              "    .dataframe tbody tr th:only-of-type {\n",
              "        vertical-align: middle;\n",
              "    }\n",
              "\n",
              "    .dataframe tbody tr th {\n",
              "        vertical-align: top;\n",
              "    }\n",
              "\n",
              "    .dataframe thead th {\n",
              "        text-align: right;\n",
              "    }\n",
              "</style>\n",
              "<table border=\"1\" class=\"dataframe\">\n",
              "  <thead>\n",
              "    <tr style=\"text-align: right;\">\n",
              "      <th></th>\n",
              "      <th>workprogram_id</th>\n",
              "      <th>name</th>\n",
              "      <th>count</th>\n",
              "    </tr>\n",
              "  </thead>\n",
              "  <tbody>\n",
              "    <tr>\n",
              "      <th>0</th>\n",
              "      <td>5</td>\n",
              "      <td>Анализ данных</td>\n",
              "      <td>1</td>\n",
              "    </tr>\n",
              "    <tr>\n",
              "      <th>1</th>\n",
              "      <td>5</td>\n",
              "      <td>Аналитика данных</td>\n",
              "      <td>1</td>\n",
              "    </tr>\n",
              "    <tr>\n",
              "      <th>2</th>\n",
              "      <td>5</td>\n",
              "      <td>Государственная система</td>\n",
              "      <td>2</td>\n",
              "    </tr>\n",
              "    <tr>\n",
              "      <th>3</th>\n",
              "      <td>5</td>\n",
              "      <td>Единицы физических величин</td>\n",
              "      <td>1</td>\n",
              "    </tr>\n",
              "    <tr>\n",
              "      <th>4</th>\n",
              "      <td>5</td>\n",
              "      <td>Единство измерений</td>\n",
              "      <td>4</td>\n",
              "    </tr>\n",
              "    <tr>\n",
              "      <th>...</th>\n",
              "      <td>...</td>\n",
              "      <td>...</td>\n",
              "      <td>...</td>\n",
              "    </tr>\n",
              "    <tr>\n",
              "      <th>12987</th>\n",
              "      <td>14537</td>\n",
              "      <td>Устройства автоматизации</td>\n",
              "      <td>1</td>\n",
              "    </tr>\n",
              "    <tr>\n",
              "      <th>12988</th>\n",
              "      <td>14537</td>\n",
              "      <td>Холодильная установка</td>\n",
              "      <td>1</td>\n",
              "    </tr>\n",
              "    <tr>\n",
              "      <th>12989</th>\n",
              "      <td>14537</td>\n",
              "      <td>Холодильные установки</td>\n",
              "      <td>1</td>\n",
              "    </tr>\n",
              "    <tr>\n",
              "      <th>12990</th>\n",
              "      <td>14537</td>\n",
              "      <td>Энергетические системы</td>\n",
              "      <td>1</td>\n",
              "    </tr>\n",
              "    <tr>\n",
              "      <th>12991</th>\n",
              "      <td>14537</td>\n",
              "      <td>﻿Системы автоматизированного проектирования (С...</td>\n",
              "      <td>2</td>\n",
              "    </tr>\n",
              "  </tbody>\n",
              "</table>\n",
              "<p>12992 rows × 3 columns</p>\n",
              "</div>"
            ]
          },
          "metadata": {
            "tags": []
          },
          "execution_count": 47
        }
      ]
    },
    {
      "cell_type": "markdown",
      "metadata": {
        "id": "RsBnOgO5WkrG"
      },
      "source": [
        "Example of full description of descipline content"
      ]
    },
    {
      "cell_type": "code",
      "metadata": {
        "trusted": true,
        "id": "K1pIdhpEUsNY",
        "outputId": "426829dc-9474-43bc-b68e-8be7c488e30c"
      },
      "source": [
        "disciplines.loc[disciplines.id == 14415, ['id', 'title', 'description']]"
      ],
      "execution_count": null,
      "outputs": [
        {
          "output_type": "execute_result",
          "data": {
            "text/plain": [
              "         id                                       title  \\\n",
              "5867  14415  Личная эффективность и управление временем   \n",
              "\n",
              "                                            description  \n",
              "5867  Программа \"Личная эффективность и управление в...  "
            ],
            "text/html": [
              "<div>\n",
              "<style scoped>\n",
              "    .dataframe tbody tr th:only-of-type {\n",
              "        vertical-align: middle;\n",
              "    }\n",
              "\n",
              "    .dataframe tbody tr th {\n",
              "        vertical-align: top;\n",
              "    }\n",
              "\n",
              "    .dataframe thead th {\n",
              "        text-align: right;\n",
              "    }\n",
              "</style>\n",
              "<table border=\"1\" class=\"dataframe\">\n",
              "  <thead>\n",
              "    <tr style=\"text-align: right;\">\n",
              "      <th></th>\n",
              "      <th>id</th>\n",
              "      <th>title</th>\n",
              "      <th>description</th>\n",
              "    </tr>\n",
              "  </thead>\n",
              "  <tbody>\n",
              "    <tr>\n",
              "      <th>5867</th>\n",
              "      <td>14415</td>\n",
              "      <td>Личная эффективность и управление временем</td>\n",
              "      <td>Программа \"Личная эффективность и управление в...</td>\n",
              "    </tr>\n",
              "  </tbody>\n",
              "</table>\n",
              "</div>"
            ]
          },
          "metadata": {
            "tags": []
          },
          "execution_count": 52
        }
      ]
    },
    {
      "cell_type": "code",
      "metadata": {
        "trusted": true,
        "id": "qFNC_yQIUsNY",
        "outputId": "febde9f1-7edc-441f-ccf9-849d29728285"
      },
      "source": [
        "workprogram_keywords[workprogram_keywords.workprogram_id == 14415].groupby('name').count() # all keywords for Личная эффективность и управление временем"
      ],
      "execution_count": null,
      "outputs": [
        {
          "output_type": "execute_result",
          "data": {
            "text/plain": [
              "                                                    masterylevel  \\\n",
              "name                                                               \n",
              "SMART Технологии тайм-менеджмента                              1   \n",
              "Дерево целей                                                   1   \n",
              "Диаграмма Ганта                                                1   \n",
              "Желания и базовые потребности                                  1   \n",
              "Индивидуальный подход в групповых процессах                    1   \n",
              "Индивидуальный стиль обучения                                  1   \n",
              "Индивидуальный стиль работы                                    1   \n",
              "Интеллектуальный труд                                          1   \n",
              "Колесо жизненного баланса                                      1   \n",
              "Командная эффективность                                        1   \n",
              "Командные роли                                                 1   \n",
              "Конструктивное сотрудничество                                  1   \n",
              "Личная эффективность                                           3   \n",
              "Личная эффективность и управление временем                     4   \n",
              "Матрица Эйзенхауэра                                            1   \n",
              "Метакогниция                                                   1   \n",
              "Моделирование развития                                         1   \n",
              "Мотивация                                                      4   \n",
              "Навыки 21 века                                                 1   \n",
              "Планы карьеры                                                  1   \n",
              "Принцип Парето                                                 1   \n",
              "Принципы работы в команде                                      1   \n",
              "Прокрастинация                                                 1   \n",
              "Психология                                                     2   \n",
              "Развитие личности                                              1   \n",
              "Ситуационное руководство                                       1   \n",
              "Совместная работа                                              1   \n",
              "Стратегическое планирование                                    1   \n",
              "Теория самодетерминации                                        1   \n",
              "Технологии постановки цели                                     1   \n",
              "Управление временем                                            4   \n",
              "Формирование видения своей жизни                               1   \n",
              "Формирование продуктивных отношений с другими л...             1   \n",
              "Формование доверия в команде                                   1   \n",
              "Целеполагание                                                  1   \n",
              "Эмоциональный интеллект                                        1   \n",
              "\n",
              "                                                    workprogram_id  \n",
              "name                                                                \n",
              "SMART Технологии тайм-менеджмента                                1  \n",
              "Дерево целей                                                     1  \n",
              "Диаграмма Ганта                                                  1  \n",
              "Желания и базовые потребности                                    1  \n",
              "Индивидуальный подход в групповых процессах                      1  \n",
              "Индивидуальный стиль обучения                                    1  \n",
              "Индивидуальный стиль работы                                      1  \n",
              "Интеллектуальный труд                                            1  \n",
              "Колесо жизненного баланса                                        1  \n",
              "Командная эффективность                                          1  \n",
              "Командные роли                                                   1  \n",
              "Конструктивное сотрудничество                                    1  \n",
              "Личная эффективность                                             3  \n",
              "Личная эффективность и управление временем                       4  \n",
              "Матрица Эйзенхауэра                                              1  \n",
              "Метакогниция                                                     1  \n",
              "Моделирование развития                                           1  \n",
              "Мотивация                                                        4  \n",
              "Навыки 21 века                                                   1  \n",
              "Планы карьеры                                                    1  \n",
              "Принцип Парето                                                   1  \n",
              "Принципы работы в команде                                        1  \n",
              "Прокрастинация                                                   1  \n",
              "Психология                                                       2  \n",
              "Развитие личности                                                1  \n",
              "Ситуационное руководство                                         1  \n",
              "Совместная работа                                                1  \n",
              "Стратегическое планирование                                      1  \n",
              "Теория самодетерминации                                          1  \n",
              "Технологии постановки цели                                       1  \n",
              "Управление временем                                              4  \n",
              "Формирование видения своей жизни                                 1  \n",
              "Формирование продуктивных отношений с другими л...               1  \n",
              "Формование доверия в команде                                     1  \n",
              "Целеполагание                                                    1  \n",
              "Эмоциональный интеллект                                          1  "
            ],
            "text/html": [
              "<div>\n",
              "<style scoped>\n",
              "    .dataframe tbody tr th:only-of-type {\n",
              "        vertical-align: middle;\n",
              "    }\n",
              "\n",
              "    .dataframe tbody tr th {\n",
              "        vertical-align: top;\n",
              "    }\n",
              "\n",
              "    .dataframe thead th {\n",
              "        text-align: right;\n",
              "    }\n",
              "</style>\n",
              "<table border=\"1\" class=\"dataframe\">\n",
              "  <thead>\n",
              "    <tr style=\"text-align: right;\">\n",
              "      <th></th>\n",
              "      <th>masterylevel</th>\n",
              "      <th>workprogram_id</th>\n",
              "    </tr>\n",
              "    <tr>\n",
              "      <th>name</th>\n",
              "      <th></th>\n",
              "      <th></th>\n",
              "    </tr>\n",
              "  </thead>\n",
              "  <tbody>\n",
              "    <tr>\n",
              "      <th>SMART Технологии тайм-менеджмента</th>\n",
              "      <td>1</td>\n",
              "      <td>1</td>\n",
              "    </tr>\n",
              "    <tr>\n",
              "      <th>Дерево целей</th>\n",
              "      <td>1</td>\n",
              "      <td>1</td>\n",
              "    </tr>\n",
              "    <tr>\n",
              "      <th>Диаграмма Ганта</th>\n",
              "      <td>1</td>\n",
              "      <td>1</td>\n",
              "    </tr>\n",
              "    <tr>\n",
              "      <th>Желания и базовые потребности</th>\n",
              "      <td>1</td>\n",
              "      <td>1</td>\n",
              "    </tr>\n",
              "    <tr>\n",
              "      <th>Индивидуальный подход в групповых процессах</th>\n",
              "      <td>1</td>\n",
              "      <td>1</td>\n",
              "    </tr>\n",
              "    <tr>\n",
              "      <th>Индивидуальный стиль обучения</th>\n",
              "      <td>1</td>\n",
              "      <td>1</td>\n",
              "    </tr>\n",
              "    <tr>\n",
              "      <th>Индивидуальный стиль работы</th>\n",
              "      <td>1</td>\n",
              "      <td>1</td>\n",
              "    </tr>\n",
              "    <tr>\n",
              "      <th>Интеллектуальный труд</th>\n",
              "      <td>1</td>\n",
              "      <td>1</td>\n",
              "    </tr>\n",
              "    <tr>\n",
              "      <th>Колесо жизненного баланса</th>\n",
              "      <td>1</td>\n",
              "      <td>1</td>\n",
              "    </tr>\n",
              "    <tr>\n",
              "      <th>Командная эффективность</th>\n",
              "      <td>1</td>\n",
              "      <td>1</td>\n",
              "    </tr>\n",
              "    <tr>\n",
              "      <th>Командные роли</th>\n",
              "      <td>1</td>\n",
              "      <td>1</td>\n",
              "    </tr>\n",
              "    <tr>\n",
              "      <th>Конструктивное сотрудничество</th>\n",
              "      <td>1</td>\n",
              "      <td>1</td>\n",
              "    </tr>\n",
              "    <tr>\n",
              "      <th>Личная эффективность</th>\n",
              "      <td>3</td>\n",
              "      <td>3</td>\n",
              "    </tr>\n",
              "    <tr>\n",
              "      <th>Личная эффективность и управление временем</th>\n",
              "      <td>4</td>\n",
              "      <td>4</td>\n",
              "    </tr>\n",
              "    <tr>\n",
              "      <th>Матрица Эйзенхауэра</th>\n",
              "      <td>1</td>\n",
              "      <td>1</td>\n",
              "    </tr>\n",
              "    <tr>\n",
              "      <th>Метакогниция</th>\n",
              "      <td>1</td>\n",
              "      <td>1</td>\n",
              "    </tr>\n",
              "    <tr>\n",
              "      <th>Моделирование развития</th>\n",
              "      <td>1</td>\n",
              "      <td>1</td>\n",
              "    </tr>\n",
              "    <tr>\n",
              "      <th>Мотивация</th>\n",
              "      <td>4</td>\n",
              "      <td>4</td>\n",
              "    </tr>\n",
              "    <tr>\n",
              "      <th>Навыки 21 века</th>\n",
              "      <td>1</td>\n",
              "      <td>1</td>\n",
              "    </tr>\n",
              "    <tr>\n",
              "      <th>Планы карьеры</th>\n",
              "      <td>1</td>\n",
              "      <td>1</td>\n",
              "    </tr>\n",
              "    <tr>\n",
              "      <th>Принцип Парето</th>\n",
              "      <td>1</td>\n",
              "      <td>1</td>\n",
              "    </tr>\n",
              "    <tr>\n",
              "      <th>Принципы работы в команде</th>\n",
              "      <td>1</td>\n",
              "      <td>1</td>\n",
              "    </tr>\n",
              "    <tr>\n",
              "      <th>Прокрастинация</th>\n",
              "      <td>1</td>\n",
              "      <td>1</td>\n",
              "    </tr>\n",
              "    <tr>\n",
              "      <th>Психология</th>\n",
              "      <td>2</td>\n",
              "      <td>2</td>\n",
              "    </tr>\n",
              "    <tr>\n",
              "      <th>Развитие личности</th>\n",
              "      <td>1</td>\n",
              "      <td>1</td>\n",
              "    </tr>\n",
              "    <tr>\n",
              "      <th>Ситуационное руководство</th>\n",
              "      <td>1</td>\n",
              "      <td>1</td>\n",
              "    </tr>\n",
              "    <tr>\n",
              "      <th>Совместная работа</th>\n",
              "      <td>1</td>\n",
              "      <td>1</td>\n",
              "    </tr>\n",
              "    <tr>\n",
              "      <th>Стратегическое планирование</th>\n",
              "      <td>1</td>\n",
              "      <td>1</td>\n",
              "    </tr>\n",
              "    <tr>\n",
              "      <th>Теория самодетерминации</th>\n",
              "      <td>1</td>\n",
              "      <td>1</td>\n",
              "    </tr>\n",
              "    <tr>\n",
              "      <th>Технологии постановки цели</th>\n",
              "      <td>1</td>\n",
              "      <td>1</td>\n",
              "    </tr>\n",
              "    <tr>\n",
              "      <th>Управление временем</th>\n",
              "      <td>4</td>\n",
              "      <td>4</td>\n",
              "    </tr>\n",
              "    <tr>\n",
              "      <th>Формирование видения своей жизни</th>\n",
              "      <td>1</td>\n",
              "      <td>1</td>\n",
              "    </tr>\n",
              "    <tr>\n",
              "      <th>Формирование продуктивных отношений с другими людьми</th>\n",
              "      <td>1</td>\n",
              "      <td>1</td>\n",
              "    </tr>\n",
              "    <tr>\n",
              "      <th>Формование доверия в команде</th>\n",
              "      <td>1</td>\n",
              "      <td>1</td>\n",
              "    </tr>\n",
              "    <tr>\n",
              "      <th>Целеполагание</th>\n",
              "      <td>1</td>\n",
              "      <td>1</td>\n",
              "    </tr>\n",
              "    <tr>\n",
              "      <th>Эмоциональный интеллект</th>\n",
              "      <td>1</td>\n",
              "      <td>1</td>\n",
              "    </tr>\n",
              "  </tbody>\n",
              "</table>\n",
              "</div>"
            ]
          },
          "metadata": {
            "tags": []
          },
          "execution_count": 30
        }
      ]
    },
    {
      "cell_type": "code",
      "metadata": {
        "trusted": true,
        "id": "iJliMaHfUsNY"
      },
      "source": [
        "keywords['count'] = 1"
      ],
      "execution_count": null,
      "outputs": []
    },
    {
      "cell_type": "code",
      "metadata": {
        "trusted": true,
        "id": "AOtHkK1xUsNY"
      },
      "source": [
        "keywords = pd.concat([keywords, occurrences], ignore_index=True)\n",
        "keywords['masterylevel'] = keywords.groupby('name').transform(lambda x: x.fillna(x.mean()))"
      ],
      "execution_count": null,
      "outputs": []
    },
    {
      "cell_type": "code",
      "metadata": {
        "trusted": true,
        "id": "P8A4ehZVUsNZ"
      },
      "source": [
        "keywords = pd.read_csv('../input/diploma-stuff/new_keywords.csv',\n",
        "                       sep=';',\n",
        "                       index_col=0)"
      ],
      "execution_count": null,
      "outputs": []
    },
    {
      "cell_type": "markdown",
      "metadata": {
        "id": "bNha0nf3UsNZ"
      },
      "source": [
        "Find identical disciplines"
      ]
    },
    {
      "cell_type": "code",
      "metadata": {
        "trusted": true,
        "id": "-V-HkFtqUsNZ"
      },
      "source": [
        "keywords = keywords.loc[keywords.index.repeat(keywords['count'])]"
      ],
      "execution_count": null,
      "outputs": []
    },
    {
      "cell_type": "code",
      "metadata": {
        "trusted": true,
        "id": "Dkcc7qBqUsNa",
        "outputId": "468d50d5-b371-46d2-986f-177d5f63b8a8"
      },
      "source": [
        "keywords # all keywords and discipline information"
      ],
      "execution_count": null,
      "outputs": [
        {
          "output_type": "execute_result",
          "data": {
            "text/plain": [
              "       masterylevel  workprogram_id  \\\n",
              "0               2.0           12684   \n",
              "1               2.0           12713   \n",
              "2               2.0           12714   \n",
              "3               2.0           12776   \n",
              "4               2.0           12828   \n",
              "...             ...             ...   \n",
              "64222           2.0           14537   \n",
              "64223           2.0           14537   \n",
              "64224           2.0           14537   \n",
              "64225           1.8           14537   \n",
              "64226           1.8           14537   \n",
              "\n",
              "                                                    name  \n",
              "0                      Научно-исследовательская практика  \n",
              "1                      Научно-исследовательская практика  \n",
              "2                      Научно-исследовательская практика  \n",
              "3                      Научно-исследовательская практика  \n",
              "4                      Научно-исследовательская практика  \n",
              "...                                                  ...  \n",
              "64222                              Холодильная установка  \n",
              "64223                              Холодильные установки  \n",
              "64224                             Энергетические системы  \n",
              "64225  ﻿Системы автоматизированного проектирования (С...  \n",
              "64226  ﻿Системы автоматизированного проектирования (С...  \n",
              "\n",
              "[64227 rows x 3 columns]"
            ],
            "text/html": [
              "<div>\n",
              "<style scoped>\n",
              "    .dataframe tbody tr th:only-of-type {\n",
              "        vertical-align: middle;\n",
              "    }\n",
              "\n",
              "    .dataframe tbody tr th {\n",
              "        vertical-align: top;\n",
              "    }\n",
              "\n",
              "    .dataframe thead th {\n",
              "        text-align: right;\n",
              "    }\n",
              "</style>\n",
              "<table border=\"1\" class=\"dataframe\">\n",
              "  <thead>\n",
              "    <tr style=\"text-align: right;\">\n",
              "      <th></th>\n",
              "      <th>masterylevel</th>\n",
              "      <th>workprogram_id</th>\n",
              "      <th>name</th>\n",
              "    </tr>\n",
              "  </thead>\n",
              "  <tbody>\n",
              "    <tr>\n",
              "      <th>0</th>\n",
              "      <td>2.0</td>\n",
              "      <td>12684</td>\n",
              "      <td>Научно-исследовательская практика</td>\n",
              "    </tr>\n",
              "    <tr>\n",
              "      <th>1</th>\n",
              "      <td>2.0</td>\n",
              "      <td>12713</td>\n",
              "      <td>Научно-исследовательская практика</td>\n",
              "    </tr>\n",
              "    <tr>\n",
              "      <th>2</th>\n",
              "      <td>2.0</td>\n",
              "      <td>12714</td>\n",
              "      <td>Научно-исследовательская практика</td>\n",
              "    </tr>\n",
              "    <tr>\n",
              "      <th>3</th>\n",
              "      <td>2.0</td>\n",
              "      <td>12776</td>\n",
              "      <td>Научно-исследовательская практика</td>\n",
              "    </tr>\n",
              "    <tr>\n",
              "      <th>4</th>\n",
              "      <td>2.0</td>\n",
              "      <td>12828</td>\n",
              "      <td>Научно-исследовательская практика</td>\n",
              "    </tr>\n",
              "    <tr>\n",
              "      <th>...</th>\n",
              "      <td>...</td>\n",
              "      <td>...</td>\n",
              "      <td>...</td>\n",
              "    </tr>\n",
              "    <tr>\n",
              "      <th>64222</th>\n",
              "      <td>2.0</td>\n",
              "      <td>14537</td>\n",
              "      <td>Холодильная установка</td>\n",
              "    </tr>\n",
              "    <tr>\n",
              "      <th>64223</th>\n",
              "      <td>2.0</td>\n",
              "      <td>14537</td>\n",
              "      <td>Холодильные установки</td>\n",
              "    </tr>\n",
              "    <tr>\n",
              "      <th>64224</th>\n",
              "      <td>2.0</td>\n",
              "      <td>14537</td>\n",
              "      <td>Энергетические системы</td>\n",
              "    </tr>\n",
              "    <tr>\n",
              "      <th>64225</th>\n",
              "      <td>1.8</td>\n",
              "      <td>14537</td>\n",
              "      <td>﻿Системы автоматизированного проектирования (С...</td>\n",
              "    </tr>\n",
              "    <tr>\n",
              "      <th>64226</th>\n",
              "      <td>1.8</td>\n",
              "      <td>14537</td>\n",
              "      <td>﻿Системы автоматизированного проектирования (С...</td>\n",
              "    </tr>\n",
              "  </tbody>\n",
              "</table>\n",
              "<p>64227 rows × 3 columns</p>\n",
              "</div>"
            ]
          },
          "metadata": {
            "tags": []
          },
          "execution_count": 58
        }
      ]
    },
    {
      "cell_type": "code",
      "metadata": {
        "trusted": true,
        "id": "d8Ui60YKUsNa"
      },
      "source": [
        "keywords.reset_index(inplace=True, drop=True)\n",
        "keywords.drop('count', axis=1, inplace=True)"
      ],
      "execution_count": null,
      "outputs": []
    },
    {
      "cell_type": "code",
      "metadata": {
        "trusted": true,
        "id": "16EPiqwCUsNa"
      },
      "source": [
        "workprogram_id_keywords = {}\n",
        "keyword_groups = keywords.groupby('workprogram_id')\n",
        "discipline_ids = keywords.workprogram_id.unique()\n",
        "for discipline_id in discipline_ids:\n",
        "    workprogram_id_keywords[discipline_id] = [keyword_groups.get_group(discipline_id).name.to_list()]"
      ],
      "execution_count": null,
      "outputs": []
    },
    {
      "cell_type": "code",
      "metadata": {
        "id": "xmCOIcmZFNIA"
      },
      "source": [
        "workprogram_keywords = pd.read_csv('/content/drive/MyDrive/Colab Notebooks/discipline embeddings/new_workprogram_keywords.csv',\n",
        "                                   sep=';',\n",
        "                                   index_col=0)"
      ],
      "execution_count": null,
      "outputs": []
    },
    {
      "cell_type": "code",
      "metadata": {
        "trusted": true,
        "id": "TiDL-ib4UsNa"
      },
      "source": [
        "workprogram_keywords = pd.DataFrame(workprogram_id_keywords).T"
      ],
      "execution_count": null,
      "outputs": []
    },
    {
      "cell_type": "code",
      "metadata": {
        "trusted": true,
        "id": "vvGzJXoQUsNb"
      },
      "source": [
        "workprogram_keywords.reset_index(inplace=True)"
      ],
      "execution_count": null,
      "outputs": []
    },
    {
      "cell_type": "code",
      "metadata": {
        "trusted": true,
        "id": "pXIvYgMVUsNb"
      },
      "source": [
        "workprogram_keywords.columns = ['work_program_id', 'keywords']"
      ],
      "execution_count": null,
      "outputs": []
    },
    {
      "cell_type": "code",
      "metadata": {
        "trusted": true,
        "id": "qusrZ6ewUsNb"
      },
      "source": [
        "workprogram_keywords['subject'] = workprogram_keywords['work_program_id'].map(pd.Series(disciplines.title.values,index=disciplines.id).to_dict())"
      ],
      "execution_count": null,
      "outputs": []
    },
    {
      "cell_type": "code",
      "metadata": {
        "trusted": true,
        "id": "opzXLqcoUsNc"
      },
      "source": [
        "def sort_keywords(keywords):\n",
        "    keywords = list(keywords)\n",
        "    keywords.sort()\n",
        "    return keywords"
      ],
      "execution_count": null,
      "outputs": []
    },
    {
      "cell_type": "code",
      "metadata": {
        "trusted": true,
        "id": "IgF5y12fUsNc"
      },
      "source": [
        "workprogram_keywords.keywords = workprogram_keywords.keywords.apply(lambda keyword: sort_keywords(keyword))"
      ],
      "execution_count": null,
      "outputs": []
    },
    {
      "cell_type": "code",
      "metadata": {
        "trusted": true,
        "id": "nPu4DTGWUsNc"
      },
      "source": [
        "workprogram_keywords['keywords_str'] = workprogram_keywords.keywords.apply(lambda keywords: ';'.join(keywords))"
      ],
      "execution_count": null,
      "outputs": []
    },
    {
      "cell_type": "code",
      "metadata": {
        "trusted": true,
        "id": "W1Iodmp7UsNc"
      },
      "source": [
        "keywords.workprogram_id.unique().size"
      ],
      "execution_count": null,
      "outputs": []
    },
    {
      "cell_type": "code",
      "metadata": {
        "trusted": true,
        "id": "spY81o0hUsNc"
      },
      "source": [
        "workprogram_keywords"
      ],
      "execution_count": null,
      "outputs": []
    },
    {
      "cell_type": "code",
      "metadata": {
        "trusted": true,
        "id": "cUOMnX5eUsNd"
      },
      "source": [
        "workprogram_keywords = pd.read_csv('../input/diploma-stuff/new_workprogram_keywords.csv',\n",
        "                                   sep=';',\n",
        "                                   index_col=0)"
      ],
      "execution_count": null,
      "outputs": []
    },
    {
      "cell_type": "code",
      "metadata": {
        "trusted": true,
        "id": "1O1CpsgDUsNd",
        "outputId": "90cb993b-ec95-4470-e991-105ffdd2880d"
      },
      "source": [
        "workprogram_keywords"
      ],
      "execution_count": null,
      "outputs": [
        {
          "output_type": "execute_result",
          "data": {
            "text/plain": [
              "      work_program_id                                           keywords  \\\n",
              "0               12684              ['Научно-исследовательская практика']   \n",
              "1               12713              ['Научно-исследовательская практика']   \n",
              "2               12714              ['Научно-исследовательская практика']   \n",
              "3               12776              ['Научно-исследовательская практика']   \n",
              "4               12828              ['Научно-исследовательская практика']   \n",
              "...               ...                                                ...   \n",
              "3882            12808  ['Безопасности сырья и пищевых продуктов', 'Бе...   \n",
              "3883            12842  ['Адекватное питание', 'Адекватное питание', '...   \n",
              "3884            13355  ['Big Data', 'Big Data', 'Digital Humanities',...   \n",
              "3885            13801  ['Вариационные методы', 'Лазерный импульс', 'Л...   \n",
              "3886            14384  ['Алгоритм', 'Защита данных', 'Защита информац...   \n",
              "\n",
              "                                                subject  \\\n",
              "0     Производственная, научно-исследовательская работа   \n",
              "1     Производственная, научно-исследовательская раб...   \n",
              "2     Производственная, научно-исследовательская / R...   \n",
              "3     Производственная, научно-исследовательская раб...   \n",
              "4     Производственная, научно-исследовательская раб...   \n",
              "...                                                 ...   \n",
              "3882  Инновационные технологии производства экологич...   \n",
              "3883                          Пищевая химия и аналитика   \n",
              "3884          Гуманитарные подходы к цифровым практикам   \n",
              "3885            Фемтосекундная оптика и фемтотехнологии   \n",
              "3886               Стеганографическая защита информации   \n",
              "\n",
              "                                           keywords_str  \n",
              "0                     Научно-исследовательская практика  \n",
              "1                     Научно-исследовательская практика  \n",
              "2                     Научно-исследовательская практика  \n",
              "3                     Научно-исследовательская практика  \n",
              "4                     Научно-исследовательская практика  \n",
              "...                                                 ...  \n",
              "3882  Безопасности сырья и пищевых продуктов;Безопас...  \n",
              "3883  Адекватное питание;Адекватное питание;Атрибуты...  \n",
              "3884  Big Data;Big Data;Digital Humanities;Большие д...  \n",
              "3885  Вариационные методы;Лазерный импульс;Лазерный ...  \n",
              "3886  Алгоритм;Защита данных;Защита информации;Инфор...  \n",
              "\n",
              "[3887 rows x 4 columns]"
            ],
            "text/html": [
              "<div>\n",
              "<style scoped>\n",
              "    .dataframe tbody tr th:only-of-type {\n",
              "        vertical-align: middle;\n",
              "    }\n",
              "\n",
              "    .dataframe tbody tr th {\n",
              "        vertical-align: top;\n",
              "    }\n",
              "\n",
              "    .dataframe thead th {\n",
              "        text-align: right;\n",
              "    }\n",
              "</style>\n",
              "<table border=\"1\" class=\"dataframe\">\n",
              "  <thead>\n",
              "    <tr style=\"text-align: right;\">\n",
              "      <th></th>\n",
              "      <th>work_program_id</th>\n",
              "      <th>keywords</th>\n",
              "      <th>subject</th>\n",
              "      <th>keywords_str</th>\n",
              "    </tr>\n",
              "  </thead>\n",
              "  <tbody>\n",
              "    <tr>\n",
              "      <th>0</th>\n",
              "      <td>12684</td>\n",
              "      <td>['Научно-исследовательская практика']</td>\n",
              "      <td>Производственная, научно-исследовательская работа</td>\n",
              "      <td>Научно-исследовательская практика</td>\n",
              "    </tr>\n",
              "    <tr>\n",
              "      <th>1</th>\n",
              "      <td>12713</td>\n",
              "      <td>['Научно-исследовательская практика']</td>\n",
              "      <td>Производственная, научно-исследовательская раб...</td>\n",
              "      <td>Научно-исследовательская практика</td>\n",
              "    </tr>\n",
              "    <tr>\n",
              "      <th>2</th>\n",
              "      <td>12714</td>\n",
              "      <td>['Научно-исследовательская практика']</td>\n",
              "      <td>Производственная, научно-исследовательская / R...</td>\n",
              "      <td>Научно-исследовательская практика</td>\n",
              "    </tr>\n",
              "    <tr>\n",
              "      <th>3</th>\n",
              "      <td>12776</td>\n",
              "      <td>['Научно-исследовательская практика']</td>\n",
              "      <td>Производственная, научно-исследовательская раб...</td>\n",
              "      <td>Научно-исследовательская практика</td>\n",
              "    </tr>\n",
              "    <tr>\n",
              "      <th>4</th>\n",
              "      <td>12828</td>\n",
              "      <td>['Научно-исследовательская практика']</td>\n",
              "      <td>Производственная, научно-исследовательская раб...</td>\n",
              "      <td>Научно-исследовательская практика</td>\n",
              "    </tr>\n",
              "    <tr>\n",
              "      <th>...</th>\n",
              "      <td>...</td>\n",
              "      <td>...</td>\n",
              "      <td>...</td>\n",
              "      <td>...</td>\n",
              "    </tr>\n",
              "    <tr>\n",
              "      <th>3882</th>\n",
              "      <td>12808</td>\n",
              "      <td>['Безопасности сырья и пищевых продуктов', 'Бе...</td>\n",
              "      <td>Инновационные технологии производства экологич...</td>\n",
              "      <td>Безопасности сырья и пищевых продуктов;Безопас...</td>\n",
              "    </tr>\n",
              "    <tr>\n",
              "      <th>3883</th>\n",
              "      <td>12842</td>\n",
              "      <td>['Адекватное питание', 'Адекватное питание', '...</td>\n",
              "      <td>Пищевая химия и аналитика</td>\n",
              "      <td>Адекватное питание;Адекватное питание;Атрибуты...</td>\n",
              "    </tr>\n",
              "    <tr>\n",
              "      <th>3884</th>\n",
              "      <td>13355</td>\n",
              "      <td>['Big Data', 'Big Data', 'Digital Humanities',...</td>\n",
              "      <td>Гуманитарные подходы к цифровым практикам</td>\n",
              "      <td>Big Data;Big Data;Digital Humanities;Большие д...</td>\n",
              "    </tr>\n",
              "    <tr>\n",
              "      <th>3885</th>\n",
              "      <td>13801</td>\n",
              "      <td>['Вариационные методы', 'Лазерный импульс', 'Л...</td>\n",
              "      <td>Фемтосекундная оптика и фемтотехнологии</td>\n",
              "      <td>Вариационные методы;Лазерный импульс;Лазерный ...</td>\n",
              "    </tr>\n",
              "    <tr>\n",
              "      <th>3886</th>\n",
              "      <td>14384</td>\n",
              "      <td>['Алгоритм', 'Защита данных', 'Защита информац...</td>\n",
              "      <td>Стеганографическая защита информации</td>\n",
              "      <td>Алгоритм;Защита данных;Защита информации;Инфор...</td>\n",
              "    </tr>\n",
              "  </tbody>\n",
              "</table>\n",
              "<p>3887 rows × 4 columns</p>\n",
              "</div>"
            ]
          },
          "metadata": {
            "tags": []
          },
          "execution_count": 64
        }
      ]
    },
    {
      "cell_type": "markdown",
      "metadata": {
        "id": "fNRyBbH_UsNd"
      },
      "source": [
        "3887 disciplines with unique combination of subject, keywords and mastery level of keywords. (Mastery level represent the level of complexity and the degree of immersion in the subject.)"
      ]
    },
    {
      "cell_type": "markdown",
      "metadata": {
        "id": "BaNcRapGUsNd"
      },
      "source": [
        "TF-IDF (basis for LSI)  \n",
        "Rows are disciplines; columns are keywords/keyphrases."
      ]
    },
    {
      "cell_type": "code",
      "metadata": {
        "trusted": true,
        "id": "Bs1Y36XeUsNd"
      },
      "source": [
        "subject_keywords = workprogram_keywords.groupby(['subject',\n",
        "                                                 'keywords_str']).size().reset_index().rename(columns={0:'count'}).sort_values(by='count', ascending=False)\n",
        "subject_keywords.reset_index(drop=True, inplace=True)"
      ],
      "execution_count": null,
      "outputs": []
    },
    {
      "cell_type": "code",
      "metadata": {
        "trusted": true,
        "id": "XPOE8mYNUsNe"
      },
      "source": [
        "tf_idf = pd.DataFrame()\n",
        "for _, row in subject_keywords.iterrows():\n",
        "    tf_idf = tf_idf.append(pd.DataFrame.from_dict(Counter(row.keywords_str.split(';')), orient='index').transpose(), ignore_index=True)"
      ],
      "execution_count": null,
      "outputs": []
    },
    {
      "cell_type": "code",
      "metadata": {
        "trusted": true,
        "id": "IfaFGiPhUsNe",
        "outputId": "725500dd-a279-451a-9d40-09edf34334a0"
      },
      "source": [
        "tf_idf = tf_idf.fillna(0)\n",
        "tf_idf"
      ],
      "execution_count": null,
      "outputs": [
        {
          "output_type": "execute_result",
          "data": {
            "text/plain": [
              "      Преддипломная практика  Защита ВКР  Подготовка ВКР  \\\n",
              "0                        1.0         0.0             0.0   \n",
              "1                        0.0         1.0             1.0   \n",
              "2                        0.0         0.0             0.0   \n",
              "3                        0.0         0.0             0.0   \n",
              "4                        0.0         0.0             0.0   \n",
              "...                      ...         ...             ...   \n",
              "2931                     0.0         0.0             0.0   \n",
              "2932                     0.0         0.0             0.0   \n",
              "2933                     0.0         0.0             0.0   \n",
              "2934                     0.0         0.0             0.0   \n",
              "2935                     0.0         0.0             0.0   \n",
              "\n",
              "      Научно-исследовательская практика  Проектно-технологическая практика  \\\n",
              "0                                   0.0                                0.0   \n",
              "1                                   0.0                                0.0   \n",
              "2                                   1.0                                0.0   \n",
              "3                                   0.0                                1.0   \n",
              "4                                   0.0                                0.0   \n",
              "...                                 ...                                ...   \n",
              "2931                                0.0                                0.0   \n",
              "2932                                0.0                                0.0   \n",
              "2933                                0.0                                0.0   \n",
              "2934                                0.0                                0.0   \n",
              "2935                                0.0                                0.0   \n",
              "\n",
              "      Учебная ознакомительная практика  Защита магистерской диссертации  \\\n",
              "0                                  0.0                              0.0   \n",
              "1                                  0.0                              0.0   \n",
              "2                                  0.0                              0.0   \n",
              "3                                  0.0                              0.0   \n",
              "4                                  1.0                              0.0   \n",
              "...                                ...                              ...   \n",
              "2931                               0.0                              0.0   \n",
              "2932                               0.0                              0.0   \n",
              "2933                               0.0                              0.0   \n",
              "2934                               0.0                              0.0   \n",
              "2935                               0.0                              0.0   \n",
              "\n",
              "      Подготовка магистерской диссертации  Биномы и полиномы  \\\n",
              "0                                     0.0                0.0   \n",
              "1                                     0.0                0.0   \n",
              "2                                     0.0                0.0   \n",
              "3                                     0.0                0.0   \n",
              "4                                     0.0                0.0   \n",
              "...                                   ...                ...   \n",
              "2931                                  0.0                0.0   \n",
              "2932                                  0.0                0.0   \n",
              "2933                                  0.0                0.0   \n",
              "2934                                  0.0                0.0   \n",
              "2935                                  0.0                0.0   \n",
              "\n",
              "      Булева алгебра множеств  ...  Системы пищевых продуктов  \\\n",
              "0                         0.0  ...                        0.0   \n",
              "1                         0.0  ...                        0.0   \n",
              "2                         0.0  ...                        0.0   \n",
              "3                         0.0  ...                        0.0   \n",
              "4                         0.0  ...                        0.0   \n",
              "...                       ...  ...                        ...   \n",
              "2931                      0.0  ...                        1.0   \n",
              "2932                      0.0  ...                        0.0   \n",
              "2933                      0.0  ...                        0.0   \n",
              "2934                      0.0  ...                        0.0   \n",
              "2935                      0.0  ...                        0.0   \n",
              "\n",
              "      Дифракционный предел Аббе  Оптическая наноскопия  Радиус кривизны зонда  \\\n",
              "0                           0.0                    0.0                    0.0   \n",
              "1                           0.0                    0.0                    0.0   \n",
              "2                           0.0                    0.0                    0.0   \n",
              "3                           0.0                    0.0                    0.0   \n",
              "4                           0.0                    0.0                    0.0   \n",
              "...                         ...                    ...                    ...   \n",
              "2931                        0.0                    0.0                    0.0   \n",
              "2932                        0.0                    0.0                    0.0   \n",
              "2933                        1.0                    1.0                    1.0   \n",
              "2934                        0.0                    0.0                    0.0   \n",
              "2935                        0.0                    0.0                    0.0   \n",
              "\n",
              "      Режимы работы СЗМ  Системы регистрации деформаций кантилевера  \\\n",
              "0                   0.0                                         0.0   \n",
              "1                   0.0                                         0.0   \n",
              "2                   0.0                                         0.0   \n",
              "3                   0.0                                         0.0   \n",
              "4                   0.0                                         0.0   \n",
              "...                 ...                                         ...   \n",
              "2931                0.0                                         0.0   \n",
              "2932                0.0                                         0.0   \n",
              "2933                1.0                                         1.0   \n",
              "2934                0.0                                         0.0   \n",
              "2935                0.0                                         0.0   \n",
              "\n",
              "      Юстировка оптического рычага  Микробные клетки  \\\n",
              "0                              0.0               0.0   \n",
              "1                              0.0               0.0   \n",
              "2                              0.0               0.0   \n",
              "3                              0.0               0.0   \n",
              "4                              0.0               0.0   \n",
              "...                            ...               ...   \n",
              "2931                           0.0               0.0   \n",
              "2932                           0.0               0.0   \n",
              "2933                           1.0               0.0   \n",
              "2934                           0.0               1.0   \n",
              "2935                           0.0               0.0   \n",
              "\n",
              "      Химический состав клеток  Роли философствования в научной среде  \n",
              "0                          0.0                                    0.0  \n",
              "1                          0.0                                    0.0  \n",
              "2                          0.0                                    0.0  \n",
              "3                          0.0                                    0.0  \n",
              "4                          0.0                                    0.0  \n",
              "...                        ...                                    ...  \n",
              "2931                       0.0                                    0.0  \n",
              "2932                       0.0                                    0.0  \n",
              "2933                       0.0                                    0.0  \n",
              "2934                       1.0                                    0.0  \n",
              "2935                       0.0                                    1.0  \n",
              "\n",
              "[2936 rows x 15756 columns]"
            ],
            "text/html": [
              "<div>\n",
              "<style scoped>\n",
              "    .dataframe tbody tr th:only-of-type {\n",
              "        vertical-align: middle;\n",
              "    }\n",
              "\n",
              "    .dataframe tbody tr th {\n",
              "        vertical-align: top;\n",
              "    }\n",
              "\n",
              "    .dataframe thead th {\n",
              "        text-align: right;\n",
              "    }\n",
              "</style>\n",
              "<table border=\"1\" class=\"dataframe\">\n",
              "  <thead>\n",
              "    <tr style=\"text-align: right;\">\n",
              "      <th></th>\n",
              "      <th>Преддипломная практика</th>\n",
              "      <th>Защита ВКР</th>\n",
              "      <th>Подготовка ВКР</th>\n",
              "      <th>Научно-исследовательская практика</th>\n",
              "      <th>Проектно-технологическая практика</th>\n",
              "      <th>Учебная ознакомительная практика</th>\n",
              "      <th>Защита магистерской диссертации</th>\n",
              "      <th>Подготовка магистерской диссертации</th>\n",
              "      <th>Биномы и полиномы</th>\n",
              "      <th>Булева алгебра множеств</th>\n",
              "      <th>...</th>\n",
              "      <th>Системы пищевых продуктов</th>\n",
              "      <th>Дифракционный предел Аббе</th>\n",
              "      <th>Оптическая наноскопия</th>\n",
              "      <th>Радиус кривизны зонда</th>\n",
              "      <th>Режимы работы СЗМ</th>\n",
              "      <th>Системы регистрации деформаций кантилевера</th>\n",
              "      <th>Юстировка оптического рычага</th>\n",
              "      <th>Микробные клетки</th>\n",
              "      <th>Химический состав клеток</th>\n",
              "      <th>Роли философствования в научной среде</th>\n",
              "    </tr>\n",
              "  </thead>\n",
              "  <tbody>\n",
              "    <tr>\n",
              "      <th>0</th>\n",
              "      <td>1.0</td>\n",
              "      <td>0.0</td>\n",
              "      <td>0.0</td>\n",
              "      <td>0.0</td>\n",
              "      <td>0.0</td>\n",
              "      <td>0.0</td>\n",
              "      <td>0.0</td>\n",
              "      <td>0.0</td>\n",
              "      <td>0.0</td>\n",
              "      <td>0.0</td>\n",
              "      <td>...</td>\n",
              "      <td>0.0</td>\n",
              "      <td>0.0</td>\n",
              "      <td>0.0</td>\n",
              "      <td>0.0</td>\n",
              "      <td>0.0</td>\n",
              "      <td>0.0</td>\n",
              "      <td>0.0</td>\n",
              "      <td>0.0</td>\n",
              "      <td>0.0</td>\n",
              "      <td>0.0</td>\n",
              "    </tr>\n",
              "    <tr>\n",
              "      <th>1</th>\n",
              "      <td>0.0</td>\n",
              "      <td>1.0</td>\n",
              "      <td>1.0</td>\n",
              "      <td>0.0</td>\n",
              "      <td>0.0</td>\n",
              "      <td>0.0</td>\n",
              "      <td>0.0</td>\n",
              "      <td>0.0</td>\n",
              "      <td>0.0</td>\n",
              "      <td>0.0</td>\n",
              "      <td>...</td>\n",
              "      <td>0.0</td>\n",
              "      <td>0.0</td>\n",
              "      <td>0.0</td>\n",
              "      <td>0.0</td>\n",
              "      <td>0.0</td>\n",
              "      <td>0.0</td>\n",
              "      <td>0.0</td>\n",
              "      <td>0.0</td>\n",
              "      <td>0.0</td>\n",
              "      <td>0.0</td>\n",
              "    </tr>\n",
              "    <tr>\n",
              "      <th>2</th>\n",
              "      <td>0.0</td>\n",
              "      <td>0.0</td>\n",
              "      <td>0.0</td>\n",
              "      <td>1.0</td>\n",
              "      <td>0.0</td>\n",
              "      <td>0.0</td>\n",
              "      <td>0.0</td>\n",
              "      <td>0.0</td>\n",
              "      <td>0.0</td>\n",
              "      <td>0.0</td>\n",
              "      <td>...</td>\n",
              "      <td>0.0</td>\n",
              "      <td>0.0</td>\n",
              "      <td>0.0</td>\n",
              "      <td>0.0</td>\n",
              "      <td>0.0</td>\n",
              "      <td>0.0</td>\n",
              "      <td>0.0</td>\n",
              "      <td>0.0</td>\n",
              "      <td>0.0</td>\n",
              "      <td>0.0</td>\n",
              "    </tr>\n",
              "    <tr>\n",
              "      <th>3</th>\n",
              "      <td>0.0</td>\n",
              "      <td>0.0</td>\n",
              "      <td>0.0</td>\n",
              "      <td>0.0</td>\n",
              "      <td>1.0</td>\n",
              "      <td>0.0</td>\n",
              "      <td>0.0</td>\n",
              "      <td>0.0</td>\n",
              "      <td>0.0</td>\n",
              "      <td>0.0</td>\n",
              "      <td>...</td>\n",
              "      <td>0.0</td>\n",
              "      <td>0.0</td>\n",
              "      <td>0.0</td>\n",
              "      <td>0.0</td>\n",
              "      <td>0.0</td>\n",
              "      <td>0.0</td>\n",
              "      <td>0.0</td>\n",
              "      <td>0.0</td>\n",
              "      <td>0.0</td>\n",
              "      <td>0.0</td>\n",
              "    </tr>\n",
              "    <tr>\n",
              "      <th>4</th>\n",
              "      <td>0.0</td>\n",
              "      <td>0.0</td>\n",
              "      <td>0.0</td>\n",
              "      <td>0.0</td>\n",
              "      <td>0.0</td>\n",
              "      <td>1.0</td>\n",
              "      <td>0.0</td>\n",
              "      <td>0.0</td>\n",
              "      <td>0.0</td>\n",
              "      <td>0.0</td>\n",
              "      <td>...</td>\n",
              "      <td>0.0</td>\n",
              "      <td>0.0</td>\n",
              "      <td>0.0</td>\n",
              "      <td>0.0</td>\n",
              "      <td>0.0</td>\n",
              "      <td>0.0</td>\n",
              "      <td>0.0</td>\n",
              "      <td>0.0</td>\n",
              "      <td>0.0</td>\n",
              "      <td>0.0</td>\n",
              "    </tr>\n",
              "    <tr>\n",
              "      <th>...</th>\n",
              "      <td>...</td>\n",
              "      <td>...</td>\n",
              "      <td>...</td>\n",
              "      <td>...</td>\n",
              "      <td>...</td>\n",
              "      <td>...</td>\n",
              "      <td>...</td>\n",
              "      <td>...</td>\n",
              "      <td>...</td>\n",
              "      <td>...</td>\n",
              "      <td>...</td>\n",
              "      <td>...</td>\n",
              "      <td>...</td>\n",
              "      <td>...</td>\n",
              "      <td>...</td>\n",
              "      <td>...</td>\n",
              "      <td>...</td>\n",
              "      <td>...</td>\n",
              "      <td>...</td>\n",
              "      <td>...</td>\n",
              "      <td>...</td>\n",
              "    </tr>\n",
              "    <tr>\n",
              "      <th>2931</th>\n",
              "      <td>0.0</td>\n",
              "      <td>0.0</td>\n",
              "      <td>0.0</td>\n",
              "      <td>0.0</td>\n",
              "      <td>0.0</td>\n",
              "      <td>0.0</td>\n",
              "      <td>0.0</td>\n",
              "      <td>0.0</td>\n",
              "      <td>0.0</td>\n",
              "      <td>0.0</td>\n",
              "      <td>...</td>\n",
              "      <td>1.0</td>\n",
              "      <td>0.0</td>\n",
              "      <td>0.0</td>\n",
              "      <td>0.0</td>\n",
              "      <td>0.0</td>\n",
              "      <td>0.0</td>\n",
              "      <td>0.0</td>\n",
              "      <td>0.0</td>\n",
              "      <td>0.0</td>\n",
              "      <td>0.0</td>\n",
              "    </tr>\n",
              "    <tr>\n",
              "      <th>2932</th>\n",
              "      <td>0.0</td>\n",
              "      <td>0.0</td>\n",
              "      <td>0.0</td>\n",
              "      <td>0.0</td>\n",
              "      <td>0.0</td>\n",
              "      <td>0.0</td>\n",
              "      <td>0.0</td>\n",
              "      <td>0.0</td>\n",
              "      <td>0.0</td>\n",
              "      <td>0.0</td>\n",
              "      <td>...</td>\n",
              "      <td>0.0</td>\n",
              "      <td>0.0</td>\n",
              "      <td>0.0</td>\n",
              "      <td>0.0</td>\n",
              "      <td>0.0</td>\n",
              "      <td>0.0</td>\n",
              "      <td>0.0</td>\n",
              "      <td>0.0</td>\n",
              "      <td>0.0</td>\n",
              "      <td>0.0</td>\n",
              "    </tr>\n",
              "    <tr>\n",
              "      <th>2933</th>\n",
              "      <td>0.0</td>\n",
              "      <td>0.0</td>\n",
              "      <td>0.0</td>\n",
              "      <td>0.0</td>\n",
              "      <td>0.0</td>\n",
              "      <td>0.0</td>\n",
              "      <td>0.0</td>\n",
              "      <td>0.0</td>\n",
              "      <td>0.0</td>\n",
              "      <td>0.0</td>\n",
              "      <td>...</td>\n",
              "      <td>0.0</td>\n",
              "      <td>1.0</td>\n",
              "      <td>1.0</td>\n",
              "      <td>1.0</td>\n",
              "      <td>1.0</td>\n",
              "      <td>1.0</td>\n",
              "      <td>1.0</td>\n",
              "      <td>0.0</td>\n",
              "      <td>0.0</td>\n",
              "      <td>0.0</td>\n",
              "    </tr>\n",
              "    <tr>\n",
              "      <th>2934</th>\n",
              "      <td>0.0</td>\n",
              "      <td>0.0</td>\n",
              "      <td>0.0</td>\n",
              "      <td>0.0</td>\n",
              "      <td>0.0</td>\n",
              "      <td>0.0</td>\n",
              "      <td>0.0</td>\n",
              "      <td>0.0</td>\n",
              "      <td>0.0</td>\n",
              "      <td>0.0</td>\n",
              "      <td>...</td>\n",
              "      <td>0.0</td>\n",
              "      <td>0.0</td>\n",
              "      <td>0.0</td>\n",
              "      <td>0.0</td>\n",
              "      <td>0.0</td>\n",
              "      <td>0.0</td>\n",
              "      <td>0.0</td>\n",
              "      <td>1.0</td>\n",
              "      <td>1.0</td>\n",
              "      <td>0.0</td>\n",
              "    </tr>\n",
              "    <tr>\n",
              "      <th>2935</th>\n",
              "      <td>0.0</td>\n",
              "      <td>0.0</td>\n",
              "      <td>0.0</td>\n",
              "      <td>0.0</td>\n",
              "      <td>0.0</td>\n",
              "      <td>0.0</td>\n",
              "      <td>0.0</td>\n",
              "      <td>0.0</td>\n",
              "      <td>0.0</td>\n",
              "      <td>0.0</td>\n",
              "      <td>...</td>\n",
              "      <td>0.0</td>\n",
              "      <td>0.0</td>\n",
              "      <td>0.0</td>\n",
              "      <td>0.0</td>\n",
              "      <td>0.0</td>\n",
              "      <td>0.0</td>\n",
              "      <td>0.0</td>\n",
              "      <td>0.0</td>\n",
              "      <td>0.0</td>\n",
              "      <td>1.0</td>\n",
              "    </tr>\n",
              "  </tbody>\n",
              "</table>\n",
              "<p>2936 rows × 15756 columns</p>\n",
              "</div>"
            ]
          },
          "metadata": {
            "tags": []
          },
          "execution_count": 67
        }
      ]
    },
    {
      "cell_type": "code",
      "metadata": {
        "trusted": true,
        "id": "xgd16uk_UsNe"
      },
      "source": [
        "tf = tf_idf.div((tf_idf != 0).sum(1), axis=0)\n",
        "idf = np.log((tf_idf * tf_idf.shape[0]).div((tf_idf != 0).sum(0), axis=1))\n",
        "tf_idf = tf * idf\n",
        "tf_idf.fillna(0, inplace=True)"
      ],
      "execution_count": null,
      "outputs": []
    },
    {
      "cell_type": "code",
      "metadata": {
        "trusted": true,
        "id": "65Sqr2eUUsNe"
      },
      "source": [
        "tf_idf = tf_idf.T"
      ],
      "execution_count": null,
      "outputs": []
    },
    {
      "cell_type": "markdown",
      "metadata": {
        "id": "FC9IE9cjUsNe"
      },
      "source": [
        "Reduced latent semantic space"
      ]
    },
    {
      "cell_type": "markdown",
      "metadata": {
        "id": "KOL1FHLjUsNf"
      },
      "source": [
        "A standard method for determining the optimal singular value truncation for matrix noise suppression.\n",
        "\n",
        "Article- [Matan Gavish; David L. Donoho. The Optimal Hard Threshold for Singular Values is 4/√3](https://ieeexplore.ieee.org/document/6846297)  \n",
        "Python - https://github.com/erichson/optht"
      ]
    },
    {
      "cell_type": "code",
      "metadata": {
        "trusted": true,
        "id": "3h_meastUsNf"
      },
      "source": [
        "from __future__ import division\n",
        "\n",
        "def optht(beta, sv=None, sigma=None):\n",
        "\n",
        "    if isinstance(beta, (np.ndarray)):\n",
        "        m = min(beta.shape)\n",
        "        n = max(beta.shape)\n",
        "        beta = m / n\n",
        "\n",
        "    if sigma is None:     \n",
        "        coef = optimal_SVHT_coef_sigma_known(beta) / np.sqrt(MedianMarcenkoPastur(beta))\n",
        "        if sv is not None:\n",
        "            cutoff = coef * np.median(sv)\n",
        "            k = np.max( np.where( sv>cutoff ) ) + 1\n",
        "            print('target rank: ', k)\n",
        "            return k\n",
        "\n",
        "    return coef\n",
        "  \n",
        "\n",
        "def optimal_SVHT_coef_sigma_known(beta):\n",
        "    return np.sqrt(2 * (beta + 1) + (8 * beta) / (beta + 1 + np.sqrt(beta ** 2 + 14 * beta + 1)))\n",
        "\n",
        "\n",
        "# Marcenko-Pastur distribution\n",
        "def MarPas(x, topSpec, botSpec, beta):\n",
        "    if (topSpec - x) * (x - botSpec) > 0:\n",
        "        return np.sqrt((topSpec - x) * (x - botSpec)) / (beta * x) / (2 * np.pi)\n",
        "    else:\n",
        "        return 0\n",
        "\n",
        "\n",
        "def MedianMarcenkoPastur(beta):\n",
        "    botSpec = lobnd = (1 - np.sqrt(beta))**2\n",
        "    topSpec = hibnd = (1 + np.sqrt(beta))**2  \n",
        "    change = 1\n",
        "\n",
        "    while(change & ((hibnd-lobnd) > .001 ) ):\n",
        "        change = 0\n",
        "        x = np.linspace(lobnd, hibnd, 10)\n",
        "        y = np.zeros_like(x)\n",
        "        for i in range(len(x)):\n",
        "            yi, err = si.quad(MarPas, a=x[i], b=topSpec, args=(topSpec, botSpec, beta))\n",
        "            y[i] = 1 - yi\n",
        "\n",
        "        if np.any(y < 0.5):\n",
        "            lobnd = np.max(x[y < 0.5])\n",
        "            change = 1\n",
        "            \n",
        "        if np.any( y > 0.5 ):\n",
        "            hibnd = np.min(x[y > 0.5])\n",
        "            change = 1\n",
        "            \n",
        "    return (hibnd + lobnd) / 2."
      ],
      "execution_count": null,
      "outputs": []
    },
    {
      "cell_type": "code",
      "metadata": {
        "trusted": true,
        "id": "wpjVWkJbUsNf"
      },
      "source": [
        "tf_idf_scaled = tf_idf / tf_idf.max().max()"
      ],
      "execution_count": null,
      "outputs": []
    },
    {
      "cell_type": "code",
      "metadata": {
        "trusted": true,
        "id": "Hu8etrr2UsNf"
      },
      "source": [
        "tf_idf_scaled = pd.read_csv('../input/diploma-stuff/new_tf_idf_scaled.csv',\n",
        "                            sep=';',\n",
        "                            index_col=0)"
      ],
      "execution_count": null,
      "outputs": []
    },
    {
      "cell_type": "code",
      "metadata": {
        "trusted": true,
        "id": "hmZp4n9wUsNf"
      },
      "source": [
        "tf_idf_np_scaled = tf_idf_scaled.to_numpy() "
      ],
      "execution_count": null,
      "outputs": []
    },
    {
      "cell_type": "code",
      "metadata": {
        "trusted": true,
        "id": "-XDQj94ZUsNg"
      },
      "source": [
        "u, sigma, v = np.linalg.svd(tf_idf_np_scaled, full_matrices=False)"
      ],
      "execution_count": null,
      "outputs": []
    },
    {
      "cell_type": "markdown",
      "metadata": {
        "id": "UdoWRYTHUsNg"
      },
      "source": [
        "Find rank k for truncation"
      ]
    },
    {
      "cell_type": "code",
      "metadata": {
        "trusted": true,
        "id": "KroUPjZXUsNg",
        "outputId": "75067ed4-ffe2-4d96-a0c9-c99dded3887e"
      },
      "source": [
        "k = optht(tf_idf_np_scaled,\n",
        "          sv=sigma,\n",
        "          sigma=None)"
      ],
      "execution_count": null,
      "outputs": [
        {
          "output_type": "stream",
          "text": [
            "target rank:  311\n"
          ],
          "name": "stdout"
        }
      ]
    },
    {
      "cell_type": "code",
      "metadata": {
        "trusted": true,
        "id": "R1FLiarKUsNg"
      },
      "source": [
        "# tf_idf_truncated = (u[:, :k] * sigma[:k]) @ (v[:k, :k]) - denoised"
      ],
      "execution_count": null,
      "outputs": []
    },
    {
      "cell_type": "code",
      "metadata": {
        "trusted": true,
        "id": "sV05zvPRUsNg",
        "outputId": "1f0c7ec3-f5ce-4670-8a1b-e962431aefe7"
      },
      "source": [
        "documents = np.diag(sigma)[:k, :k] @ v[:k, :]\n",
        "documents.shape # disciplines"
      ],
      "execution_count": null,
      "outputs": [
        {
          "output_type": "execute_result",
          "data": {
            "text/plain": [
              "(311, 2936)"
            ]
          },
          "metadata": {
            "tags": []
          },
          "execution_count": 74
        }
      ]
    },
    {
      "cell_type": "code",
      "metadata": {
        "trusted": true,
        "id": "qzvWEHt7UsNh"
      },
      "source": [
        "tag_encoding = pd.get_dummies(range(tf_idf_scaled.shape[0]))\n",
        "queries = u[:, :k].T @ tag_encoding.to_numpy() # keywords"
      ],
      "execution_count": null,
      "outputs": []
    },
    {
      "cell_type": "code",
      "metadata": {
        "trusted": true,
        "id": "Ujgh8nSQUsNh",
        "outputId": "431e72e5-ed3f-4826-c865-6994cccc090f"
      },
      "source": [
        "queries.shape"
      ],
      "execution_count": null,
      "outputs": [
        {
          "output_type": "execute_result",
          "data": {
            "text/plain": [
              "(311, 15756)"
            ]
          },
          "metadata": {
            "tags": []
          },
          "execution_count": 76
        }
      ]
    },
    {
      "cell_type": "markdown",
      "metadata": {
        "id": "9ypXPgCvUsNh"
      },
      "source": [
        "Creating training and test sets.  \n",
        "Predictors are average mastery level (average between all mastery levels of keywords), LSI score, and TF-IDF score. Target is whether the keywords belong to disciplines."
      ]
    },
    {
      "cell_type": "code",
      "metadata": {
        "trusted": true,
        "id": "DVyduZRiUsNh"
      },
      "source": [
        "tags = tf_idf_scaled.index "
      ],
      "execution_count": null,
      "outputs": []
    },
    {
      "cell_type": "markdown",
      "metadata": {
        "id": "2DY-cQrNdHpw"
      },
      "source": [
        "Creating positive examples of keyphrases belonging to disciplines"
      ]
    },
    {
      "cell_type": "code",
      "metadata": {
        "trusted": true,
        "id": "Dvif5KJuUsNh"
      },
      "source": [
        "for_positive = keywords.copy()\n",
        "for_positive.drop_duplicates(inplace=True)\n",
        "for_positive.reset_index(inplace=True, drop=True)"
      ],
      "execution_count": null,
      "outputs": []
    },
    {
      "cell_type": "code",
      "metadata": {
        "trusted": true,
        "id": "QcLkbKwgUsNh"
      },
      "source": [
        "lsi_score = []\n",
        "tf_idf_score = []\n",
        "for row in for_positive.iterrows():\n",
        "    workprogram_id = row[1]['workprogram_id']\n",
        "    workprogram_keywords_row = workprogram_keywords[workprogram_keywords.work_program_id == workprogram_id]\n",
        "    document_index = subject_keywords[(subject_keywords.subject == workprogram_keywords_row.loc[:, 'subject'].values[0]) & \\\n",
        "                     (subject_keywords.keywords_str == workprogram_keywords_row.loc[:, 'keywords_str'].values[0])].index[0]\n",
        "    query_index = tags.get_loc(row[1]['name'])\n",
        "    tf_idf_score.append(tf_idf_np_scaled[query_index, document_index])\n",
        "    lsi_score.append(1 - cosine(documents[:, document_index], queries[:, query_index]))"
      ],
      "execution_count": null,
      "outputs": []
    },
    {
      "cell_type": "code",
      "metadata": {
        "trusted": true,
        "id": "CtKZOvhYUsNi"
      },
      "source": [
        "positive = pd.concat([for_positive,\n",
        "                      pd.Series(lsi_score, name='lsi_score'),\n",
        "                      pd.Series(tf_idf_score, name='tf_idf_score')], axis=1)"
      ],
      "execution_count": null,
      "outputs": []
    },
    {
      "cell_type": "code",
      "metadata": {
        "trusted": true,
        "id": "FXe84F1TUsNi"
      },
      "source": [
        "positive['avg_masterylevel'] = positive['workprogram_id'].map(positive.groupby('workprogram_id')['masterylevel'].mean().to_dict())"
      ],
      "execution_count": null,
      "outputs": []
    },
    {
      "cell_type": "code",
      "metadata": {
        "trusted": true,
        "id": "AAGk-WtAUsNi"
      },
      "source": [
        "positive.lsi_score.fillna(-1, inplace=True)\n",
        "positive['label'] = 1"
      ],
      "execution_count": null,
      "outputs": []
    },
    {
      "cell_type": "code",
      "metadata": {
        "trusted": true,
        "id": "rmzovNyEUsNi"
      },
      "source": [
        "n_positive = positive.shape[0]"
      ],
      "execution_count": null,
      "outputs": []
    },
    {
      "cell_type": "code",
      "metadata": {
        "trusted": true,
        "id": "8T26ixzWUsNj"
      },
      "source": [
        "np.random.seed(1)\n",
        "shuffle_1 = np.arange(n_positive)\n",
        "np.random.shuffle(shuffle_1)"
      ],
      "execution_count": null,
      "outputs": []
    },
    {
      "cell_type": "code",
      "metadata": {
        "trusted": true,
        "id": "2BrjHclEUsNj"
      },
      "source": [
        "np.random.seed(4)\n",
        "shuffle_2 = np.arange(n_positive)\n",
        "np.random.shuffle(shuffle_2)"
      ],
      "execution_count": null,
      "outputs": []
    },
    {
      "cell_type": "code",
      "metadata": {
        "trusted": true,
        "id": "QptNH85yUsNj",
        "outputId": "e8647414-c78a-4957-a691-8d34498b4806"
      },
      "source": [
        "(shuffle_1 == shuffle_2).any()"
      ],
      "execution_count": null,
      "outputs": [
        {
          "output_type": "execute_result",
          "data": {
            "text/plain": [
              "False"
            ]
          },
          "metadata": {
            "tags": []
          },
          "execution_count": 86
        }
      ]
    },
    {
      "cell_type": "code",
      "metadata": {
        "trusted": true,
        "id": "DSS4o_oGUsNj"
      },
      "source": [
        "lsi_score = []\n",
        "workprogram_id = []\n",
        "tf_idf_score = []\n",
        "\n",
        "for n in range(n_positive):\n",
        "    n_shuffle_1 = shuffle_1[n]\n",
        "    n_shuffle_2 = shuffle_2[n]\n",
        "    document_data = for_positive.iloc[n_shuffle_1, :]\n",
        "    query_data = for_positive.iloc[n_shuffle_2, :]\n",
        "    name = query_data['name']\n",
        "    work_program_id = document_data['workprogram_id']\n",
        "    workprogram_id.append(work_program_id)\n",
        "    \n",
        "    workprogram_name = workprogram_keywords[workprogram_keywords.work_program_id == work_program_id].subject.values[0]\n",
        "    query_index = tags.get_loc(name)\n",
        "    document_index = subject_keywords[subject_keywords.subject == workprogram_name].sample(1).index[0]\n",
        "    lsi_score.append(1 - cosine(documents[:, document_index], queries[:, query_index]))\n",
        "    tf_idf_score.append(tf_idf_np_scaled[query_index, document_index])"
      ],
      "execution_count": null,
      "outputs": []
    },
    {
      "cell_type": "code",
      "metadata": {
        "trusted": true,
        "id": "Oe00yRdTUsNj"
      },
      "source": [
        "positive.drop(['masterylevel', 'name'], inplace=True, axis=1)"
      ],
      "execution_count": null,
      "outputs": []
    },
    {
      "cell_type": "markdown",
      "metadata": {
        "id": "2NsIEcDCdXOS"
      },
      "source": [
        "Creating negative examples."
      ]
    },
    {
      "cell_type": "code",
      "metadata": {
        "trusted": true,
        "id": "fFGfzmAiUsNk"
      },
      "source": [
        "negative = pd.DataFrame([workprogram_id, lsi_score, tf_idf_score]).T"
      ],
      "execution_count": null,
      "outputs": []
    },
    {
      "cell_type": "code",
      "metadata": {
        "trusted": true,
        "id": "k2A4Af6zUsNk"
      },
      "source": [
        "negative.columns = ['workprogram_id', 'lsi_score', 'tf_idf_score']\n",
        "negative.lsi_score.fillna(-1, inplace=True)\n",
        "negative['label'] = 0\n",
        "negative['avg_masterylevel'] = negative['workprogram_id'].map(keywords.groupby('workprogram_id')['masterylevel'].mean().to_dict())"
      ],
      "execution_count": null,
      "outputs": []
    },
    {
      "cell_type": "code",
      "metadata": {
        "trusted": true,
        "id": "R3HWEUxVUsNk"
      },
      "source": [
        "positive.drop('workprogram_id', axis=1, inplace=True)\n",
        "negative.drop('workprogram_id', axis=1, inplace=True)\n",
        "positive.drop_duplicates(inplace=True)\n",
        "negative.drop_duplicates(inplace=True)"
      ],
      "execution_count": null,
      "outputs": []
    },
    {
      "cell_type": "code",
      "metadata": {
        "trusted": true,
        "id": "trImLWMiUsNk",
        "outputId": "14caa0a6-2ccf-4977-e5c4-fcd2be3c93c7"
      },
      "source": [
        "print(positive.shape[0])\n",
        "print(negative.shape[0])"
      ],
      "execution_count": null,
      "outputs": [
        {
          "output_type": "stream",
          "text": [
            "25765\n",
            "45841\n"
          ],
          "name": "stdout"
        }
      ]
    },
    {
      "cell_type": "code",
      "metadata": {
        "trusted": true,
        "id": "HiGgd0AiUsNl"
      },
      "source": [
        "negative = negative.sample(positive.shape[0], random_state=17)"
      ],
      "execution_count": null,
      "outputs": []
    },
    {
      "cell_type": "code",
      "metadata": {
        "trusted": true,
        "id": "XtmopCA5UsNl"
      },
      "source": [
        "dataset = pd.concat([positive, negative])"
      ],
      "execution_count": null,
      "outputs": []
    },
    {
      "cell_type": "code",
      "metadata": {
        "trusted": true,
        "id": "PXW2gh5GUsNl",
        "outputId": "aa408aaf-0c38-4f8b-a74f-ca79b28c4774"
      },
      "source": [
        "dataset.label.value_counts()"
      ],
      "execution_count": null,
      "outputs": [
        {
          "output_type": "execute_result",
          "data": {
            "text/plain": [
              "0    25765\n",
              "1    25765\n",
              "Name: label, dtype: int64"
            ]
          },
          "metadata": {
            "tags": []
          },
          "execution_count": 95
        }
      ]
    },
    {
      "cell_type": "code",
      "metadata": {
        "trusted": true,
        "id": "zATJq97AUsNl"
      },
      "source": [
        "X_train, X_test, y_train, y_test = train_test_split(dataset[['lsi_score',\n",
        "                                                             'tf_idf_score',\n",
        "                                                             'avg_masterylevel']],\n",
        "                                                    dataset['label'],\n",
        "                                                    test_size=0.7,\n",
        "                                                    random_state=17)"
      ],
      "execution_count": null,
      "outputs": []
    },
    {
      "cell_type": "code",
      "metadata": {
        "trusted": true,
        "id": "NRccuoP2UsNm"
      },
      "source": [
        "del positive\n",
        "del negative\n",
        "del dataset"
      ],
      "execution_count": null,
      "outputs": []
    },
    {
      "cell_type": "markdown",
      "metadata": {
        "id": "3x-H0bskUsNm"
      },
      "source": [
        "Logistic regression with cross-validation (baseline) for prediction."
      ]
    },
    {
      "cell_type": "code",
      "metadata": {
        "trusted": true,
        "id": "BMiXhNSWUsNm"
      },
      "source": [
        "clf = LogisticRegressionCV(cv=5, random_state=17).fit(X_train, y_train)"
      ],
      "execution_count": null,
      "outputs": []
    },
    {
      "cell_type": "code",
      "metadata": {
        "trusted": true,
        "id": "rJgl2zgAUsNm"
      },
      "source": [
        "probs = clf.predict_proba(X_test)"
      ],
      "execution_count": null,
      "outputs": []
    },
    {
      "cell_type": "markdown",
      "metadata": {
        "id": "g0kIX4_VeZLN"
      },
      "source": [
        "MAE"
      ]
    },
    {
      "cell_type": "code",
      "metadata": {
        "trusted": true,
        "id": "RAnrxyK1UsNm",
        "outputId": "a00be605-9ca9-44ed-82c0-12204077e102"
      },
      "source": [
        "mean_absolute_error(y_test, probs[:, 1])"
      ],
      "execution_count": null,
      "outputs": [
        {
          "output_type": "execute_result",
          "data": {
            "text/plain": [
              "0.03743057035216332"
            ]
          },
          "metadata": {
            "tags": []
          },
          "execution_count": 99
        }
      ]
    },
    {
      "cell_type": "markdown",
      "metadata": {
        "id": "f-ZA5VT1eaOn"
      },
      "source": [
        "ROC AUC"
      ]
    },
    {
      "cell_type": "code",
      "metadata": {
        "trusted": true,
        "id": "lsZXlHNwUsNn",
        "outputId": "7ca03b3f-1120-4014-8106-b892b391493f"
      },
      "source": [
        "roc_auc_score(y_test, probs[:, 1])"
      ],
      "execution_count": null,
      "outputs": [
        {
          "output_type": "execute_result",
          "data": {
            "text/plain": [
              "0.9980091629840515"
            ]
          },
          "metadata": {
            "tags": []
          },
          "execution_count": 101
        }
      ]
    },
    {
      "cell_type": "markdown",
      "metadata": {
        "id": "DS_D7YxOecIi"
      },
      "source": [
        "MSE"
      ]
    },
    {
      "cell_type": "code",
      "metadata": {
        "trusted": true,
        "id": "gLVTzNamUsNn",
        "outputId": "e5d80fff-184e-4dff-b10f-595192185050"
      },
      "source": [
        "mean_squared_error(y_test, probs[:, 1], squared=False)"
      ],
      "execution_count": null,
      "outputs": [
        {
          "output_type": "execute_result",
          "data": {
            "text/plain": [
              "0.10608292455064025"
            ]
          },
          "metadata": {
            "tags": []
          },
          "execution_count": 100
        }
      ]
    },
    {
      "cell_type": "code",
      "metadata": {
        "trusted": true,
        "id": "ync4Mvh-UsNn"
      },
      "source": [
        "X_train, X_test, y_train, y_test = train_test_split(dataset[['lsi_score',\n",
        "                                                             'tf_idf_score',\n",
        "                                                             'avg_masterylevel']],\n",
        "                                                    dataset['label'],\n",
        "                                                    test_size=0.6,\n",
        "                                                    random_state=17)\n",
        "X_val, X_test, y_val, y_test = train_test_split(X_test,\n",
        "                                                y_test,\n",
        "                                                test_size=0.5,\n",
        "                                                random_state=17)"
      ],
      "execution_count": null,
      "outputs": []
    },
    {
      "cell_type": "markdown",
      "metadata": {
        "id": "bCF4z41ANw3z"
      },
      "source": [
        "ANN with 3 hidden fully-connected layers."
      ]
    },
    {
      "cell_type": "code",
      "metadata": {
        "trusted": true,
        "id": "nsXKeE2LUsNn"
      },
      "source": [
        "import keras \n",
        "from keras.layers import Dense\n",
        "from keras.models import Sequential"
      ],
      "execution_count": null,
      "outputs": []
    },
    {
      "cell_type": "code",
      "metadata": {
        "trusted": true,
        "id": "7NBdu4q0UsNo"
      },
      "source": [
        "ann = Sequential()\n",
        "ann.add(Dense(units=64, kernel_initializer='uniform', activation='relu', input_dim=3))\n",
        "ann.add(Dense(units=32, kernel_initializer= 'uniform', activation='relu'))\n",
        "ann.add(Dense(units=1, kernel_initializer='uniform', activation='sigmoid'))\n",
        "ann.compile(optimizer='adam',\n",
        "              loss='mean_squared_error',\n",
        "              metrics=['accuracy'])"
      ],
      "execution_count": null,
      "outputs": []
    },
    {
      "cell_type": "code",
      "metadata": {
        "trusted": true,
        "id": "MGFAlCq2UsNo"
      },
      "source": [
        "history = ann.fit(X_train,\n",
        "                  y_train,\n",
        "                  batch_size=32,\n",
        "                  epochs=50,\n",
        "                  verbose=0,\n",
        "                  validation_data=(X_val, y_val))"
      ],
      "execution_count": null,
      "outputs": []
    },
    {
      "cell_type": "code",
      "metadata": {
        "trusted": true,
        "id": "yV7ez2gxUsNo",
        "outputId": "db2ba1bd-20f6-4764-e36d-61664ee24299"
      },
      "source": [
        "plt.plot(history.history['val_loss'], '-o', label='validation loss')\n",
        "plt.plot(history.history['loss'], '--s', label='training loss')\n",
        "plt.legend();"
      ],
      "execution_count": null,
      "outputs": [
        {
          "output_type": "display_data",
          "data": {
            "text/plain": [
              "<Figure size 432x288 with 1 Axes>"
            ],
            "image/png": "[encoded data removed]"
          },
          "metadata": {
            "tags": [],
            "needs_background": "light"
          }
        }
      ]
    },
    {
      "cell_type": "code",
      "metadata": {
        "trusted": true,
        "id": "YLhHTmVhUsNo",
        "outputId": "407b744a-d553-4d89-c8d1-8b27a16ff611"
      },
      "source": [
        "ann = Sequential()\n",
        "ann.add(Dense(units=64, kernel_initializer='uniform', activation='relu', input_dim=3))\n",
        "ann.add(Dense(units=32, kernel_initializer= 'uniform', activation='relu'))\n",
        "ann.add(Dense(units=1, kernel_initializer='uniform', activation='sigmoid'))\n",
        "ann.compile(optimizer='adam',\n",
        "              loss='mean_squared_error',\n",
        "              metrics=['accuracy'])\n",
        "\n",
        "history = ann.fit(X_train,\n",
        "                  y_train,\n",
        "                  batch_size=32,\n",
        "                  epochs=15,\n",
        "                  verbose=1,\n",
        "                  validation_data=(X_val, y_val))"
      ],
      "execution_count": null,
      "outputs": [
        {
          "output_type": "stream",
          "text": [
            "Epoch 1/15\n",
            "645/645 [==============================] - 2s 2ms/step - loss: 0.1409 - accuracy: 0.8321 - val_loss: 0.0499 - val_accuracy: 0.9330\n",
            "Epoch 2/15\n",
            "645/645 [==============================] - 1s 2ms/step - loss: 0.0460 - accuracy: 0.9399 - val_loss: 0.0431 - val_accuracy: 0.9424\n",
            "Epoch 3/15\n",
            "645/645 [==============================] - 1s 2ms/step - loss: 0.0410 - accuracy: 0.9458 - val_loss: 0.0391 - val_accuracy: 0.9510\n",
            "Epoch 4/15\n",
            "645/645 [==============================] - 1s 2ms/step - loss: 0.0405 - accuracy: 0.9483 - val_loss: 0.0329 - val_accuracy: 0.9563\n",
            "Epoch 5/15\n",
            "645/645 [==============================] - 1s 2ms/step - loss: 0.0323 - accuracy: 0.9587 - val_loss: 0.0230 - val_accuracy: 0.9803\n",
            "Epoch 6/15\n",
            "645/645 [==============================] - 1s 2ms/step - loss: 0.0209 - accuracy: 0.9767 - val_loss: 0.0122 - val_accuracy: 0.9843\n",
            "Epoch 7/15\n",
            "645/645 [==============================] - 1s 2ms/step - loss: 0.0101 - accuracy: 0.9903 - val_loss: 0.0097 - val_accuracy: 0.9955\n",
            "Epoch 8/15\n",
            "645/645 [==============================] - 1s 2ms/step - loss: 0.0070 - accuracy: 0.9938 - val_loss: 0.0050 - val_accuracy: 0.9959\n",
            "Epoch 9/15\n",
            "645/645 [==============================] - 1s 2ms/step - loss: 0.0058 - accuracy: 0.9946 - val_loss: 0.0043 - val_accuracy: 0.9965\n",
            "Epoch 10/15\n",
            "645/645 [==============================] - 1s 2ms/step - loss: 0.0043 - accuracy: 0.9960 - val_loss: 0.0039 - val_accuracy: 0.9964\n",
            "Epoch 11/15\n",
            "645/645 [==============================] - 1s 2ms/step - loss: 0.0047 - accuracy: 0.9953 - val_loss: 0.0036 - val_accuracy: 0.9965\n",
            "Epoch 12/15\n",
            "645/645 [==============================] - 1s 2ms/step - loss: 0.0037 - accuracy: 0.9964 - val_loss: 0.0136 - val_accuracy: 0.9967\n",
            "Epoch 13/15\n",
            "645/645 [==============================] - 1s 2ms/step - loss: 0.0044 - accuracy: 0.9955 - val_loss: 0.0037 - val_accuracy: 0.9967\n",
            "Epoch 14/15\n",
            "645/645 [==============================] - 1s 2ms/step - loss: 0.0046 - accuracy: 0.9954 - val_loss: 0.0038 - val_accuracy: 0.9959\n",
            "Epoch 15/15\n",
            "645/645 [==============================] - 1s 2ms/step - loss: 0.0047 - accuracy: 0.9953 - val_loss: 0.0034 - val_accuracy: 0.9966\n"
          ],
          "name": "stdout"
        }
      ]
    },
    {
      "cell_type": "code",
      "metadata": {
        "trusted": true,
        "id": "z2SmqTO8UsNp",
        "outputId": "cb2edf12-887c-4db0-8cd4-a0d3de900f6f"
      },
      "source": [
        "plt.plot(history.history['val_loss'], '-o', label='validation loss')\n",
        "plt.plot(history.history['loss'], '--s', label='training loss')\n",
        "plt.legend();"
      ],
      "execution_count": null,
      "outputs": [
        {
          "output_type": "display_data",
          "data": {
            "text/plain": [
              "<Figure size 432x288 with 1 Axes>"
            ],
            "image/png": "[encoded data removed]"
          },
          "metadata": {
            "tags": [],
            "needs_background": "light"
          }
        }
      ]
    },
    {
      "cell_type": "code",
      "metadata": {
        "trusted": true,
        "id": "VISWOZtBUsNp"
      },
      "source": [
        "ann_pred = ann.predict(X_test)"
      ],
      "execution_count": null,
      "outputs": []
    },
    {
      "cell_type": "markdown",
      "metadata": {
        "id": "zbF-M5sufr4b"
      },
      "source": [
        "MAE"
      ]
    },
    {
      "cell_type": "code",
      "metadata": {
        "trusted": true,
        "id": "_AjCwXf3UsNp",
        "outputId": "3c8c1b5d-6a94-44fe-86d7-6118639c644d"
      },
      "source": [
        "mean_absolute_error(y_test, ann_pred)"
      ],
      "execution_count": null,
      "outputs": [
        {
          "output_type": "execute_result",
          "data": {
            "text/plain": [
              "0.006624067918519723"
            ]
          },
          "metadata": {
            "tags": []
          },
          "execution_count": 111
        }
      ]
    },
    {
      "cell_type": "markdown",
      "metadata": {
        "id": "1oyjdccafweR"
      },
      "source": [
        "MSE"
      ]
    },
    {
      "cell_type": "code",
      "metadata": {
        "trusted": true,
        "id": "PVerbSlJUsNp",
        "outputId": "5d6215d1-804e-425f-fbf2-bb0b7a168235"
      },
      "source": [
        "mean_squared_error(y_test, ann_pred, squared=False)"
      ],
      "execution_count": null,
      "outputs": [
        {
          "output_type": "execute_result",
          "data": {
            "text/plain": [
              "0.05678210820202989"
            ]
          },
          "metadata": {
            "tags": []
          },
          "execution_count": 112
        }
      ]
    },
    {
      "cell_type": "code",
      "metadata": {
        "trusted": true,
        "id": "jS6Cu2RMUsNp"
      },
      "source": [
        "del X_train, X_test, y_train, y_test "
      ],
      "execution_count": null,
      "outputs": []
    },
    {
      "cell_type": "markdown",
      "metadata": {
        "id": "aPz95CqlUsNq"
      },
      "source": [
        "Constructing embeddings "
      ]
    },
    {
      "cell_type": "code",
      "metadata": {
        "trusted": true,
        "id": "rxunOo6sUsNq"
      },
      "source": [
        "subjects = subject_keywords.subject.to_list()"
      ],
      "execution_count": null,
      "outputs": []
    },
    {
      "cell_type": "code",
      "metadata": {
        "trusted": true,
        "id": "XTn6p0MmUsNq"
      },
      "source": [
        "lsi_scores = []\n",
        "for n_query in range(tf_idf_scaled.shape[0]):\n",
        "    for n_document in range(tf_idf_scaled.shape[1]):\n",
        "        lsi_scores.append(1 - cosine(documents[:, n_document], queries[:, n_query]))"
      ],
      "execution_count": null,
      "outputs": []
    },
    {
      "cell_type": "code",
      "metadata": {
        "id": "ijuIAtby0p3S"
      },
      "source": [
        "to_pred = {'lsi_score': [],\n",
        "           'tf_idf_score': [], \n",
        "           'avg_masterylevel': []}\n",
        "for row in workprogram_keywords.iterrows():\n",
        "\n",
        "    to_pred['lsi_score'].extend(lsi_scores[:, int(row[1]['document_id'])])\n",
        "    to_pred['tf_idf_score'].extend(tf_idf_scaled_np[:, row[1]['document_id']])\n",
        "    to_pred['avg_masterylevel'].extend([row[1]['avg_masterylevel']] * 15756)"
      ],
      "execution_count": null,
      "outputs": []
    },
    {
      "cell_type": "code",
      "metadata": {
        "id": "TWiXoePD1zQv"
      },
      "source": [
        "to_pred = pd.DataFrame(to_pred)"
      ],
      "execution_count": null,
      "outputs": []
    },
    {
      "cell_type": "code",
      "metadata": {
        "id": "aODO7rkP19kG"
      },
      "source": [
        "to_pred.lsi_score = to_pred.lsi_score.fillna(-1)"
      ],
      "execution_count": null,
      "outputs": []
    },
    {
      "cell_type": "code",
      "metadata": {
        "id": "TqQNCBTe2Ccx"
      },
      "source": [
        "embeddings = ann.predict(to_pred)"
      ],
      "execution_count": null,
      "outputs": []
    },
    {
      "cell_type": "code",
      "metadata": {
        "id": "sac6LT-P23PR"
      },
      "source": [
        "from google.colab import drive\n",
        "drive.mount('/content/drive/')"
      ],
      "execution_count": null,
      "outputs": []
    },
    {
      "cell_type": "code",
      "metadata": {
        "trusted": true,
        "id": "hZAasNqcUsNq"
      },
      "source": [
        "embeddings = open('/content/drive/MyDrive/Colab Notebooks/new_embeddings.txt').readlines()"
      ],
      "execution_count": null,
      "outputs": []
    },
    {
      "cell_type": "code",
      "metadata": {
        "trusted": true,
        "id": "dqXdc1V2UsNq"
      },
      "source": [
        "embeddings = [float(number.strip('\\n')) for number in embeddings]"
      ],
      "execution_count": null,
      "outputs": []
    },
    {
      "cell_type": "code",
      "metadata": {
        "trusted": true,
        "id": "sHIsfKoTUsNr"
      },
      "source": [
        "import numpy as np\n",
        "embeddings = np.array(np.array_split(embeddings, 3887))"
      ],
      "execution_count": null,
      "outputs": []
    },
    {
      "cell_type": "code",
      "metadata": {
        "trusted": true,
        "id": "qL9qIElWUsNr",
        "colab": {
          "base_uri": "https://localhost:8080/"
        },
        "outputId": "4c1fb73c-fabd-4fc3-c742-17c3eb5b9a64"
      },
      "source": [
        "embeddings.shape"
      ],
      "execution_count": null,
      "outputs": [
        {
          "output_type": "execute_result",
          "data": {
            "text/plain": [
              "(3887, 15756)"
            ]
          },
          "metadata": {
            "tags": []
          },
          "execution_count": 31
        }
      ]
    },
    {
      "cell_type": "code",
      "metadata": {
        "trusted": true,
        "id": "yiexrxakUsNs"
      },
      "source": [
        "u, sigma, v = np.linalg.svd(embeddings.T, full_matrices=False) "
      ],
      "execution_count": null,
      "outputs": []
    },
    {
      "cell_type": "markdown",
      "metadata": {
        "id": "NevLSmNWgXn1"
      },
      "source": [
        "Dimensionality redcution using SVD"
      ]
    },
    {
      "cell_type": "code",
      "metadata": {
        "trusted": true,
        "id": "MfQtHRiYUsNs",
        "colab": {
          "base_uri": "https://localhost:8080/"
        },
        "outputId": "0799f4b7-7529-4527-fd37-9bb48816493e"
      },
      "source": [
        "documents = np.diag(sigma)[:600, :600] @ v[:600, :]\n",
        "documents.shape"
      ],
      "execution_count": null,
      "outputs": [
        {
          "output_type": "execute_result",
          "data": {
            "text/plain": [
              "(600, 3887)"
            ]
          },
          "metadata": {
            "tags": []
          },
          "execution_count": 35
        }
      ]
    },
    {
      "cell_type": "markdown",
      "metadata": {
        "id": "BBJbT-d2ggHg"
      },
      "source": [
        "Example of embeddings application: search for similar disciplines "
      ]
    },
    {
      "cell_type": "code",
      "metadata": {
        "trusted": true,
        "id": "vGM_g_AnUsNs"
      },
      "source": [
        "def similiarity(documents, document_id):\n",
        "    sim = []\n",
        "    for n in range(documents.shape[1]):\n",
        "        sim.append(1 - cosine(documents[:, document_id], documents[:, n]))\n",
        "\n",
        "    sorted_sim = np.argsort(sim)\n",
        "    sorted_sim = [n for n in sorted_sim if sim[n] == sim[n]]\n",
        "    sorted_sim = [index for index in sorted_sim if sim[index] > 0.75 and index != document_id]\n",
        "    sorted_sim.reverse()\n",
        "    value_sims = [sim[index] for index in sorted_sim]\n",
        "    results = workprogram_keywords.iloc[sorted_sim, :]\n",
        "    return pd.concat([results,\n",
        "                      pd.Series(value_sims,\n",
        "                                name='cosine_similarity',\n",
        "                                index=results.index)],\n",
        "                     axis=1).loc[:, ['subject', 'cosine_similarity']]"
      ],
      "execution_count": null,
      "outputs": []
    },
    {
      "cell_type": "code",
      "metadata": {
        "trusted": true,
        "id": "_EQa9FNBUsNs",
        "colab": {
          "base_uri": "https://localhost:8080/",
          "height": 35
        },
        "outputId": "99d466dc-0afd-4891-b49b-5aa3387bf904"
      },
      "source": [
        "workprogram_keywords.iloc[678, :]['subject']"
      ],
      "execution_count": null,
      "outputs": [
        {
          "output_type": "execute_result",
          "data": {
            "application/vnd.google.colaboratory.intrinsic+json": {
              "type": "string"
            },
            "text/plain": [
              "'Материалы и технологии интегральной и волоконной оптики'"
            ]
          },
          "metadata": {
            "tags": []
          },
          "execution_count": 45
        }
      ]
    },
    {
      "cell_type": "code",
      "metadata": {
        "trusted": true,
        "id": "GW2OK3JBUsNt",
        "colab": {
          "base_uri": "https://localhost:8080/",
          "height": 171
        },
        "outputId": "220ddda1-d3d2-4ef5-847b-d4177024b877"
      },
      "source": [
        "similiarity(embeddings.T, 678)"
      ],
      "execution_count": null,
      "outputs": [
        {
          "output_type": "execute_result",
          "data": {
            "text/html": [
              "<div>\n",
              "<style scoped>\n",
              "    .dataframe tbody tr th:only-of-type {\n",
              "        vertical-align: middle;\n",
              "    }\n",
              "\n",
              "    .dataframe tbody tr th {\n",
              "        vertical-align: top;\n",
              "    }\n",
              "\n",
              "    .dataframe thead th {\n",
              "        text-align: right;\n",
              "    }\n",
              "</style>\n",
              "<table border=\"1\" class=\"dataframe\">\n",
              "  <thead>\n",
              "    <tr style=\"text-align: right;\">\n",
              "      <th></th>\n",
              "      <th>subject</th>\n",
              "      <th>cosine_similarity</th>\n",
              "    </tr>\n",
              "  </thead>\n",
              "  <tbody>\n",
              "    <tr>\n",
              "      <th>675</th>\n",
              "      <td>Волоконная оптика</td>\n",
              "      <td>0.831737</td>\n",
              "    </tr>\n",
              "    <tr>\n",
              "      <th>1190</th>\n",
              "      <td>Волоконная и интегральная оптика</td>\n",
              "      <td>0.813014</td>\n",
              "    </tr>\n",
              "    <tr>\n",
              "      <th>1187</th>\n",
              "      <td>Волоконная и интегральная оптика</td>\n",
              "      <td>0.813014</td>\n",
              "    </tr>\n",
              "    <tr>\n",
              "      <th>1184</th>\n",
              "      <td>Волоконная и интегральная оптика</td>\n",
              "      <td>0.813014</td>\n",
              "    </tr>\n",
              "  </tbody>\n",
              "</table>\n",
              "</div>"
            ],
            "text/plain": [
              "                               subject  cosine_similarity\n",
              "675                  Волоконная оптика           0.831737\n",
              "1190  Волоконная и интегральная оптика           0.813014\n",
              "1187  Волоконная и интегральная оптика           0.813014\n",
              "1184  Волоконная и интегральная оптика           0.813014"
            ]
          },
          "metadata": {
            "tags": []
          },
          "execution_count": 43
        }
      ]
    },
    {
      "cell_type": "code",
      "metadata": {
        "colab": {
          "base_uri": "https://localhost:8080/",
          "height": 35
        },
        "id": "1aiCxYsWGCrJ",
        "outputId": "cec777f9-8a80-4ac3-95b1-7406f954fabd"
      },
      "source": [
        "workprogram_keywords.iloc[2345, :]['subject']"
      ],
      "execution_count": null,
      "outputs": [
        {
          "output_type": "execute_result",
          "data": {
            "application/vnd.google.colaboratory.intrinsic+json": {
              "type": "string"
            },
            "text/plain": [
              "'Технология безалкогольных напитков, минеральных вод и кваса'"
            ]
          },
          "metadata": {
            "tags": []
          },
          "execution_count": 47
        }
      ]
    },
    {
      "cell_type": "code",
      "metadata": {
        "trusted": true,
        "id": "vLnj8DFPUsNt",
        "colab": {
          "base_uri": "https://localhost:8080/",
          "height": 110
        },
        "outputId": "372d57d0-7187-446f-fc0e-0e0412ef5966"
      },
      "source": [
        "similiarity(embeddings.T, 2345)"
      ],
      "execution_count": null,
      "outputs": [
        {
          "output_type": "execute_result",
          "data": {
            "text/html": [
              "<div>\n",
              "<style scoped>\n",
              "    .dataframe tbody tr th:only-of-type {\n",
              "        vertical-align: middle;\n",
              "    }\n",
              "\n",
              "    .dataframe tbody tr th {\n",
              "        vertical-align: top;\n",
              "    }\n",
              "\n",
              "    .dataframe thead th {\n",
              "        text-align: right;\n",
              "    }\n",
              "</style>\n",
              "<table border=\"1\" class=\"dataframe\">\n",
              "  <thead>\n",
              "    <tr style=\"text-align: right;\">\n",
              "      <th></th>\n",
              "      <th>subject</th>\n",
              "      <th>cosine_similarity</th>\n",
              "    </tr>\n",
              "  </thead>\n",
              "  <tbody>\n",
              "    <tr>\n",
              "      <th>2347</th>\n",
              "      <td>Технология слабоалкогольных, безалкогольных на...</td>\n",
              "      <td>0.961596</td>\n",
              "    </tr>\n",
              "    <tr>\n",
              "      <th>2346</th>\n",
              "      <td>Технология кваса и безалкогольных напитков</td>\n",
              "      <td>0.956298</td>\n",
              "    </tr>\n",
              "  </tbody>\n",
              "</table>\n",
              "</div>"
            ],
            "text/plain": [
              "                                                subject  cosine_similarity\n",
              "2347  Технология слабоалкогольных, безалкогольных на...           0.961596\n",
              "2346         Технология кваса и безалкогольных напитков           0.956298"
            ]
          },
          "metadata": {
            "tags": []
          },
          "execution_count": 48
        }
      ]
    },
    {
      "cell_type": "code",
      "metadata": {
        "colab": {
          "base_uri": "https://localhost:8080/",
          "height": 35
        },
        "id": "gnCguNZXGUek",
        "outputId": "d2761022-0c81-4dd9-9c8c-89d16d40d901"
      },
      "source": [
        "workprogram_keywords.iloc[789, :]['subject']"
      ],
      "execution_count": null,
      "outputs": [
        {
          "output_type": "execute_result",
          "data": {
            "application/vnd.google.colaboratory.intrinsic+json": {
              "type": "string"
            },
            "text/plain": [
              "'Цифровая обработка сигналов'"
            ]
          },
          "metadata": {
            "tags": []
          },
          "execution_count": 52
        }
      ]
    },
    {
      "cell_type": "code",
      "metadata": {
        "trusted": true,
        "id": "6GmMlsMZUsNt",
        "colab": {
          "base_uri": "https://localhost:8080/",
          "height": 202
        },
        "outputId": "b1b54310-0bcb-47eb-ae49-86acf7f7980e"
      },
      "source": [
        "similiarity(embeddings.T, 789)"
      ],
      "execution_count": null,
      "outputs": [
        {
          "output_type": "execute_result",
          "data": {
            "text/html": [
              "<div>\n",
              "<style scoped>\n",
              "    .dataframe tbody tr th:only-of-type {\n",
              "        vertical-align: middle;\n",
              "    }\n",
              "\n",
              "    .dataframe tbody tr th {\n",
              "        vertical-align: top;\n",
              "    }\n",
              "\n",
              "    .dataframe thead th {\n",
              "        text-align: right;\n",
              "    }\n",
              "</style>\n",
              "<table border=\"1\" class=\"dataframe\">\n",
              "  <thead>\n",
              "    <tr style=\"text-align: right;\">\n",
              "      <th></th>\n",
              "      <th>subject</th>\n",
              "      <th>cosine_similarity</th>\n",
              "    </tr>\n",
              "  </thead>\n",
              "  <tbody>\n",
              "    <tr>\n",
              "      <th>792</th>\n",
              "      <td>Аналоговая и цифровая обработка сигналов</td>\n",
              "      <td>0.999624</td>\n",
              "    </tr>\n",
              "    <tr>\n",
              "      <th>790</th>\n",
              "      <td>Цифровая обработка сигналов</td>\n",
              "      <td>0.999624</td>\n",
              "    </tr>\n",
              "    <tr>\n",
              "      <th>802</th>\n",
              "      <td>Цифровая обработка сигналов</td>\n",
              "      <td>0.999624</td>\n",
              "    </tr>\n",
              "    <tr>\n",
              "      <th>791</th>\n",
              "      <td>Обработка сигналов</td>\n",
              "      <td>0.999624</td>\n",
              "    </tr>\n",
              "    <tr>\n",
              "      <th>799</th>\n",
              "      <td>Цифровая обработка сигналов: теория и практика</td>\n",
              "      <td>0.999624</td>\n",
              "    </tr>\n",
              "  </tbody>\n",
              "</table>\n",
              "</div>"
            ],
            "text/plain": [
              "                                            subject  cosine_similarity\n",
              "792        Аналоговая и цифровая обработка сигналов           0.999624\n",
              "790                     Цифровая обработка сигналов           0.999624\n",
              "802                     Цифровая обработка сигналов           0.999624\n",
              "791                              Обработка сигналов           0.999624\n",
              "799  Цифровая обработка сигналов: теория и практика           0.999624"
            ]
          },
          "metadata": {
            "tags": []
          },
          "execution_count": 49
        }
      ]
    },
    {
      "cell_type": "markdown",
      "metadata": {
        "id": "3LsQHjoVKKR_"
      },
      "source": [
        "Dimensionality reduction using UMAP"
      ]
    },
    {
      "cell_type": "code",
      "metadata": {
        "trusted": true,
        "id": "tgEd0Ez7UsNu"
      },
      "source": [
        "import umap.umap_ as umap"
      ],
      "execution_count": null,
      "outputs": []
    },
    {
      "cell_type": "code",
      "metadata": {
        "trusted": true,
        "id": "UGwWPHCyUsNu"
      },
      "source": [
        "from sklearn.preprocessing import StandardScaler\n",
        "embeddings_scaled = StandardScaler().fit_transform(embeddings)"
      ],
      "execution_count": null,
      "outputs": []
    },
    {
      "cell_type": "code",
      "metadata": {
        "trusted": true,
        "id": "r0KAVebMUsNu"
      },
      "source": [
        "reducer = umap.UMAP(n_components=600, metric='cosine')"
      ],
      "execution_count": null,
      "outputs": []
    },
    {
      "cell_type": "code",
      "metadata": {
        "trusted": true,
        "id": "PNqjiK9VUsNu"
      },
      "source": [
        "reduced_embeddings = reducer.fit_transform(embeddings_scaled)"
      ],
      "execution_count": null,
      "outputs": []
    },
    {
      "cell_type": "code",
      "metadata": {
        "trusted": true,
        "id": "evVYdu6tUsNu",
        "colab": {
          "base_uri": "https://localhost:8080/"
        },
        "outputId": "605207c1-1e36-49bb-a6f0-8840f25b5b6c"
      },
      "source": [
        "reduced_embeddings.shape"
      ],
      "execution_count": null,
      "outputs": [
        {
          "output_type": "execute_result",
          "data": {
            "text/plain": [
              "(3887, 600)"
            ]
          },
          "metadata": {
            "tags": []
          },
          "execution_count": 69
        }
      ]
    },
    {
      "cell_type": "code",
      "metadata": {
        "trusted": true,
        "id": "lbY8UPWXUsNv",
        "colab": {
          "base_uri": "https://localhost:8080/",
          "height": 415
        },
        "outputId": "dc7bac25-90b3-4201-f85f-61faebec18af"
      },
      "source": [
        "similiarity(reduced_embeddings.T, 678)"
      ],
      "execution_count": null,
      "outputs": [
        {
          "output_type": "execute_result",
          "data": {
            "text/html": [
              "<div>\n",
              "<style scoped>\n",
              "    .dataframe tbody tr th:only-of-type {\n",
              "        vertical-align: middle;\n",
              "    }\n",
              "\n",
              "    .dataframe tbody tr th {\n",
              "        vertical-align: top;\n",
              "    }\n",
              "\n",
              "    .dataframe thead th {\n",
              "        text-align: right;\n",
              "    }\n",
              "</style>\n",
              "<table border=\"1\" class=\"dataframe\">\n",
              "  <thead>\n",
              "    <tr style=\"text-align: right;\">\n",
              "      <th></th>\n",
              "      <th>subject</th>\n",
              "      <th>cosine_similarity</th>\n",
              "    </tr>\n",
              "  </thead>\n",
              "  <tbody>\n",
              "    <tr>\n",
              "      <th>1190</th>\n",
              "      <td>Волоконная и интегральная оптика</td>\n",
              "      <td>1.000000</td>\n",
              "    </tr>\n",
              "    <tr>\n",
              "      <th>1184</th>\n",
              "      <td>Волоконная и интегральная оптика</td>\n",
              "      <td>1.000000</td>\n",
              "    </tr>\n",
              "    <tr>\n",
              "      <th>1187</th>\n",
              "      <td>Волоконная и интегральная оптика</td>\n",
              "      <td>1.000000</td>\n",
              "    </tr>\n",
              "    <tr>\n",
              "      <th>675</th>\n",
              "      <td>Волоконная оптика</td>\n",
              "      <td>1.000000</td>\n",
              "    </tr>\n",
              "    <tr>\n",
              "      <th>2604</th>\n",
              "      <td>Основы фотоники</td>\n",
              "      <td>1.000000</td>\n",
              "    </tr>\n",
              "    <tr>\n",
              "      <th>...</th>\n",
              "      <td>...</td>\n",
              "      <td>...</td>\n",
              "    </tr>\n",
              "    <tr>\n",
              "      <th>2991</th>\n",
              "      <td>Планирование и оценка эффективности проектов ц...</td>\n",
              "      <td>0.950681</td>\n",
              "    </tr>\n",
              "    <tr>\n",
              "      <th>2995</th>\n",
              "      <td>Планирование и оценка эффективности проектов ц...</td>\n",
              "      <td>0.950337</td>\n",
              "    </tr>\n",
              "    <tr>\n",
              "      <th>996</th>\n",
              "      <td>Основы биотехнологий</td>\n",
              "      <td>0.948238</td>\n",
              "    </tr>\n",
              "    <tr>\n",
              "      <th>994</th>\n",
              "      <td>Биотехнологии / Biotechnology</td>\n",
              "      <td>0.947827</td>\n",
              "    </tr>\n",
              "    <tr>\n",
              "      <th>992</th>\n",
              "      <td>Основы биотехнологии</td>\n",
              "      <td>0.946260</td>\n",
              "    </tr>\n",
              "  </tbody>\n",
              "</table>\n",
              "<p>3886 rows × 2 columns</p>\n",
              "</div>"
            ],
            "text/plain": [
              "                                                subject  cosine_similarity\n",
              "1190                   Волоконная и интегральная оптика           1.000000\n",
              "1184                   Волоконная и интегральная оптика           1.000000\n",
              "1187                   Волоконная и интегральная оптика           1.000000\n",
              "675                                   Волоконная оптика           1.000000\n",
              "2604                                    Основы фотоники           1.000000\n",
              "...                                                 ...                ...\n",
              "2991  Планирование и оценка эффективности проектов ц...           0.950681\n",
              "2995  Планирование и оценка эффективности проектов ц...           0.950337\n",
              "996                                Основы биотехнологий           0.948238\n",
              "994                       Биотехнологии / Biotechnology           0.947827\n",
              "992                                Основы биотехнологии           0.946260\n",
              "\n",
              "[3886 rows x 2 columns]"
            ]
          },
          "metadata": {
            "tags": []
          },
          "execution_count": 70
        }
      ]
    },
    {
      "cell_type": "code",
      "metadata": {
        "trusted": true,
        "id": "mVxWmbZ_UsNv",
        "colab": {
          "base_uri": "https://localhost:8080/",
          "height": 415
        },
        "outputId": "c1af7f12-3a73-47e9-aba0-58d43c3ab1b1"
      },
      "source": [
        "similiarity(reduced_embeddings.T, 2345)"
      ],
      "execution_count": null,
      "outputs": [
        {
          "output_type": "execute_result",
          "data": {
            "text/html": [
              "<div>\n",
              "<style scoped>\n",
              "    .dataframe tbody tr th:only-of-type {\n",
              "        vertical-align: middle;\n",
              "    }\n",
              "\n",
              "    .dataframe tbody tr th {\n",
              "        vertical-align: top;\n",
              "    }\n",
              "\n",
              "    .dataframe thead th {\n",
              "        text-align: right;\n",
              "    }\n",
              "</style>\n",
              "<table border=\"1\" class=\"dataframe\">\n",
              "  <thead>\n",
              "    <tr style=\"text-align: right;\">\n",
              "      <th></th>\n",
              "      <th>subject</th>\n",
              "      <th>cosine_similarity</th>\n",
              "    </tr>\n",
              "  </thead>\n",
              "  <tbody>\n",
              "    <tr>\n",
              "      <th>2346</th>\n",
              "      <td>Технология кваса и безалкогольных напитков</td>\n",
              "      <td>1.000000</td>\n",
              "    </tr>\n",
              "    <tr>\n",
              "      <th>2347</th>\n",
              "      <td>Технология слабоалкогольных, безалкогольных на...</td>\n",
              "      <td>1.000000</td>\n",
              "    </tr>\n",
              "    <tr>\n",
              "      <th>2942</th>\n",
              "      <td>Спутниковые навигационные системы</td>\n",
              "      <td>0.999998</td>\n",
              "    </tr>\n",
              "    <tr>\n",
              "      <th>3799</th>\n",
              "      <td>Нелинейные химические системы и химический ком...</td>\n",
              "      <td>0.999998</td>\n",
              "    </tr>\n",
              "    <tr>\n",
              "      <th>2941</th>\n",
              "      <td>Спутниковые навигационные системы</td>\n",
              "      <td>0.999997</td>\n",
              "    </tr>\n",
              "    <tr>\n",
              "      <th>...</th>\n",
              "      <td>...</td>\n",
              "      <td>...</td>\n",
              "    </tr>\n",
              "    <tr>\n",
              "      <th>995</th>\n",
              "      <td>Основы биотехнологии</td>\n",
              "      <td>0.945724</td>\n",
              "    </tr>\n",
              "    <tr>\n",
              "      <th>2995</th>\n",
              "      <td>Планирование и оценка эффективности проектов ц...</td>\n",
              "      <td>0.945535</td>\n",
              "    </tr>\n",
              "    <tr>\n",
              "      <th>996</th>\n",
              "      <td>Основы биотехнологий</td>\n",
              "      <td>0.943427</td>\n",
              "    </tr>\n",
              "    <tr>\n",
              "      <th>992</th>\n",
              "      <td>Основы биотехнологии</td>\n",
              "      <td>0.943420</td>\n",
              "    </tr>\n",
              "    <tr>\n",
              "      <th>994</th>\n",
              "      <td>Биотехнологии / Biotechnology</td>\n",
              "      <td>0.942995</td>\n",
              "    </tr>\n",
              "  </tbody>\n",
              "</table>\n",
              "<p>3886 rows × 2 columns</p>\n",
              "</div>"
            ],
            "text/plain": [
              "                                                subject  cosine_similarity\n",
              "2346         Технология кваса и безалкогольных напитков           1.000000\n",
              "2347  Технология слабоалкогольных, безалкогольных на...           1.000000\n",
              "2942                  Спутниковые навигационные системы           0.999998\n",
              "3799  Нелинейные химические системы и химический ком...           0.999998\n",
              "2941                  Спутниковые навигационные системы           0.999997\n",
              "...                                                 ...                ...\n",
              "995                                Основы биотехнологии           0.945724\n",
              "2995  Планирование и оценка эффективности проектов ц...           0.945535\n",
              "996                                Основы биотехнологий           0.943427\n",
              "992                                Основы биотехнологии           0.943420\n",
              "994                       Биотехнологии / Biotechnology           0.942995\n",
              "\n",
              "[3886 rows x 2 columns]"
            ]
          },
          "metadata": {
            "tags": []
          },
          "execution_count": 71
        }
      ]
    },
    {
      "cell_type": "code",
      "metadata": {
        "trusted": true,
        "id": "_E0OUSIIUsNv",
        "colab": {
          "base_uri": "https://localhost:8080/",
          "height": 415
        },
        "outputId": "addbc990-cd2b-45c8-b743-2c92687f6f2b"
      },
      "source": [
        "similiarity(reduced_embeddings.T, 789)"
      ],
      "execution_count": null,
      "outputs": [
        {
          "output_type": "execute_result",
          "data": {
            "text/html": [
              "<div>\n",
              "<style scoped>\n",
              "    .dataframe tbody tr th:only-of-type {\n",
              "        vertical-align: middle;\n",
              "    }\n",
              "\n",
              "    .dataframe tbody tr th {\n",
              "        vertical-align: top;\n",
              "    }\n",
              "\n",
              "    .dataframe thead th {\n",
              "        text-align: right;\n",
              "    }\n",
              "</style>\n",
              "<table border=\"1\" class=\"dataframe\">\n",
              "  <thead>\n",
              "    <tr style=\"text-align: right;\">\n",
              "      <th></th>\n",
              "      <th>subject</th>\n",
              "      <th>cosine_similarity</th>\n",
              "    </tr>\n",
              "  </thead>\n",
              "  <tbody>\n",
              "    <tr>\n",
              "      <th>806</th>\n",
              "      <td>Принципы и методы светового моделирования / Pr...</td>\n",
              "      <td>1.000000</td>\n",
              "    </tr>\n",
              "    <tr>\n",
              "      <th>799</th>\n",
              "      <td>Цифровая обработка сигналов: теория и практика</td>\n",
              "      <td>1.000000</td>\n",
              "    </tr>\n",
              "    <tr>\n",
              "      <th>792</th>\n",
              "      <td>Аналоговая и цифровая обработка сигналов</td>\n",
              "      <td>1.000000</td>\n",
              "    </tr>\n",
              "    <tr>\n",
              "      <th>791</th>\n",
              "      <td>Обработка сигналов</td>\n",
              "      <td>1.000000</td>\n",
              "    </tr>\n",
              "    <tr>\n",
              "      <th>790</th>\n",
              "      <td>Цифровая обработка сигналов</td>\n",
              "      <td>1.000000</td>\n",
              "    </tr>\n",
              "    <tr>\n",
              "      <th>...</th>\n",
              "      <td>...</td>\n",
              "      <td>...</td>\n",
              "    </tr>\n",
              "    <tr>\n",
              "      <th>2992</th>\n",
              "      <td>Цифровая трансформация высокотехнологичных про...</td>\n",
              "      <td>0.950367</td>\n",
              "    </tr>\n",
              "    <tr>\n",
              "      <th>2991</th>\n",
              "      <td>Планирование и оценка эффективности проектов ц...</td>\n",
              "      <td>0.950317</td>\n",
              "    </tr>\n",
              "    <tr>\n",
              "      <th>996</th>\n",
              "      <td>Основы биотехнологий</td>\n",
              "      <td>0.949229</td>\n",
              "    </tr>\n",
              "    <tr>\n",
              "      <th>994</th>\n",
              "      <td>Биотехнологии / Biotechnology</td>\n",
              "      <td>0.948229</td>\n",
              "    </tr>\n",
              "    <tr>\n",
              "      <th>992</th>\n",
              "      <td>Основы биотехнологии</td>\n",
              "      <td>0.946295</td>\n",
              "    </tr>\n",
              "  </tbody>\n",
              "</table>\n",
              "<p>3886 rows × 2 columns</p>\n",
              "</div>"
            ],
            "text/plain": [
              "                                                subject  cosine_similarity\n",
              "806   Принципы и методы светового моделирования / Pr...           1.000000\n",
              "799      Цифровая обработка сигналов: теория и практика           1.000000\n",
              "792            Аналоговая и цифровая обработка сигналов           1.000000\n",
              "791                                  Обработка сигналов           1.000000\n",
              "790                         Цифровая обработка сигналов           1.000000\n",
              "...                                                 ...                ...\n",
              "2992  Цифровая трансформация высокотехнологичных про...           0.950367\n",
              "2991  Планирование и оценка эффективности проектов ц...           0.950317\n",
              "996                                Основы биотехнологий           0.949229\n",
              "994                       Биотехнологии / Biotechnology           0.948229\n",
              "992                                Основы биотехнологии           0.946295\n",
              "\n",
              "[3886 rows x 2 columns]"
            ]
          },
          "metadata": {
            "tags": []
          },
          "execution_count": 72
        }
      ]
    },
    {
      "cell_type": "markdown",
      "metadata": {
        "id": "ZcV-jBEyKFOp"
      },
      "source": [
        "Dimensionality reduction using Autoencoder"
      ]
    },
    {
      "cell_type": "code",
      "metadata": {
        "trusted": true,
        "id": "_a3c9jOGUsNv"
      },
      "source": [
        "import tensorflow as tf"
      ],
      "execution_count": null,
      "outputs": []
    },
    {
      "cell_type": "code",
      "metadata": {
        "trusted": true,
        "id": "xrgsByCVUsNw"
      },
      "source": [
        "from keras.layers import Input, Dense\n",
        "from keras.models import Model\n",
        "\n",
        "encoding_dim = 600\n",
        "input_dim = Input(shape = (15756))\n",
        "\n",
        "# Encoder Layers\n",
        "encoded13 = Dense(encoding_dim, activation = 'relu')(input_dim)\n",
        "\n",
        "# Decoder Layers\n",
        "decoded13 = Dense(15756, activation = 'sigmoid')(encoded13)\n",
        "\n",
        "autoencoder = Model(inputs = input_dim, outputs = decoded13)\n",
        "\n",
        "# Compile the Model \n",
        "autoencoder.compile(optimizer = 'adam',\n",
        "                    loss='mse',\n",
        "                    metrics=[tf.keras.metrics.MeanSquaredLogarithmicError()]) "
      ],
      "execution_count": null,
      "outputs": []
    },
    {
      "cell_type": "code",
      "metadata": {
        "trusted": true,
        "id": "BUjCfLz_UsNw"
      },
      "source": [
        "from sklearn.model_selection import train_test_split\n",
        "X_train, X_test, Y_train, Y_test = train_test_split(embeddings,\n",
        "                                                    np.ones(3887),\n",
        "                                                    train_size=0.7,\n",
        "                                                    random_state=2017)"
      ],
      "execution_count": null,
      "outputs": []
    },
    {
      "cell_type": "code",
      "metadata": {
        "trusted": true,
        "id": "uelXQt9NUsNw"
      },
      "source": [
        "history = autoencoder.fit(X_train,\n",
        "                          X_train,\n",
        "                          epochs=2,\n",
        "                          batch_size=128,\n",
        "                          shuffle=False,\n",
        "                          verbose=0,\n",
        "                          validation_data=(X_test,\n",
        "                                           X_test))"
      ],
      "execution_count": null,
      "outputs": []
    },
    {
      "cell_type": "code",
      "metadata": {
        "trusted": true,
        "id": "Ei3g4i5cUsNw"
      },
      "source": [
        "encoder = Model(inputs = input_dim, outputs = encoded13)\n",
        "encoded_input = Input(shape = (encoding_dim, ))"
      ],
      "execution_count": null,
      "outputs": []
    },
    {
      "cell_type": "code",
      "metadata": {
        "trusted": true,
        "id": "4TsjdUHmUsNw"
      },
      "source": [
        "encoded_train = encoder.predict(embeddings)"
      ],
      "execution_count": null,
      "outputs": []
    },
    {
      "cell_type": "code",
      "metadata": {
        "trusted": true,
        "id": "2AMRYaq9UsNx",
        "colab": {
          "base_uri": "https://localhost:8080/",
          "height": 415
        },
        "outputId": "c7482a0c-5bee-4be9-87aa-af7ffd083e6c"
      },
      "source": [
        "similiarity(encoded_train.T, 678)"
      ],
      "execution_count": null,
      "outputs": [
        {
          "output_type": "execute_result",
          "data": {
            "text/html": [
              "<div>\n",
              "<style scoped>\n",
              "    .dataframe tbody tr th:only-of-type {\n",
              "        vertical-align: middle;\n",
              "    }\n",
              "\n",
              "    .dataframe tbody tr th {\n",
              "        vertical-align: top;\n",
              "    }\n",
              "\n",
              "    .dataframe thead th {\n",
              "        text-align: right;\n",
              "    }\n",
              "</style>\n",
              "<table border=\"1\" class=\"dataframe\">\n",
              "  <thead>\n",
              "    <tr style=\"text-align: right;\">\n",
              "      <th></th>\n",
              "      <th>subject</th>\n",
              "      <th>cosine_similarity</th>\n",
              "    </tr>\n",
              "  </thead>\n",
              "  <tbody>\n",
              "    <tr>\n",
              "      <th>675</th>\n",
              "      <td>Волоконная оптика</td>\n",
              "      <td>0.999956</td>\n",
              "    </tr>\n",
              "    <tr>\n",
              "      <th>1190</th>\n",
              "      <td>Волоконная и интегральная оптика</td>\n",
              "      <td>0.999946</td>\n",
              "    </tr>\n",
              "    <tr>\n",
              "      <th>1184</th>\n",
              "      <td>Волоконная и интегральная оптика</td>\n",
              "      <td>0.999946</td>\n",
              "    </tr>\n",
              "    <tr>\n",
              "      <th>1187</th>\n",
              "      <td>Волоконная и интегральная оптика</td>\n",
              "      <td>0.999946</td>\n",
              "    </tr>\n",
              "    <tr>\n",
              "      <th>671</th>\n",
              "      <td>Материалы для фото- и оптоэлектроники</td>\n",
              "      <td>0.999904</td>\n",
              "    </tr>\n",
              "    <tr>\n",
              "      <th>...</th>\n",
              "      <td>...</td>\n",
              "      <td>...</td>\n",
              "    </tr>\n",
              "    <tr>\n",
              "      <th>2536</th>\n",
              "      <td>Технические средства автоматизации и управления</td>\n",
              "      <td>0.999435</td>\n",
              "    </tr>\n",
              "    <tr>\n",
              "      <th>316</th>\n",
              "      <td>Технологии машинного обучения/Machine Learning</td>\n",
              "      <td>0.999435</td>\n",
              "    </tr>\n",
              "    <tr>\n",
              "      <th>1554</th>\n",
              "      <td>Информационная поддержка жизненного цикла изделий</td>\n",
              "      <td>0.999406</td>\n",
              "    </tr>\n",
              "    <tr>\n",
              "      <th>512</th>\n",
              "      <td>Методы и модели многомерного анализа данных / ...</td>\n",
              "      <td>0.999401</td>\n",
              "    </tr>\n",
              "    <tr>\n",
              "      <th>1315</th>\n",
              "      <td>Автоматизация технологической подготовки произ...</td>\n",
              "      <td>0.999388</td>\n",
              "    </tr>\n",
              "  </tbody>\n",
              "</table>\n",
              "<p>3886 rows × 2 columns</p>\n",
              "</div>"
            ],
            "text/plain": [
              "                                                subject  cosine_similarity\n",
              "675                                   Волоконная оптика           0.999956\n",
              "1190                   Волоконная и интегральная оптика           0.999946\n",
              "1184                   Волоконная и интегральная оптика           0.999946\n",
              "1187                   Волоконная и интегральная оптика           0.999946\n",
              "671               Материалы для фото- и оптоэлектроники           0.999904\n",
              "...                                                 ...                ...\n",
              "2536    Технические средства автоматизации и управления           0.999435\n",
              "316      Технологии машинного обучения/Machine Learning           0.999435\n",
              "1554  Информационная поддержка жизненного цикла изделий           0.999406\n",
              "512   Методы и модели многомерного анализа данных / ...           0.999401\n",
              "1315  Автоматизация технологической подготовки произ...           0.999388\n",
              "\n",
              "[3886 rows x 2 columns]"
            ]
          },
          "metadata": {
            "tags": []
          },
          "execution_count": 79
        }
      ]
    },
    {
      "cell_type": "code",
      "metadata": {
        "colab": {
          "base_uri": "https://localhost:8080/",
          "height": 415
        },
        "id": "ADwGxsUwJzBE",
        "outputId": "fe42a66e-0ac5-4075-ece6-e55d45edc0b1"
      },
      "source": [
        "similiarity(encoded_train.T, 789)"
      ],
      "execution_count": null,
      "outputs": [
        {
          "output_type": "execute_result",
          "data": {
            "text/html": [
              "<div>\n",
              "<style scoped>\n",
              "    .dataframe tbody tr th:only-of-type {\n",
              "        vertical-align: middle;\n",
              "    }\n",
              "\n",
              "    .dataframe tbody tr th {\n",
              "        vertical-align: top;\n",
              "    }\n",
              "\n",
              "    .dataframe thead th {\n",
              "        text-align: right;\n",
              "    }\n",
              "</style>\n",
              "<table border=\"1\" class=\"dataframe\">\n",
              "  <thead>\n",
              "    <tr style=\"text-align: right;\">\n",
              "      <th></th>\n",
              "      <th>subject</th>\n",
              "      <th>cosine_similarity</th>\n",
              "    </tr>\n",
              "  </thead>\n",
              "  <tbody>\n",
              "    <tr>\n",
              "      <th>792</th>\n",
              "      <td>Аналоговая и цифровая обработка сигналов</td>\n",
              "      <td>1.000000</td>\n",
              "    </tr>\n",
              "    <tr>\n",
              "      <th>790</th>\n",
              "      <td>Цифровая обработка сигналов</td>\n",
              "      <td>1.000000</td>\n",
              "    </tr>\n",
              "    <tr>\n",
              "      <th>791</th>\n",
              "      <td>Обработка сигналов</td>\n",
              "      <td>1.000000</td>\n",
              "    </tr>\n",
              "    <tr>\n",
              "      <th>799</th>\n",
              "      <td>Цифровая обработка сигналов: теория и практика</td>\n",
              "      <td>1.000000</td>\n",
              "    </tr>\n",
              "    <tr>\n",
              "      <th>802</th>\n",
              "      <td>Цифровая обработка сигналов</td>\n",
              "      <td>1.000000</td>\n",
              "    </tr>\n",
              "    <tr>\n",
              "      <th>...</th>\n",
              "      <td>...</td>\n",
              "      <td>...</td>\n",
              "    </tr>\n",
              "    <tr>\n",
              "      <th>1073</th>\n",
              "      <td>Методы анализа продуктов питания</td>\n",
              "      <td>0.999474</td>\n",
              "    </tr>\n",
              "    <tr>\n",
              "      <th>3433</th>\n",
              "      <td>Новые производственные технологии</td>\n",
              "      <td>0.999470</td>\n",
              "    </tr>\n",
              "    <tr>\n",
              "      <th>512</th>\n",
              "      <td>Методы и модели многомерного анализа данных / ...</td>\n",
              "      <td>0.999406</td>\n",
              "    </tr>\n",
              "    <tr>\n",
              "      <th>1554</th>\n",
              "      <td>Информационная поддержка жизненного цикла изделий</td>\n",
              "      <td>0.999405</td>\n",
              "    </tr>\n",
              "    <tr>\n",
              "      <th>1315</th>\n",
              "      <td>Автоматизация технологической подготовки произ...</td>\n",
              "      <td>0.999404</td>\n",
              "    </tr>\n",
              "  </tbody>\n",
              "</table>\n",
              "<p>3886 rows × 2 columns</p>\n",
              "</div>"
            ],
            "text/plain": [
              "                                                subject  cosine_similarity\n",
              "792            Аналоговая и цифровая обработка сигналов           1.000000\n",
              "790                         Цифровая обработка сигналов           1.000000\n",
              "791                                  Обработка сигналов           1.000000\n",
              "799      Цифровая обработка сигналов: теория и практика           1.000000\n",
              "802                         Цифровая обработка сигналов           1.000000\n",
              "...                                                 ...                ...\n",
              "1073                   Методы анализа продуктов питания           0.999474\n",
              "3433                  Новые производственные технологии           0.999470\n",
              "512   Методы и модели многомерного анализа данных / ...           0.999406\n",
              "1554  Информационная поддержка жизненного цикла изделий           0.999405\n",
              "1315  Автоматизация технологической подготовки произ...           0.999404\n",
              "\n",
              "[3886 rows x 2 columns]"
            ]
          },
          "metadata": {
            "tags": []
          },
          "execution_count": 80
        }
      ]
    },
    {
      "cell_type": "code",
      "metadata": {
        "colab": {
          "base_uri": "https://localhost:8080/",
          "height": 415
        },
        "id": "udPk0b7xJ5nB",
        "outputId": "8761340a-2225-45cd-cbed-c0afe5a9ce8d"
      },
      "source": [
        "similiarity(encoded_train.T, 2345)"
      ],
      "execution_count": null,
      "outputs": [
        {
          "output_type": "execute_result",
          "data": {
            "text/html": [
              "<div>\n",
              "<style scoped>\n",
              "    .dataframe tbody tr th:only-of-type {\n",
              "        vertical-align: middle;\n",
              "    }\n",
              "\n",
              "    .dataframe tbody tr th {\n",
              "        vertical-align: top;\n",
              "    }\n",
              "\n",
              "    .dataframe thead th {\n",
              "        text-align: right;\n",
              "    }\n",
              "</style>\n",
              "<table border=\"1\" class=\"dataframe\">\n",
              "  <thead>\n",
              "    <tr style=\"text-align: right;\">\n",
              "      <th></th>\n",
              "      <th>subject</th>\n",
              "      <th>cosine_similarity</th>\n",
              "    </tr>\n",
              "  </thead>\n",
              "  <tbody>\n",
              "    <tr>\n",
              "      <th>2346</th>\n",
              "      <td>Технология кваса и безалкогольных напитков</td>\n",
              "      <td>0.999991</td>\n",
              "    </tr>\n",
              "    <tr>\n",
              "      <th>2347</th>\n",
              "      <td>Технология слабоалкогольных, безалкогольных на...</td>\n",
              "      <td>0.999990</td>\n",
              "    </tr>\n",
              "    <tr>\n",
              "      <th>3481</th>\n",
              "      <td>Концептуальные и философские основания умных г...</td>\n",
              "      <td>0.999921</td>\n",
              "    </tr>\n",
              "    <tr>\n",
              "      <th>44</th>\n",
              "      <td>Производственная, научно-исследовательская</td>\n",
              "      <td>0.999920</td>\n",
              "    </tr>\n",
              "    <tr>\n",
              "      <th>50</th>\n",
              "      <td>Производственная, научно-исследовательская раб...</td>\n",
              "      <td>0.999920</td>\n",
              "    </tr>\n",
              "    <tr>\n",
              "      <th>...</th>\n",
              "      <td>...</td>\n",
              "      <td>...</td>\n",
              "    </tr>\n",
              "    <tr>\n",
              "      <th>3017</th>\n",
              "      <td>Управление пищевым производством</td>\n",
              "      <td>0.999506</td>\n",
              "    </tr>\n",
              "    <tr>\n",
              "      <th>316</th>\n",
              "      <td>Технологии машинного обучения/Machine Learning</td>\n",
              "      <td>0.999504</td>\n",
              "    </tr>\n",
              "    <tr>\n",
              "      <th>1315</th>\n",
              "      <td>Автоматизация технологической подготовки произ...</td>\n",
              "      <td>0.999480</td>\n",
              "    </tr>\n",
              "    <tr>\n",
              "      <th>1554</th>\n",
              "      <td>Информационная поддержка жизненного цикла изделий</td>\n",
              "      <td>0.999463</td>\n",
              "    </tr>\n",
              "    <tr>\n",
              "      <th>512</th>\n",
              "      <td>Методы и модели многомерного анализа данных / ...</td>\n",
              "      <td>0.999440</td>\n",
              "    </tr>\n",
              "  </tbody>\n",
              "</table>\n",
              "<p>3886 rows × 2 columns</p>\n",
              "</div>"
            ],
            "text/plain": [
              "                                                subject  cosine_similarity\n",
              "2346         Технология кваса и безалкогольных напитков           0.999991\n",
              "2347  Технология слабоалкогольных, безалкогольных на...           0.999990\n",
              "3481  Концептуальные и философские основания умных г...           0.999921\n",
              "44           Производственная, научно-исследовательская           0.999920\n",
              "50    Производственная, научно-исследовательская раб...           0.999920\n",
              "...                                                 ...                ...\n",
              "3017                   Управление пищевым производством           0.999506\n",
              "316      Технологии машинного обучения/Machine Learning           0.999504\n",
              "1315  Автоматизация технологической подготовки произ...           0.999480\n",
              "1554  Информационная поддержка жизненного цикла изделий           0.999463\n",
              "512   Методы и модели многомерного анализа данных / ...           0.999440\n",
              "\n",
              "[3886 rows x 2 columns]"
            ]
          },
          "metadata": {
            "tags": []
          },
          "execution_count": 81
        }
      ]
    }
  ]
}